{
 "cells": [
  {
   "cell_type": "markdown",
   "id": "810d9f10-ec19-4b09-8f90-e983e460b319",
   "metadata": {},
   "source": [
    "<center>\n",
    "<img src=\"https://laelgelcpublic.s3.sa-east-1.amazonaws.com/lael_50_years_narrow_white.png.no_years.400px_96dpi.png\" width=\"300\" alt=\"LAEL 50 years logo\">\n",
    "<h3>APPLIED LINGUISTICS GRADUATE PROGRAMME (LAEL)</h3>\n",
    "</center>\n",
    "<hr>"
   ]
  },
  {
   "cell_type": "markdown",
   "id": "888c2c96-2fc3-4a1a-995b-c388036a2a15",
   "metadata": {},
   "source": [
    "# Corpus Linguistics - Study 1 - Phase 1 - Andre"
   ]
  },
  {
   "cell_type": "markdown",
   "id": "0f3ad8a7-2d34-476b-be69-5d896b27d3ed",
   "metadata": {},
   "source": [
    "## Prerequisites"
   ]
  },
  {
   "cell_type": "markdown",
   "id": "0f1209cf-0515-45b3-8856-275ac692943e",
   "metadata": {},
   "source": [
    "Make sure the prerequisites in [CL_LMDA_prerequisites](https://github.com/laelgelc/laelgelc/blob/main/CL_LMDA_prerequisites.ipynb) are satisfied."
   ]
  },
  {
   "cell_type": "markdown",
   "id": "28897518-a858-4dc5-b510-49c9131da966",
   "metadata": {},
   "source": [
    "## Dataset"
   ]
  },
  {
   "cell_type": "markdown",
   "id": "a6f58941-1578-42c0-8933-d8ebef369245",
   "metadata": {},
   "source": [
    "Download the following dataset (Right-click on the link and choose `Open link in a new tab` to download the corresponding file):\n",
    "- [scraped.txt](https://pucsp-my.sharepoint.com/:t:/g/personal/ra00341729_pucsp_edu_br/EYWuLEGoFOxBhoUf1xGrXw8BnpxuRp8NKPmkRnMuIGuh9A?e=gBanyc)\n",
    "\n",
    "Move `scraped.txt` to the directory `tweets` and run the following command to remove the line numbering prefix and restore the file to `jsonl` format:"
   ]
  },
  {
   "cell_type": "markdown",
   "id": "a8e0f2ea-c3c6-4e37-896b-6e661beb6f48",
   "metadata": {},
   "source": [
    "```\n",
    "(my_env) eyamrog@Rog-ASUS:/mnt/c/Users/eyamr/Downloads/cl_st1_andre/tweets$ sed 's/^[0-9]\\+\\t//' scraped.txt > scraped.jsonl\n",
    "(my_env) eyamrog@Rog-ASUS:/mnt/c/Users/eyamr/Downloads/cl_st1_andre/tweets$ ll\n",
    "total 2990264\n",
    "drwxrwxrwx 1 eyamrog eyamrog        512 Nov 20 11:33 ./\n",
    "drwxrwxrwx 1 eyamrog eyamrog        512 Nov 20 11:15 ../\n",
    "-rwxrwxrwx 1 eyamrog eyamrog 1529466831 Nov 20 11:40 scraped.jsonl*\n",
    "-rwxrwxrwx 1 eyamrog eyamrog 1532562377 Nov 20 11:18 scraped.txt*\n",
    "(my_env) eyamrog@Rog-ASUS:/mnt/c/Users/eyamr/Downloads/cl_st1_andre/tweets$\n",
    "```"
   ]
  },
  {
   "cell_type": "markdown",
   "id": "7a9c2af7-9fc1-4f51-a4f5-2ed915b93039",
   "metadata": {},
   "source": [
    "## Importing the required libraries"
   ]
  },
  {
   "cell_type": "code",
   "execution_count": 1,
   "id": "e6689499-d19d-4b0c-befd-f88926b7105d",
   "metadata": {},
   "outputs": [],
   "source": [
    "import pandas as pd\n",
    "import demoji\n",
    "import re\n",
    "import os\n",
    "from collections import Counter"
   ]
  },
  {
   "cell_type": "markdown",
   "id": "9a79a002-c182-4021-9b77-99ad470582af",
   "metadata": {},
   "source": [
    "## Processing raw data"
   ]
  },
  {
   "cell_type": "markdown",
   "id": "66e37aae-8cee-42ca-91ff-10f882fc45c6",
   "metadata": {},
   "source": [
    "### Importing the tweet raw data into a DataFrame"
   ]
  },
  {
   "cell_type": "code",
   "execution_count": 2,
   "id": "8a762708-07e4-472d-b3e9-bb0cea14438c",
   "metadata": {},
   "outputs": [],
   "source": [
    "df_tweets_raw_data = pd.read_json('tweets/scraped.jsonl', lines=True)"
   ]
  },
  {
   "cell_type": "code",
   "execution_count": 3,
   "id": "623ddacd-5a20-4d89-a48e-98849a0644e9",
   "metadata": {},
   "outputs": [
    {
     "data": {
      "text/html": [
       "<div>\n",
       "<style scoped>\n",
       "    .dataframe tbody tr th:only-of-type {\n",
       "        vertical-align: middle;\n",
       "    }\n",
       "\n",
       "    .dataframe tbody tr th {\n",
       "        vertical-align: top;\n",
       "    }\n",
       "\n",
       "    .dataframe thead th {\n",
       "        text-align: right;\n",
       "    }\n",
       "</style>\n",
       "<table border=\"1\" class=\"dataframe\">\n",
       "  <thead>\n",
       "    <tr style=\"text-align: right;\">\n",
       "      <th></th>\n",
       "      <th>_type</th>\n",
       "      <th>url</th>\n",
       "      <th>date</th>\n",
       "      <th>content</th>\n",
       "      <th>renderedContent</th>\n",
       "      <th>id</th>\n",
       "      <th>user</th>\n",
       "      <th>replyCount</th>\n",
       "      <th>retweetCount</th>\n",
       "      <th>likeCount</th>\n",
       "      <th>...</th>\n",
       "      <th>media</th>\n",
       "      <th>retweetedTweet</th>\n",
       "      <th>quotedTweet</th>\n",
       "      <th>inReplyToTweetId</th>\n",
       "      <th>inReplyToUser</th>\n",
       "      <th>mentionedUsers</th>\n",
       "      <th>coordinates</th>\n",
       "      <th>place</th>\n",
       "      <th>hashtags</th>\n",
       "      <th>cashtags</th>\n",
       "    </tr>\n",
       "  </thead>\n",
       "  <tbody>\n",
       "    <tr>\n",
       "      <th>0</th>\n",
       "      <td>snscrape.modules.twitter.Tweet</td>\n",
       "      <td>https://twitter.com/Sulla87034393/status/15963...</td>\n",
       "      <td>2022-11-26 02:32:46+00:00</td>\n",
       "      <td>FORTE DO PINHERINHO CURITIBA  PR 25/11/2022 #s...</td>\n",
       "      <td>FORTE DO PINHERINHO CURITIBA  PR 25/11/2022 #s...</td>\n",
       "      <td>1596331097176113152</td>\n",
       "      <td>{'_type': 'snscrape.modules.twitter.User', 'us...</td>\n",
       "      <td>0</td>\n",
       "      <td>0</td>\n",
       "      <td>1</td>\n",
       "      <td>...</td>\n",
       "      <td>None</td>\n",
       "      <td>NaN</td>\n",
       "      <td>None</td>\n",
       "      <td>NaN</td>\n",
       "      <td>None</td>\n",
       "      <td>None</td>\n",
       "      <td>None</td>\n",
       "      <td>None</td>\n",
       "      <td>[sosffaa, todopoderemanadopovo, supremoeopovo,...</td>\n",
       "      <td>None</td>\n",
       "    </tr>\n",
       "    <tr>\n",
       "      <th>1</th>\n",
       "      <td>snscrape.modules.twitter.Tweet</td>\n",
       "      <td>https://twitter.com/Sid_Rog/status/15963286684...</td>\n",
       "      <td>2022-11-26 02:23:07+00:00</td>\n",
       "      <td>Força, Heróis Caminhoneiros! 🙏🏻🇧🇷🫡\\n\\n#Supremo...</td>\n",
       "      <td>Força, Heróis Caminhoneiros! 🙏🏻🇧🇷🫡\\n\\n#Supremo...</td>\n",
       "      <td>1596328668460384256</td>\n",
       "      <td>{'_type': 'snscrape.modules.twitter.User', 'us...</td>\n",
       "      <td>0</td>\n",
       "      <td>0</td>\n",
       "      <td>0</td>\n",
       "      <td>...</td>\n",
       "      <td>[{'_type': 'snscrape.modules.twitter.Photo', '...</td>\n",
       "      <td>NaN</td>\n",
       "      <td>None</td>\n",
       "      <td>NaN</td>\n",
       "      <td>None</td>\n",
       "      <td>None</td>\n",
       "      <td>None</td>\n",
       "      <td>None</td>\n",
       "      <td>[SupremoÉoPovo]</td>\n",
       "      <td>None</td>\n",
       "    </tr>\n",
       "    <tr>\n",
       "      <th>2</th>\n",
       "      <td>snscrape.modules.twitter.Tweet</td>\n",
       "      <td>https://twitter.com/calaisfer/status/159632727...</td>\n",
       "      <td>2022-11-26 02:17:35+00:00</td>\n",
       "      <td>O povo brasileiro não aceita mais ser roubado!...</td>\n",
       "      <td>O povo brasileiro não aceita mais ser roubado!...</td>\n",
       "      <td>1596327277662720001</td>\n",
       "      <td>{'_type': 'snscrape.modules.twitter.User', 'us...</td>\n",
       "      <td>0</td>\n",
       "      <td>1</td>\n",
       "      <td>3</td>\n",
       "      <td>...</td>\n",
       "      <td>[{'_type': 'snscrape.modules.twitter.Video', '...</td>\n",
       "      <td>NaN</td>\n",
       "      <td>None</td>\n",
       "      <td>NaN</td>\n",
       "      <td>None</td>\n",
       "      <td>None</td>\n",
       "      <td>None</td>\n",
       "      <td>None</td>\n",
       "      <td>[euautorizojairbolsonaro, SupremoEoPovo]</td>\n",
       "      <td>None</td>\n",
       "    </tr>\n",
       "    <tr>\n",
       "      <th>3</th>\n",
       "      <td>snscrape.modules.twitter.Tweet</td>\n",
       "      <td>https://twitter.com/Rosangelaabelha/status/159...</td>\n",
       "      <td>2022-11-26 02:06:21+00:00</td>\n",
       "      <td>#PovoNasRuas\\n#SupremoÉoPovo \\n#BrazilWAStolen...</td>\n",
       "      <td>#PovoNasRuas\\n#SupremoÉoPovo \\n#BrazilWAStolen...</td>\n",
       "      <td>1596324449581936640</td>\n",
       "      <td>{'_type': 'snscrape.modules.twitter.User', 'us...</td>\n",
       "      <td>0</td>\n",
       "      <td>0</td>\n",
       "      <td>1</td>\n",
       "      <td>...</td>\n",
       "      <td>None</td>\n",
       "      <td>NaN</td>\n",
       "      <td>{'_type': 'snscrape.modules.twitter.Tweet', 'u...</td>\n",
       "      <td>NaN</td>\n",
       "      <td>None</td>\n",
       "      <td>None</td>\n",
       "      <td>None</td>\n",
       "      <td>None</td>\n",
       "      <td>[PovoNasRuas, SupremoÉoPovo, BrazilWAStolen]</td>\n",
       "      <td>None</td>\n",
       "    </tr>\n",
       "    <tr>\n",
       "      <th>4</th>\n",
       "      <td>snscrape.modules.twitter.Tweet</td>\n",
       "      <td>https://twitter.com/jvc190174/status/159632360...</td>\n",
       "      <td>2022-11-26 02:03:01+00:00</td>\n",
       "      <td>GOIÂNIA  GO 25/11/2022 #sosffaa #todopodereman...</td>\n",
       "      <td>GOIÂNIA  GO 25/11/2022 #sosffaa #todopodereman...</td>\n",
       "      <td>1596323609949376512</td>\n",
       "      <td>{'_type': 'snscrape.modules.twitter.User', 'us...</td>\n",
       "      <td>0</td>\n",
       "      <td>2</td>\n",
       "      <td>1</td>\n",
       "      <td>...</td>\n",
       "      <td>None</td>\n",
       "      <td>NaN</td>\n",
       "      <td>None</td>\n",
       "      <td>NaN</td>\n",
       "      <td>None</td>\n",
       "      <td>None</td>\n",
       "      <td>None</td>\n",
       "      <td>None</td>\n",
       "      <td>[sosffaa, todopoderemanadopovo, supremoeopovo,...</td>\n",
       "      <td>None</td>\n",
       "    </tr>\n",
       "  </tbody>\n",
       "</table>\n",
       "<p>5 rows × 28 columns</p>\n",
       "</div>"
      ],
      "text/plain": [
       "                            _type  \\\n",
       "0  snscrape.modules.twitter.Tweet   \n",
       "1  snscrape.modules.twitter.Tweet   \n",
       "2  snscrape.modules.twitter.Tweet   \n",
       "3  snscrape.modules.twitter.Tweet   \n",
       "4  snscrape.modules.twitter.Tweet   \n",
       "\n",
       "                                                 url  \\\n",
       "0  https://twitter.com/Sulla87034393/status/15963...   \n",
       "1  https://twitter.com/Sid_Rog/status/15963286684...   \n",
       "2  https://twitter.com/calaisfer/status/159632727...   \n",
       "3  https://twitter.com/Rosangelaabelha/status/159...   \n",
       "4  https://twitter.com/jvc190174/status/159632360...   \n",
       "\n",
       "                       date  \\\n",
       "0 2022-11-26 02:32:46+00:00   \n",
       "1 2022-11-26 02:23:07+00:00   \n",
       "2 2022-11-26 02:17:35+00:00   \n",
       "3 2022-11-26 02:06:21+00:00   \n",
       "4 2022-11-26 02:03:01+00:00   \n",
       "\n",
       "                                             content  \\\n",
       "0  FORTE DO PINHERINHO CURITIBA  PR 25/11/2022 #s...   \n",
       "1  Força, Heróis Caminhoneiros! 🙏🏻🇧🇷🫡\\n\\n#Supremo...   \n",
       "2  O povo brasileiro não aceita mais ser roubado!...   \n",
       "3  #PovoNasRuas\\n#SupremoÉoPovo \\n#BrazilWAStolen...   \n",
       "4  GOIÂNIA  GO 25/11/2022 #sosffaa #todopodereman...   \n",
       "\n",
       "                                     renderedContent                   id  \\\n",
       "0  FORTE DO PINHERINHO CURITIBA  PR 25/11/2022 #s...  1596331097176113152   \n",
       "1  Força, Heróis Caminhoneiros! 🙏🏻🇧🇷🫡\\n\\n#Supremo...  1596328668460384256   \n",
       "2  O povo brasileiro não aceita mais ser roubado!...  1596327277662720001   \n",
       "3  #PovoNasRuas\\n#SupremoÉoPovo \\n#BrazilWAStolen...  1596324449581936640   \n",
       "4  GOIÂNIA  GO 25/11/2022 #sosffaa #todopodereman...  1596323609949376512   \n",
       "\n",
       "                                                user  replyCount  \\\n",
       "0  {'_type': 'snscrape.modules.twitter.User', 'us...           0   \n",
       "1  {'_type': 'snscrape.modules.twitter.User', 'us...           0   \n",
       "2  {'_type': 'snscrape.modules.twitter.User', 'us...           0   \n",
       "3  {'_type': 'snscrape.modules.twitter.User', 'us...           0   \n",
       "4  {'_type': 'snscrape.modules.twitter.User', 'us...           0   \n",
       "\n",
       "   retweetCount  likeCount  ...  \\\n",
       "0             0          1  ...   \n",
       "1             0          0  ...   \n",
       "2             1          3  ...   \n",
       "3             0          1  ...   \n",
       "4             2          1  ...   \n",
       "\n",
       "                                               media  retweetedTweet  \\\n",
       "0                                               None             NaN   \n",
       "1  [{'_type': 'snscrape.modules.twitter.Photo', '...             NaN   \n",
       "2  [{'_type': 'snscrape.modules.twitter.Video', '...             NaN   \n",
       "3                                               None             NaN   \n",
       "4                                               None             NaN   \n",
       "\n",
       "                                         quotedTweet inReplyToTweetId  \\\n",
       "0                                               None              NaN   \n",
       "1                                               None              NaN   \n",
       "2                                               None              NaN   \n",
       "3  {'_type': 'snscrape.modules.twitter.Tweet', 'u...              NaN   \n",
       "4                                               None              NaN   \n",
       "\n",
       "  inReplyToUser mentionedUsers coordinates place  \\\n",
       "0          None           None        None  None   \n",
       "1          None           None        None  None   \n",
       "2          None           None        None  None   \n",
       "3          None           None        None  None   \n",
       "4          None           None        None  None   \n",
       "\n",
       "                                            hashtags  cashtags  \n",
       "0  [sosffaa, todopoderemanadopovo, supremoeopovo,...      None  \n",
       "1                                    [SupremoÉoPovo]      None  \n",
       "2           [euautorizojairbolsonaro, SupremoEoPovo]      None  \n",
       "3       [PovoNasRuas, SupremoÉoPovo, BrazilWAStolen]      None  \n",
       "4  [sosffaa, todopoderemanadopovo, supremoeopovo,...      None  \n",
       "\n",
       "[5 rows x 28 columns]"
      ]
     },
     "execution_count": 3,
     "metadata": {},
     "output_type": "execute_result"
    }
   ],
   "source": [
    "df_tweets_raw_data.head(5)"
   ]
  },
  {
   "cell_type": "code",
   "execution_count": 4,
   "id": "43e11cf2-cb39-49ee-a601-58a4ec3caa7d",
   "metadata": {},
   "outputs": [
    {
     "data": {
      "text/plain": [
       "(458093, 28)"
      ]
     },
     "execution_count": 4,
     "metadata": {},
     "output_type": "execute_result"
    }
   ],
   "source": [
    "df_tweets_raw_data.shape"
   ]
  },
  {
   "cell_type": "markdown",
   "id": "03bd2975-f291-4fdb-9c2f-51dd6b8c269d",
   "metadata": {},
   "source": [
    "#### Inspecting a few tweets"
   ]
  },
  {
   "cell_type": "code",
   "execution_count": 5,
   "id": "6109d2f2-4cd1-43ce-86fe-7fb7f1ff8910",
   "metadata": {},
   "outputs": [
    {
     "data": {
      "text/plain": [
       "'Nunca antes da história, o BRASIL necessitou tanto do seu Povo. 🇧🇷\\n\\nEm frente (aos quartéis) e enfrente (o sistema sujo e colapsado). 👍🏻🇧🇷🫡\\n\\nO BRASIL e o POVO vencerão. 👍🏻🇧🇷🫡\\n\\n#SupremoÉoPovo https://t.co/TZr0FcLpoP'"
      ]
     },
     "execution_count": 5,
     "metadata": {},
     "output_type": "execute_result"
    }
   ],
   "source": [
    "df_tweets_raw_data.at[45, 'content']"
   ]
  },
  {
   "cell_type": "code",
   "execution_count": 6,
   "id": "fe1afb62-c069-4e75-9b41-c985a921d408",
   "metadata": {},
   "outputs": [
    {
     "data": {
      "text/plain": [
       "'Nunca antes da história, o BRASIL necessitou tanto do seu Povo. 🇧🇷\\n\\nEm frente (aos quartéis) e enfrente (o sistema sujo e colapsado). 👍🏻🇧🇷🫡\\n\\nO BRASIL e o POVO vencerão. 👍🏻🇧🇷🫡\\n\\n#SupremoÉoPovo https://t.co/TZr0FcLpoP'"
      ]
     },
     "execution_count": 6,
     "metadata": {},
     "output_type": "execute_result"
    }
   ],
   "source": [
    "df_tweets_raw_data.at[45, 'renderedContent']"
   ]
  },
  {
   "cell_type": "markdown",
   "id": "4277d732-f65b-4e0c-868d-16d2d38ef04b",
   "metadata": {},
   "source": [
    "### Inspecting the dataset and eliminating malformed data"
   ]
  },
  {
   "cell_type": "markdown",
   "id": "fe6a369a-af13-45f0-99b2-6ce5b6388a1c",
   "metadata": {},
   "source": [
    "#### Checking if data types are consistent"
   ]
  },
  {
   "cell_type": "code",
   "execution_count": 7,
   "id": "6795c314-cc1f-4acd-86a1-a4eada8a9bcb",
   "metadata": {},
   "outputs": [
    {
     "data": {
      "text/plain": [
       "_type                            object\n",
       "url                              object\n",
       "date                datetime64[ns, UTC]\n",
       "content                          object\n",
       "renderedContent                  object\n",
       "id                                int64\n",
       "user                             object\n",
       "replyCount                        int64\n",
       "retweetCount                      int64\n",
       "likeCount                         int64\n",
       "quoteCount                        int64\n",
       "conversationId                    int64\n",
       "lang                             object\n",
       "source                           object\n",
       "sourceUrl                        object\n",
       "sourceLabel                      object\n",
       "outlinks                         object\n",
       "tcooutlinks                      object\n",
       "media                            object\n",
       "retweetedTweet                  float64\n",
       "quotedTweet                      object\n",
       "inReplyToTweetId                float64\n",
       "inReplyToUser                    object\n",
       "mentionedUsers                   object\n",
       "coordinates                      object\n",
       "place                            object\n",
       "hashtags                         object\n",
       "cashtags                         object\n",
       "dtype: object"
      ]
     },
     "execution_count": 7,
     "metadata": {},
     "output_type": "execute_result"
    }
   ],
   "source": [
    "df_tweets_raw_data.dtypes"
   ]
  },
  {
   "cell_type": "markdown",
   "id": "30643060-8eaa-47e0-9a52-95f6fbd75515",
   "metadata": {},
   "source": [
    "#### Identifying rows that are empty in column `content`"
   ]
  },
  {
   "cell_type": "code",
   "execution_count": 8,
   "id": "e6de7bb2-56d3-41cb-9294-d19dbeca836b",
   "metadata": {},
   "outputs": [
    {
     "name": "stdout",
     "output_type": "stream",
     "text": [
      "0\n"
     ]
    }
   ],
   "source": [
    "print(df_tweets_raw_data['content'].isnull().sum())"
   ]
  },
  {
   "cell_type": "code",
   "execution_count": 9,
   "id": "ea9e9cf4-0f39-4cdc-84f0-84d8446eea53",
   "metadata": {},
   "outputs": [
    {
     "data": {
      "text/html": [
       "<div>\n",
       "<style scoped>\n",
       "    .dataframe tbody tr th:only-of-type {\n",
       "        vertical-align: middle;\n",
       "    }\n",
       "\n",
       "    .dataframe tbody tr th {\n",
       "        vertical-align: top;\n",
       "    }\n",
       "\n",
       "    .dataframe thead th {\n",
       "        text-align: right;\n",
       "    }\n",
       "</style>\n",
       "<table border=\"1\" class=\"dataframe\">\n",
       "  <thead>\n",
       "    <tr style=\"text-align: right;\">\n",
       "      <th></th>\n",
       "      <th>_type</th>\n",
       "      <th>url</th>\n",
       "      <th>date</th>\n",
       "      <th>content</th>\n",
       "      <th>renderedContent</th>\n",
       "      <th>id</th>\n",
       "      <th>user</th>\n",
       "      <th>replyCount</th>\n",
       "      <th>retweetCount</th>\n",
       "      <th>likeCount</th>\n",
       "      <th>...</th>\n",
       "      <th>media</th>\n",
       "      <th>retweetedTweet</th>\n",
       "      <th>quotedTweet</th>\n",
       "      <th>inReplyToTweetId</th>\n",
       "      <th>inReplyToUser</th>\n",
       "      <th>mentionedUsers</th>\n",
       "      <th>coordinates</th>\n",
       "      <th>place</th>\n",
       "      <th>hashtags</th>\n",
       "      <th>cashtags</th>\n",
       "    </tr>\n",
       "  </thead>\n",
       "  <tbody>\n",
       "  </tbody>\n",
       "</table>\n",
       "<p>0 rows × 28 columns</p>\n",
       "</div>"
      ],
      "text/plain": [
       "Empty DataFrame\n",
       "Columns: [_type, url, date, content, renderedContent, id, user, replyCount, retweetCount, likeCount, quoteCount, conversationId, lang, source, sourceUrl, sourceLabel, outlinks, tcooutlinks, media, retweetedTweet, quotedTweet, inReplyToTweetId, inReplyToUser, mentionedUsers, coordinates, place, hashtags, cashtags]\n",
       "Index: []\n",
       "\n",
       "[0 rows x 28 columns]"
      ]
     },
     "execution_count": 9,
     "metadata": {},
     "output_type": "execute_result"
    }
   ],
   "source": [
    "df_tweets_raw_data[df_tweets_raw_data['content'].isnull()]"
   ]
  },
  {
   "cell_type": "markdown",
   "id": "c4bbc61e-77c5-4339-99ed-e8aea3a1ec42",
   "metadata": {},
   "source": [
    "#### Dropping the rows that are empty in the column `content`"
   ]
  },
  {
   "cell_type": "code",
   "execution_count": 10,
   "id": "db62e8de-5e85-4474-9bf4-4c9342c2640b",
   "metadata": {},
   "outputs": [],
   "source": [
    "# Drop the rows whose column 'content' is NaN\n",
    "df_tweets_raw_data = df_tweets_raw_data.dropna(subset=['content'])\n",
    "\n",
    "# Reset the index\n",
    "df_tweets_raw_data = df_tweets_raw_data.reset_index(drop=True)"
   ]
  },
  {
   "cell_type": "code",
   "execution_count": 11,
   "id": "c44d9a76-464b-41ca-842a-921beae1c6ad",
   "metadata": {},
   "outputs": [
    {
     "name": "stdout",
     "output_type": "stream",
     "text": [
      "0\n"
     ]
    }
   ],
   "source": [
    "print(df_tweets_raw_data['content'].isnull().sum())"
   ]
  },
  {
   "cell_type": "markdown",
   "id": "c0db3847-c807-4504-9324-b114074300f8",
   "metadata": {},
   "source": [
    "## Sampling the raw data according to filtering expressions"
   ]
  },
  {
   "cell_type": "code",
   "execution_count": 12,
   "id": "b5ad9320-f6f3-4e55-9838-6863fb6df36f",
   "metadata": {},
   "outputs": [
    {
     "data": {
      "text/plain": [
       "(2905, 28)"
      ]
     },
     "execution_count": 12,
     "metadata": {},
     "output_type": "execute_result"
    }
   ],
   "source": [
    "# Combining multiple RegEx patterns using the logical OR operator\n",
    "patterns = r'\\bliberdade de expres\\w*|\\blivre expres\\w*|\\bliberdade de impr\\w*|\\bliberdade de pensa\\w*|\\blivre pensa\\w*|#liberdade\\w*'\n",
    "\n",
    "# Creating a boolean mask for filtering\n",
    "mask = df_tweets_raw_data['content'].str.contains(patterns, flags=re.IGNORECASE, regex=True)\n",
    "\n",
    "# Applying the mask to create 'df_tweets_filtered'\n",
    "df_tweets_filtered = df_tweets_raw_data[mask]\n",
    "df_tweets_filtered = df_tweets_filtered.reset_index(drop=True)\n",
    "df_tweets_filtered.shape"
   ]
  },
  {
   "cell_type": "code",
   "execution_count": 13,
   "id": "19db4718-37a5-4895-8f3c-cac12e4aa6c4",
   "metadata": {},
   "outputs": [
    {
     "data": {
      "text/html": [
       "<div>\n",
       "<style scoped>\n",
       "    .dataframe tbody tr th:only-of-type {\n",
       "        vertical-align: middle;\n",
       "    }\n",
       "\n",
       "    .dataframe tbody tr th {\n",
       "        vertical-align: top;\n",
       "    }\n",
       "\n",
       "    .dataframe thead th {\n",
       "        text-align: right;\n",
       "    }\n",
       "</style>\n",
       "<table border=\"1\" class=\"dataframe\">\n",
       "  <thead>\n",
       "    <tr style=\"text-align: right;\">\n",
       "      <th></th>\n",
       "      <th>_type</th>\n",
       "      <th>url</th>\n",
       "      <th>date</th>\n",
       "      <th>content</th>\n",
       "      <th>renderedContent</th>\n",
       "      <th>id</th>\n",
       "      <th>user</th>\n",
       "      <th>replyCount</th>\n",
       "      <th>retweetCount</th>\n",
       "      <th>likeCount</th>\n",
       "      <th>...</th>\n",
       "      <th>media</th>\n",
       "      <th>retweetedTweet</th>\n",
       "      <th>quotedTweet</th>\n",
       "      <th>inReplyToTweetId</th>\n",
       "      <th>inReplyToUser</th>\n",
       "      <th>mentionedUsers</th>\n",
       "      <th>coordinates</th>\n",
       "      <th>place</th>\n",
       "      <th>hashtags</th>\n",
       "      <th>cashtags</th>\n",
       "    </tr>\n",
       "  </thead>\n",
       "  <tbody>\n",
       "    <tr>\n",
       "      <th>0</th>\n",
       "      <td>snscrape.modules.twitter.Tweet</td>\n",
       "      <td>https://twitter.com/Luciane32890118/status/159...</td>\n",
       "      <td>2022-11-25 20:53:11+00:00</td>\n",
       "      <td>@leandroruschel Não, pois nossos direitos fora...</td>\n",
       "      <td>@leandroruschel Não, pois nossos direitos fora...</td>\n",
       "      <td>1596245639452823552</td>\n",
       "      <td>{'_type': 'snscrape.modules.twitter.User', 'us...</td>\n",
       "      <td>0</td>\n",
       "      <td>0</td>\n",
       "      <td>0</td>\n",
       "      <td>...</td>\n",
       "      <td>None</td>\n",
       "      <td>NaN</td>\n",
       "      <td>None</td>\n",
       "      <td>1.596123e+18</td>\n",
       "      <td>{'_type': 'snscrape.modules.twitter.User', 'us...</td>\n",
       "      <td>[{'_type': 'snscrape.modules.twitter.User', 'u...</td>\n",
       "      <td>None</td>\n",
       "      <td>None</td>\n",
       "      <td>[exoneracaoeprisaoparaAlexandredemoraes, Supre...</td>\n",
       "      <td>None</td>\n",
       "    </tr>\n",
       "    <tr>\n",
       "      <th>1</th>\n",
       "      <td>snscrape.modules.twitter.Tweet</td>\n",
       "      <td>https://twitter.com/deqqlugar/status/159617873...</td>\n",
       "      <td>2022-11-25 16:27:19+00:00</td>\n",
       "      <td>Retroceder, jamais! #Eleicoes2022 #BrazilWasSt...</td>\n",
       "      <td>Retroceder, jamais! #Eleicoes2022 #BrazilWasSt...</td>\n",
       "      <td>1596178731516600326</td>\n",
       "      <td>{'_type': 'snscrape.modules.twitter.User', 'us...</td>\n",
       "      <td>1</td>\n",
       "      <td>1</td>\n",
       "      <td>2</td>\n",
       "      <td>...</td>\n",
       "      <td>[{'_type': 'snscrape.modules.twitter.Video', '...</td>\n",
       "      <td>NaN</td>\n",
       "      <td>None</td>\n",
       "      <td>NaN</td>\n",
       "      <td>None</td>\n",
       "      <td>None</td>\n",
       "      <td>None</td>\n",
       "      <td>None</td>\n",
       "      <td>[Eleicoes2022, BrazilWasStolen, foracomunistas...</td>\n",
       "      <td>None</td>\n",
       "    </tr>\n",
       "    <tr>\n",
       "      <th>2</th>\n",
       "      <td>snscrape.modules.twitter.Tweet</td>\n",
       "      <td>https://twitter.com/Erikalrb86/status/15955925...</td>\n",
       "      <td>2022-11-24 01:38:07+00:00</td>\n",
       "      <td>A dit^dura da toga continua...\\n\\n#cpiabusodea...</td>\n",
       "      <td>A dit^dura da toga continua...\\n\\n#cpiabusodea...</td>\n",
       "      <td>1595592569072877568</td>\n",
       "      <td>{'_type': 'snscrape.modules.twitter.User', 'us...</td>\n",
       "      <td>0</td>\n",
       "      <td>0</td>\n",
       "      <td>1</td>\n",
       "      <td>...</td>\n",
       "      <td>None</td>\n",
       "      <td>NaN</td>\n",
       "      <td>None</td>\n",
       "      <td>NaN</td>\n",
       "      <td>None</td>\n",
       "      <td>None</td>\n",
       "      <td>None</td>\n",
       "      <td>None</td>\n",
       "      <td>[cpiabusodeautoridade, cpidatoga, cpilavatogaj...</td>\n",
       "      <td>None</td>\n",
       "    </tr>\n",
       "    <tr>\n",
       "      <th>3</th>\n",
       "      <td>snscrape.modules.twitter.Tweet</td>\n",
       "      <td>https://twitter.com/RaphaelRossiter/status/159...</td>\n",
       "      <td>2022-11-23 01:42:46+00:00</td>\n",
       "      <td>Queremos respostas, queremos  transparências d...</td>\n",
       "      <td>Queremos respostas, queremos  transparências d...</td>\n",
       "      <td>1595231350885388288</td>\n",
       "      <td>{'_type': 'snscrape.modules.twitter.User', 'us...</td>\n",
       "      <td>0</td>\n",
       "      <td>0</td>\n",
       "      <td>1</td>\n",
       "      <td>...</td>\n",
       "      <td>None</td>\n",
       "      <td>NaN</td>\n",
       "      <td>{'_type': 'snscrape.modules.twitter.Tweet', 'u...</td>\n",
       "      <td>NaN</td>\n",
       "      <td>None</td>\n",
       "      <td>None</td>\n",
       "      <td>None</td>\n",
       "      <td>None</td>\n",
       "      <td>[audienciapublica, TSE, STF, brazilwasstollen,...</td>\n",
       "      <td>None</td>\n",
       "    </tr>\n",
       "    <tr>\n",
       "      <th>4</th>\n",
       "      <td>snscrape.modules.twitter.Tweet</td>\n",
       "      <td>https://twitter.com/RaphaelRossiter/status/159...</td>\n",
       "      <td>2022-11-23 01:37:28+00:00</td>\n",
       "      <td>@estadaoverifica @TSEjusbr Queremos respostas,...</td>\n",
       "      <td>@estadaoverifica @TSEjusbr Queremos respostas,...</td>\n",
       "      <td>1595230016480186368</td>\n",
       "      <td>{'_type': 'snscrape.modules.twitter.User', 'us...</td>\n",
       "      <td>1</td>\n",
       "      <td>0</td>\n",
       "      <td>5</td>\n",
       "      <td>...</td>\n",
       "      <td>None</td>\n",
       "      <td>NaN</td>\n",
       "      <td>None</td>\n",
       "      <td>1.595158e+18</td>\n",
       "      <td>{'_type': 'snscrape.modules.twitter.User', 'us...</td>\n",
       "      <td>[{'_type': 'snscrape.modules.twitter.User', 'u...</td>\n",
       "      <td>None</td>\n",
       "      <td>None</td>\n",
       "      <td>[audienciapublica, TSE, STF, brazilwasstollen,...</td>\n",
       "      <td>None</td>\n",
       "    </tr>\n",
       "    <tr>\n",
       "      <th>...</th>\n",
       "      <td>...</td>\n",
       "      <td>...</td>\n",
       "      <td>...</td>\n",
       "      <td>...</td>\n",
       "      <td>...</td>\n",
       "      <td>...</td>\n",
       "      <td>...</td>\n",
       "      <td>...</td>\n",
       "      <td>...</td>\n",
       "      <td>...</td>\n",
       "      <td>...</td>\n",
       "      <td>...</td>\n",
       "      <td>...</td>\n",
       "      <td>...</td>\n",
       "      <td>...</td>\n",
       "      <td>...</td>\n",
       "      <td>...</td>\n",
       "      <td>...</td>\n",
       "      <td>...</td>\n",
       "      <td>...</td>\n",
       "      <td>...</td>\n",
       "    </tr>\n",
       "    <tr>\n",
       "      <th>2900</th>\n",
       "      <td>snscrape.modules.twitter.Tweet</td>\n",
       "      <td>https://twitter.com/Norma25714352/status/14150...</td>\n",
       "      <td>2021-07-13 22:46:03+00:00</td>\n",
       "      <td>@AlanLopesRio #DanielSilveiraPresoPolitico #Li...</td>\n",
       "      <td>@AlanLopesRio #DanielSilveiraPresoPolitico #Li...</td>\n",
       "      <td>1415080109934063616</td>\n",
       "      <td>{'_type': 'snscrape.modules.twitter.User', 'us...</td>\n",
       "      <td>0</td>\n",
       "      <td>0</td>\n",
       "      <td>0</td>\n",
       "      <td>...</td>\n",
       "      <td>None</td>\n",
       "      <td>NaN</td>\n",
       "      <td>None</td>\n",
       "      <td>1.412828e+18</td>\n",
       "      <td>{'_type': 'snscrape.modules.twitter.User', 'us...</td>\n",
       "      <td>[{'_type': 'snscrape.modules.twitter.User', 'u...</td>\n",
       "      <td>None</td>\n",
       "      <td>None</td>\n",
       "      <td>[DanielSilveiraPresoPolitico, LiberdadeParaDan...</td>\n",
       "      <td>None</td>\n",
       "    </tr>\n",
       "    <tr>\n",
       "      <th>2901</th>\n",
       "      <td>snscrape.modules.twitter.Tweet</td>\n",
       "      <td>https://twitter.com/Norma25714352/status/14150...</td>\n",
       "      <td>2021-07-13 22:45:37+00:00</td>\n",
       "      <td>@Saldanha_BrasiI @danielPMERJ #DanielSilveiraP...</td>\n",
       "      <td>@Saldanha_BrasiI @danielPMERJ #DanielSilveiraP...</td>\n",
       "      <td>1415079998445269003</td>\n",
       "      <td>{'_type': 'snscrape.modules.twitter.User', 'us...</td>\n",
       "      <td>0</td>\n",
       "      <td>0</td>\n",
       "      <td>0</td>\n",
       "      <td>...</td>\n",
       "      <td>None</td>\n",
       "      <td>NaN</td>\n",
       "      <td>None</td>\n",
       "      <td>1.414333e+18</td>\n",
       "      <td>{'_type': 'snscrape.modules.twitter.User', 'us...</td>\n",
       "      <td>[{'_type': 'snscrape.modules.twitter.User', 'u...</td>\n",
       "      <td>None</td>\n",
       "      <td>None</td>\n",
       "      <td>[DanielSilveiraPresoPolitico, LiberdadeParaDan...</td>\n",
       "      <td>None</td>\n",
       "    </tr>\n",
       "    <tr>\n",
       "      <th>2902</th>\n",
       "      <td>snscrape.modules.twitter.Tweet</td>\n",
       "      <td>https://twitter.com/Norma25714352/status/14150...</td>\n",
       "      <td>2021-07-13 22:45:17+00:00</td>\n",
       "      <td>@revistaoeste #DanielSilveiraPresoPolitico #Li...</td>\n",
       "      <td>@revistaoeste #DanielSilveiraPresoPolitico #Li...</td>\n",
       "      <td>1415079916811558917</td>\n",
       "      <td>{'_type': 'snscrape.modules.twitter.User', 'us...</td>\n",
       "      <td>0</td>\n",
       "      <td>0</td>\n",
       "      <td>0</td>\n",
       "      <td>...</td>\n",
       "      <td>None</td>\n",
       "      <td>NaN</td>\n",
       "      <td>None</td>\n",
       "      <td>1.412532e+18</td>\n",
       "      <td>{'_type': 'snscrape.modules.twitter.User', 'us...</td>\n",
       "      <td>[{'_type': 'snscrape.modules.twitter.User', 'u...</td>\n",
       "      <td>None</td>\n",
       "      <td>None</td>\n",
       "      <td>[DanielSilveiraPresoPolitico, LiberdadeParaDan...</td>\n",
       "      <td>None</td>\n",
       "    </tr>\n",
       "    <tr>\n",
       "      <th>2903</th>\n",
       "      <td>snscrape.modules.twitter.Tweet</td>\n",
       "      <td>https://twitter.com/Norma25714352/status/14150...</td>\n",
       "      <td>2021-07-13 22:44:51+00:00</td>\n",
       "      <td>@PaolaSDaniel #DanielSilveiraPresoPolitico #Li...</td>\n",
       "      <td>@PaolaSDaniel #DanielSilveiraPresoPolitico #Li...</td>\n",
       "      <td>1415079806652362753</td>\n",
       "      <td>{'_type': 'snscrape.modules.twitter.User', 'us...</td>\n",
       "      <td>0</td>\n",
       "      <td>0</td>\n",
       "      <td>0</td>\n",
       "      <td>...</td>\n",
       "      <td>None</td>\n",
       "      <td>NaN</td>\n",
       "      <td>None</td>\n",
       "      <td>1.411442e+18</td>\n",
       "      <td>{'_type': 'snscrape.modules.twitter.User', 'us...</td>\n",
       "      <td>[{'_type': 'snscrape.modules.twitter.User', 'u...</td>\n",
       "      <td>None</td>\n",
       "      <td>None</td>\n",
       "      <td>[DanielSilveiraPresoPolitico, LiberdadeParaDan...</td>\n",
       "      <td>None</td>\n",
       "    </tr>\n",
       "    <tr>\n",
       "      <th>2904</th>\n",
       "      <td>snscrape.modules.twitter.Tweet</td>\n",
       "      <td>https://twitter.com/Norma25714352/status/14150...</td>\n",
       "      <td>2021-07-13 22:37:08+00:00</td>\n",
       "      <td>@IaraCruzBrasil @IzabelleFores #DanielSilveira...</td>\n",
       "      <td>@IaraCruzBrasil @IzabelleFores #DanielSilveira...</td>\n",
       "      <td>1415077862772719628</td>\n",
       "      <td>{'_type': 'snscrape.modules.twitter.User', 'us...</td>\n",
       "      <td>0</td>\n",
       "      <td>0</td>\n",
       "      <td>0</td>\n",
       "      <td>...</td>\n",
       "      <td>None</td>\n",
       "      <td>NaN</td>\n",
       "      <td>None</td>\n",
       "      <td>NaN</td>\n",
       "      <td>None</td>\n",
       "      <td>[{'_type': 'snscrape.modules.twitter.User', 'u...</td>\n",
       "      <td>None</td>\n",
       "      <td>None</td>\n",
       "      <td>[DanielSilveiraPresoPolitico, LiberdadeParaDan...</td>\n",
       "      <td>None</td>\n",
       "    </tr>\n",
       "  </tbody>\n",
       "</table>\n",
       "<p>2905 rows × 28 columns</p>\n",
       "</div>"
      ],
      "text/plain": [
       "                               _type  \\\n",
       "0     snscrape.modules.twitter.Tweet   \n",
       "1     snscrape.modules.twitter.Tweet   \n",
       "2     snscrape.modules.twitter.Tweet   \n",
       "3     snscrape.modules.twitter.Tweet   \n",
       "4     snscrape.modules.twitter.Tweet   \n",
       "...                              ...   \n",
       "2900  snscrape.modules.twitter.Tweet   \n",
       "2901  snscrape.modules.twitter.Tweet   \n",
       "2902  snscrape.modules.twitter.Tweet   \n",
       "2903  snscrape.modules.twitter.Tweet   \n",
       "2904  snscrape.modules.twitter.Tweet   \n",
       "\n",
       "                                                    url  \\\n",
       "0     https://twitter.com/Luciane32890118/status/159...   \n",
       "1     https://twitter.com/deqqlugar/status/159617873...   \n",
       "2     https://twitter.com/Erikalrb86/status/15955925...   \n",
       "3     https://twitter.com/RaphaelRossiter/status/159...   \n",
       "4     https://twitter.com/RaphaelRossiter/status/159...   \n",
       "...                                                 ...   \n",
       "2900  https://twitter.com/Norma25714352/status/14150...   \n",
       "2901  https://twitter.com/Norma25714352/status/14150...   \n",
       "2902  https://twitter.com/Norma25714352/status/14150...   \n",
       "2903  https://twitter.com/Norma25714352/status/14150...   \n",
       "2904  https://twitter.com/Norma25714352/status/14150...   \n",
       "\n",
       "                          date  \\\n",
       "0    2022-11-25 20:53:11+00:00   \n",
       "1    2022-11-25 16:27:19+00:00   \n",
       "2    2022-11-24 01:38:07+00:00   \n",
       "3    2022-11-23 01:42:46+00:00   \n",
       "4    2022-11-23 01:37:28+00:00   \n",
       "...                        ...   \n",
       "2900 2021-07-13 22:46:03+00:00   \n",
       "2901 2021-07-13 22:45:37+00:00   \n",
       "2902 2021-07-13 22:45:17+00:00   \n",
       "2903 2021-07-13 22:44:51+00:00   \n",
       "2904 2021-07-13 22:37:08+00:00   \n",
       "\n",
       "                                                content  \\\n",
       "0     @leandroruschel Não, pois nossos direitos fora...   \n",
       "1     Retroceder, jamais! #Eleicoes2022 #BrazilWasSt...   \n",
       "2     A dit^dura da toga continua...\\n\\n#cpiabusodea...   \n",
       "3     Queremos respostas, queremos  transparências d...   \n",
       "4     @estadaoverifica @TSEjusbr Queremos respostas,...   \n",
       "...                                                 ...   \n",
       "2900  @AlanLopesRio #DanielSilveiraPresoPolitico #Li...   \n",
       "2901  @Saldanha_BrasiI @danielPMERJ #DanielSilveiraP...   \n",
       "2902  @revistaoeste #DanielSilveiraPresoPolitico #Li...   \n",
       "2903  @PaolaSDaniel #DanielSilveiraPresoPolitico #Li...   \n",
       "2904  @IaraCruzBrasil @IzabelleFores #DanielSilveira...   \n",
       "\n",
       "                                        renderedContent                   id  \\\n",
       "0     @leandroruschel Não, pois nossos direitos fora...  1596245639452823552   \n",
       "1     Retroceder, jamais! #Eleicoes2022 #BrazilWasSt...  1596178731516600326   \n",
       "2     A dit^dura da toga continua...\\n\\n#cpiabusodea...  1595592569072877568   \n",
       "3     Queremos respostas, queremos  transparências d...  1595231350885388288   \n",
       "4     @estadaoverifica @TSEjusbr Queremos respostas,...  1595230016480186368   \n",
       "...                                                 ...                  ...   \n",
       "2900  @AlanLopesRio #DanielSilveiraPresoPolitico #Li...  1415080109934063616   \n",
       "2901  @Saldanha_BrasiI @danielPMERJ #DanielSilveiraP...  1415079998445269003   \n",
       "2902  @revistaoeste #DanielSilveiraPresoPolitico #Li...  1415079916811558917   \n",
       "2903  @PaolaSDaniel #DanielSilveiraPresoPolitico #Li...  1415079806652362753   \n",
       "2904  @IaraCruzBrasil @IzabelleFores #DanielSilveira...  1415077862772719628   \n",
       "\n",
       "                                                   user  replyCount  \\\n",
       "0     {'_type': 'snscrape.modules.twitter.User', 'us...           0   \n",
       "1     {'_type': 'snscrape.modules.twitter.User', 'us...           1   \n",
       "2     {'_type': 'snscrape.modules.twitter.User', 'us...           0   \n",
       "3     {'_type': 'snscrape.modules.twitter.User', 'us...           0   \n",
       "4     {'_type': 'snscrape.modules.twitter.User', 'us...           1   \n",
       "...                                                 ...         ...   \n",
       "2900  {'_type': 'snscrape.modules.twitter.User', 'us...           0   \n",
       "2901  {'_type': 'snscrape.modules.twitter.User', 'us...           0   \n",
       "2902  {'_type': 'snscrape.modules.twitter.User', 'us...           0   \n",
       "2903  {'_type': 'snscrape.modules.twitter.User', 'us...           0   \n",
       "2904  {'_type': 'snscrape.modules.twitter.User', 'us...           0   \n",
       "\n",
       "      retweetCount  likeCount  ...  \\\n",
       "0                0          0  ...   \n",
       "1                1          2  ...   \n",
       "2                0          1  ...   \n",
       "3                0          1  ...   \n",
       "4                0          5  ...   \n",
       "...            ...        ...  ...   \n",
       "2900             0          0  ...   \n",
       "2901             0          0  ...   \n",
       "2902             0          0  ...   \n",
       "2903             0          0  ...   \n",
       "2904             0          0  ...   \n",
       "\n",
       "                                                  media  retweetedTweet  \\\n",
       "0                                                  None             NaN   \n",
       "1     [{'_type': 'snscrape.modules.twitter.Video', '...             NaN   \n",
       "2                                                  None             NaN   \n",
       "3                                                  None             NaN   \n",
       "4                                                  None             NaN   \n",
       "...                                                 ...             ...   \n",
       "2900                                               None             NaN   \n",
       "2901                                               None             NaN   \n",
       "2902                                               None             NaN   \n",
       "2903                                               None             NaN   \n",
       "2904                                               None             NaN   \n",
       "\n",
       "                                            quotedTweet inReplyToTweetId  \\\n",
       "0                                                  None     1.596123e+18   \n",
       "1                                                  None              NaN   \n",
       "2                                                  None              NaN   \n",
       "3     {'_type': 'snscrape.modules.twitter.Tweet', 'u...              NaN   \n",
       "4                                                  None     1.595158e+18   \n",
       "...                                                 ...              ...   \n",
       "2900                                               None     1.412828e+18   \n",
       "2901                                               None     1.414333e+18   \n",
       "2902                                               None     1.412532e+18   \n",
       "2903                                               None     1.411442e+18   \n",
       "2904                                               None              NaN   \n",
       "\n",
       "                                          inReplyToUser  \\\n",
       "0     {'_type': 'snscrape.modules.twitter.User', 'us...   \n",
       "1                                                  None   \n",
       "2                                                  None   \n",
       "3                                                  None   \n",
       "4     {'_type': 'snscrape.modules.twitter.User', 'us...   \n",
       "...                                                 ...   \n",
       "2900  {'_type': 'snscrape.modules.twitter.User', 'us...   \n",
       "2901  {'_type': 'snscrape.modules.twitter.User', 'us...   \n",
       "2902  {'_type': 'snscrape.modules.twitter.User', 'us...   \n",
       "2903  {'_type': 'snscrape.modules.twitter.User', 'us...   \n",
       "2904                                               None   \n",
       "\n",
       "                                         mentionedUsers coordinates place  \\\n",
       "0     [{'_type': 'snscrape.modules.twitter.User', 'u...        None  None   \n",
       "1                                                  None        None  None   \n",
       "2                                                  None        None  None   \n",
       "3                                                  None        None  None   \n",
       "4     [{'_type': 'snscrape.modules.twitter.User', 'u...        None  None   \n",
       "...                                                 ...         ...   ...   \n",
       "2900  [{'_type': 'snscrape.modules.twitter.User', 'u...        None  None   \n",
       "2901  [{'_type': 'snscrape.modules.twitter.User', 'u...        None  None   \n",
       "2902  [{'_type': 'snscrape.modules.twitter.User', 'u...        None  None   \n",
       "2903  [{'_type': 'snscrape.modules.twitter.User', 'u...        None  None   \n",
       "2904  [{'_type': 'snscrape.modules.twitter.User', 'u...        None  None   \n",
       "\n",
       "                                               hashtags  cashtags  \n",
       "0     [exoneracaoeprisaoparaAlexandredemoraes, Supre...      None  \n",
       "1     [Eleicoes2022, BrazilWasStolen, foracomunistas...      None  \n",
       "2     [cpiabusodeautoridade, cpidatoga, cpilavatogaj...      None  \n",
       "3     [audienciapublica, TSE, STF, brazilwasstollen,...      None  \n",
       "4     [audienciapublica, TSE, STF, brazilwasstollen,...      None  \n",
       "...                                                 ...       ...  \n",
       "2900  [DanielSilveiraPresoPolitico, LiberdadeParaDan...      None  \n",
       "2901  [DanielSilveiraPresoPolitico, LiberdadeParaDan...      None  \n",
       "2902  [DanielSilveiraPresoPolitico, LiberdadeParaDan...      None  \n",
       "2903  [DanielSilveiraPresoPolitico, LiberdadeParaDan...      None  \n",
       "2904  [DanielSilveiraPresoPolitico, LiberdadeParaDan...      None  \n",
       "\n",
       "[2905 rows x 28 columns]"
      ]
     },
     "execution_count": 13,
     "metadata": {},
     "output_type": "execute_result"
    }
   ],
   "source": [
    "df_tweets_filtered"
   ]
  },
  {
   "cell_type": "markdown",
   "id": "ffd7b9f3-f73c-4427-bbc2-f88dba9bfc38",
   "metadata": {},
   "source": [
    "## Cleaning data"
   ]
  },
  {
   "cell_type": "markdown",
   "id": "7abe51d6-4174-4832-9d2c-20b1753633e0",
   "metadata": {},
   "source": [
    "### Removing specific Unicode characters"
   ]
  },
  {
   "cell_type": "markdown",
   "id": "ff8053cb-d88b-490b-9072-b6593423edca",
   "metadata": {},
   "source": [
    "The dataset may need to be cleaned of invisible Unicode characters."
   ]
  },
  {
   "cell_type": "markdown",
   "id": "b32f15e4-6ed4-48ae-b37d-2ba56c3fdbf6",
   "metadata": {},
   "source": [
    "##### Detecting `U+2066` and `U+2069` characters"
   ]
  },
  {
   "cell_type": "markdown",
   "id": "2f183cff-0aa9-4e51-af60-cfdf1dda639c",
   "metadata": {},
   "source": [
    "- [U+2066](https://www.compart.com/en/unicode/U+2066)\n",
    "- [U+2069](https://www.compart.com/en/unicode/U+2069)"
   ]
  },
  {
   "cell_type": "markdown",
   "id": "4543782b-fa73-4c34-aa36-5cbbaa2ea829",
   "metadata": {},
   "source": [
    "Please refer to:\n",
    "- [Python RegEx](https://www.w3schools.com/python/python_regex.asp)\n",
    "- [regex101](https://regex101.com/)\n",
    "- [RegExr](https://regexr.com/)"
   ]
  },
  {
   "cell_type": "code",
   "execution_count": 14,
   "id": "569db1bb-d6ee-4eca-8383-5dfb522f35aa",
   "metadata": {},
   "outputs": [
    {
     "name": "stdout",
     "output_type": "stream",
     "text": [
      "Character ⁦: Count = 4\n",
      "Character ⁩: Count = 2\n"
     ]
    }
   ],
   "source": [
    "# Defining a function to detect specific Unicode characters\n",
    "def extract_unicode_characters(df, column_name):\n",
    "    unicode_chars = Counter()  # Initialize a Counter to store Unicode character counts\n",
    "\n",
    "    for value in df[column_name]:\n",
    "        if isinstance(value, str):\n",
    "            # Use RegEx to find non-ASCII characters (Unicode)\n",
    "#            non_ascii_chars = re.findall(r'[^\\x00-\\x7F]+', value)\n",
    "            # Use RegEx to find specific Unicode characters - adjust the expression accordingly\n",
    "            specific_unicode_chars = re.findall(r'[\\u2066\\u2069]', value)\n",
    "            unicode_chars.update(specific_unicode_chars)\n",
    "\n",
    "    return unicode_chars\n",
    "\n",
    "# Inspect the dataframe for specific Unicode characters\n",
    "unicode_counts = extract_unicode_characters(df_tweets_filtered, 'content')\n",
    "\n",
    "# Print the results\n",
    "for char, count in unicode_counts.items():\n",
    "    print(f'Character {char}: Count = {count}')"
   ]
  },
  {
   "cell_type": "markdown",
   "id": "638428bd-0874-4f13-b417-305c5ccab1b0",
   "metadata": {},
   "source": [
    "#### Removing `U+2066` and `U+2069` characters"
   ]
  },
  {
   "cell_type": "code",
   "execution_count": 15,
   "id": "795d7929-bb59-4417-87e5-1448a3662264",
   "metadata": {},
   "outputs": [],
   "source": [
    "# Defining a function to remove specific Unicode characters\n",
    "def remove_specific_unicode(input_line):\n",
    "    # Using RegEx to replace specific Unicode characters - adjust the expression accordingly\n",
    "    cleaned_line = re.sub(r'[\\u2066\\u2069]', '', input_line)\n",
    "    return cleaned_line\n",
    "\n",
    "# Removing specific Unicode characters\n",
    "df_tweets_filtered['content'] = df_tweets_filtered['content'].apply(remove_specific_unicode)"
   ]
  },
  {
   "cell_type": "markdown",
   "id": "d4c26537-d037-4167-ba31-841f90f209ff",
   "metadata": {},
   "source": [
    "### Replacing the `LF` character by a space"
   ]
  },
  {
   "cell_type": "markdown",
   "id": "ebfc0fd7-8f66-4320-b3fa-05443bb7f8d1",
   "metadata": {},
   "source": [
    "Some tweets, especially the retweeted ones, contain multiple lines of text."
   ]
  },
  {
   "cell_type": "code",
   "execution_count": 16,
   "id": "566a880a-7a43-4438-9455-36d5083678c2",
   "metadata": {},
   "outputs": [],
   "source": [
    "# Defining a function to replace the `LF` character by a space\n",
    "def remove_cr_lf(input_line):\n",
    "    # Using RegEx to replace LF by a space\n",
    "    cleaned_line = re.sub(r'\\n', ' ', input_line)\n",
    "    return cleaned_line\n",
    "\n",
    "# Applying the function to the 'content' column in your DataFrame\n",
    "df_tweets_filtered['content'] = df_tweets_filtered['content'].apply(remove_cr_lf)"
   ]
  },
  {
   "cell_type": "markdown",
   "id": "3a5d9f80-d94b-4b79-b908-c1a7fedac755",
   "metadata": {},
   "source": [
    "### Replacing the `U+00A0` (No-Break Space) character by a space"
   ]
  },
  {
   "cell_type": "code",
   "execution_count": 17,
   "id": "df9e5601-e1fe-4964-9fee-615bb6d9440c",
   "metadata": {},
   "outputs": [],
   "source": [
    "# Defining a function to replace the `U+A0` character by a space\n",
    "def replace_no_break_space(input_line):\n",
    "    # Using RegEx to replace LF by a space\n",
    "    cleaned_line = re.sub(r'\\u00a0', ' ', input_line)\n",
    "    return cleaned_line\n",
    "\n",
    "# Applying the function to the 'content' column in your DataFrame\n",
    "df_tweets_filtered['content'] = df_tweets_filtered['content'].apply(replace_no_break_space)"
   ]
  },
  {
   "cell_type": "markdown",
   "id": "c3138a6d-1946-41bb-a945-8b8ec93ce8a7",
   "metadata": {},
   "source": [
    "### Removing URLs"
   ]
  },
  {
   "cell_type": "code",
   "execution_count": 18,
   "id": "14d46b9d-f332-4161-b627-d94e7257198a",
   "metadata": {},
   "outputs": [],
   "source": [
    "# Defining a function to remove URLs\n",
    "def remove_urls(input_string):\n",
    "    modified_string = re.sub(r\"((http|https):\\/\\/)?([a-zA-Z0-9-]+\\.)+[a-zA-Z]{2,6}(\\/[a-zA-Z0-9-._~:\\/?#[\\]@!$&'()*+,;=]*)?\\/?\", 'url', input_string)\n",
    "    return modified_string\n",
    "\n",
    "# Removing URLs\n",
    "df_tweets_filtered['content'] = df_tweets_filtered['content'].apply(remove_urls)"
   ]
  },
  {
   "cell_type": "code",
   "execution_count": 19,
   "id": "2f01503d-5a1e-4202-a99e-11839e919216",
   "metadata": {},
   "outputs": [
    {
     "data": {
      "text/plain": [
       "(2905, 28)"
      ]
     },
     "execution_count": 19,
     "metadata": {},
     "output_type": "execute_result"
    }
   ],
   "source": [
    "df_tweets_filtered.shape"
   ]
  },
  {
   "cell_type": "markdown",
   "id": "caf86646-b7f3-4f46-8980-aa0a09beb7af",
   "metadata": {},
   "source": [
    "### Dropping duplicates"
   ]
  },
  {
   "cell_type": "markdown",
   "id": "ea3d40c1-7ff5-4696-9cac-d5cb94283f85",
   "metadata": {},
   "source": [
    "#### Duplicate tweets"
   ]
  },
  {
   "cell_type": "markdown",
   "id": "2c4b18f2-d620-440d-96b5-19cef9dcef8a",
   "metadata": {},
   "source": [
    "Tweets that bear the same 'url' are duplicates - we are going to keep only the first."
   ]
  },
  {
   "cell_type": "code",
   "execution_count": 20,
   "id": "ed5a0b5e-d531-4e92-a16c-58d49cae2a37",
   "metadata": {},
   "outputs": [
    {
     "data": {
      "text/plain": [
       "(2335, 28)"
      ]
     },
     "execution_count": 20,
     "metadata": {},
     "output_type": "execute_result"
    }
   ],
   "source": [
    "df_tweets_filtered.drop_duplicates(subset='url', keep='first', inplace=True)\n",
    "df_tweets_filtered = df_tweets_filtered.reset_index(drop=True)\n",
    "df_tweets_filtered.shape"
   ]
  },
  {
   "cell_type": "markdown",
   "id": "c7224b06-65a7-4102-a453-72fe54dfb05d",
   "metadata": {},
   "source": [
    "#### @mentioned tweets"
   ]
  },
  {
   "cell_type": "markdown",
   "id": "efd8b3a2-54c3-4d84-8757-80b1bbcb7365",
   "metadata": {},
   "source": [
    "A few users @mention copies of tweets towards other specific users creating multiple copies of the same tweet - those duplicates should be removed."
   ]
  },
  {
   "cell_type": "code",
   "execution_count": 21,
   "id": "bee2afc1-5c61-4212-9dc7-001aec574324",
   "metadata": {},
   "outputs": [
    {
     "data": {
      "text/plain": [
       "(2083, 29)"
      ]
     },
     "execution_count": 21,
     "metadata": {},
     "output_type": "execute_result"
    }
   ],
   "source": [
    "# Create a new column 'no_mention' containing the contents of the column 'content' without any preceding @mentions\n",
    "df_tweets_filtered['no_mention'] = df_tweets_filtered['content'].str.replace(r'@\\w+\\s*', '', regex=True)\n",
    "\n",
    "# Drop duplicate rows except the first occurrence based on 'no_mention'\n",
    "df_tweets_filtered.drop_duplicates(subset='no_mention', keep='first', inplace=True)\n",
    "df_tweets_filtered = df_tweets_filtered.reset_index(drop=True)\n",
    "df_tweets_filtered.shape"
   ]
  },
  {
   "cell_type": "markdown",
   "id": "6093e6da-d016-4cad-8c86-2a4f1a77feaf",
   "metadata": {},
   "source": [
    "#### Duplicate texts"
   ]
  },
  {
   "cell_type": "markdown",
   "id": "6d87997c-3e18-4519-b3a0-7920115a7e76",
   "metadata": {},
   "source": [
    "Checking for identical posts in terms of content of the column `content` in order to eliminate duplicates."
   ]
  },
  {
   "cell_type": "code",
   "execution_count": 22,
   "id": "83e9b40c-c54d-4bea-bc49-f332d9d01224",
   "metadata": {},
   "outputs": [
    {
     "data": {
      "text/plain": [
       "(2083, 29)"
      ]
     },
     "execution_count": 22,
     "metadata": {},
     "output_type": "execute_result"
    }
   ],
   "source": [
    "df_tweets_filtered.drop_duplicates(subset='content', keep='first', inplace=True)\n",
    "df_tweets_filtered = df_tweets_filtered.reset_index(drop=True)\n",
    "df_tweets_filtered.shape"
   ]
  },
  {
   "cell_type": "code",
   "execution_count": 23,
   "id": "0d223801-9d93-422f-86af-804306b3c4e1",
   "metadata": {},
   "outputs": [
    {
     "data": {
      "text/html": [
       "<div>\n",
       "<style scoped>\n",
       "    .dataframe tbody tr th:only-of-type {\n",
       "        vertical-align: middle;\n",
       "    }\n",
       "\n",
       "    .dataframe tbody tr th {\n",
       "        vertical-align: top;\n",
       "    }\n",
       "\n",
       "    .dataframe thead th {\n",
       "        text-align: right;\n",
       "    }\n",
       "</style>\n",
       "<table border=\"1\" class=\"dataframe\">\n",
       "  <thead>\n",
       "    <tr style=\"text-align: right;\">\n",
       "      <th></th>\n",
       "      <th>_type</th>\n",
       "      <th>url</th>\n",
       "      <th>date</th>\n",
       "      <th>content</th>\n",
       "      <th>renderedContent</th>\n",
       "      <th>id</th>\n",
       "      <th>user</th>\n",
       "      <th>replyCount</th>\n",
       "      <th>retweetCount</th>\n",
       "      <th>likeCount</th>\n",
       "      <th>...</th>\n",
       "      <th>retweetedTweet</th>\n",
       "      <th>quotedTweet</th>\n",
       "      <th>inReplyToTweetId</th>\n",
       "      <th>inReplyToUser</th>\n",
       "      <th>mentionedUsers</th>\n",
       "      <th>coordinates</th>\n",
       "      <th>place</th>\n",
       "      <th>hashtags</th>\n",
       "      <th>cashtags</th>\n",
       "      <th>no_mention</th>\n",
       "    </tr>\n",
       "  </thead>\n",
       "  <tbody>\n",
       "    <tr>\n",
       "      <th>0</th>\n",
       "      <td>snscrape.modules.twitter.Tweet</td>\n",
       "      <td>https://twitter.com/Luciane32890118/status/159...</td>\n",
       "      <td>2022-11-25 20:53:11+00:00</td>\n",
       "      <td>@leandroruschel Não, pois nossos direitos fora...</td>\n",
       "      <td>@leandroruschel Não, pois nossos direitos fora...</td>\n",
       "      <td>1596245639452823552</td>\n",
       "      <td>{'_type': 'snscrape.modules.twitter.User', 'us...</td>\n",
       "      <td>0</td>\n",
       "      <td>0</td>\n",
       "      <td>0</td>\n",
       "      <td>...</td>\n",
       "      <td>NaN</td>\n",
       "      <td>None</td>\n",
       "      <td>1.596123e+18</td>\n",
       "      <td>{'_type': 'snscrape.modules.twitter.User', 'us...</td>\n",
       "      <td>[{'_type': 'snscrape.modules.twitter.User', 'u...</td>\n",
       "      <td>None</td>\n",
       "      <td>None</td>\n",
       "      <td>[exoneracaoeprisaoparaAlexandredemoraes, Supre...</td>\n",
       "      <td>None</td>\n",
       "      <td>Não, pois nossos direitos foram ceifadas pelo ...</td>\n",
       "    </tr>\n",
       "    <tr>\n",
       "      <th>1</th>\n",
       "      <td>snscrape.modules.twitter.Tweet</td>\n",
       "      <td>https://twitter.com/deqqlugar/status/159617873...</td>\n",
       "      <td>2022-11-25 16:27:19+00:00</td>\n",
       "      <td>Retroceder, jamais! #Eleicoes2022 #BrazilWasSt...</td>\n",
       "      <td>Retroceder, jamais! #Eleicoes2022 #BrazilWasSt...</td>\n",
       "      <td>1596178731516600326</td>\n",
       "      <td>{'_type': 'snscrape.modules.twitter.User', 'us...</td>\n",
       "      <td>1</td>\n",
       "      <td>1</td>\n",
       "      <td>2</td>\n",
       "      <td>...</td>\n",
       "      <td>NaN</td>\n",
       "      <td>None</td>\n",
       "      <td>NaN</td>\n",
       "      <td>None</td>\n",
       "      <td>None</td>\n",
       "      <td>None</td>\n",
       "      <td>None</td>\n",
       "      <td>[Eleicoes2022, BrazilWasStolen, foracomunistas...</td>\n",
       "      <td>None</td>\n",
       "      <td>Retroceder, jamais! #Eleicoes2022 #BrazilWasSt...</td>\n",
       "    </tr>\n",
       "    <tr>\n",
       "      <th>2</th>\n",
       "      <td>snscrape.modules.twitter.Tweet</td>\n",
       "      <td>https://twitter.com/Erikalrb86/status/15955925...</td>\n",
       "      <td>2022-11-24 01:38:07+00:00</td>\n",
       "      <td>A dit^dura da toga continua...  #cpiabusodeaut...</td>\n",
       "      <td>A dit^dura da toga continua...\\n\\n#cpiabusodea...</td>\n",
       "      <td>1595592569072877568</td>\n",
       "      <td>{'_type': 'snscrape.modules.twitter.User', 'us...</td>\n",
       "      <td>0</td>\n",
       "      <td>0</td>\n",
       "      <td>1</td>\n",
       "      <td>...</td>\n",
       "      <td>NaN</td>\n",
       "      <td>None</td>\n",
       "      <td>NaN</td>\n",
       "      <td>None</td>\n",
       "      <td>None</td>\n",
       "      <td>None</td>\n",
       "      <td>None</td>\n",
       "      <td>[cpiabusodeautoridade, cpidatoga, cpilavatogaj...</td>\n",
       "      <td>None</td>\n",
       "      <td>A dit^dura da toga continua...  #cpiabusodeaut...</td>\n",
       "    </tr>\n",
       "    <tr>\n",
       "      <th>3</th>\n",
       "      <td>snscrape.modules.twitter.Tweet</td>\n",
       "      <td>https://twitter.com/RaphaelRossiter/status/159...</td>\n",
       "      <td>2022-11-23 01:42:46+00:00</td>\n",
       "      <td>Queremos respostas, queremos  transparências d...</td>\n",
       "      <td>Queremos respostas, queremos  transparências d...</td>\n",
       "      <td>1595231350885388288</td>\n",
       "      <td>{'_type': 'snscrape.modules.twitter.User', 'us...</td>\n",
       "      <td>0</td>\n",
       "      <td>0</td>\n",
       "      <td>1</td>\n",
       "      <td>...</td>\n",
       "      <td>NaN</td>\n",
       "      <td>{'_type': 'snscrape.modules.twitter.Tweet', 'u...</td>\n",
       "      <td>NaN</td>\n",
       "      <td>None</td>\n",
       "      <td>None</td>\n",
       "      <td>None</td>\n",
       "      <td>None</td>\n",
       "      <td>[audienciapublica, TSE, STF, brazilwasstollen,...</td>\n",
       "      <td>None</td>\n",
       "      <td>Queremos respostas, queremos  transparências d...</td>\n",
       "    </tr>\n",
       "    <tr>\n",
       "      <th>4</th>\n",
       "      <td>snscrape.modules.twitter.Tweet</td>\n",
       "      <td>https://twitter.com/RaphaelRossiter/status/159...</td>\n",
       "      <td>2022-11-23 01:37:28+00:00</td>\n",
       "      <td>@estadaoverifica @TSEjusbr Queremos respostas,...</td>\n",
       "      <td>@estadaoverifica @TSEjusbr Queremos respostas,...</td>\n",
       "      <td>1595230016480186368</td>\n",
       "      <td>{'_type': 'snscrape.modules.twitter.User', 'us...</td>\n",
       "      <td>1</td>\n",
       "      <td>0</td>\n",
       "      <td>5</td>\n",
       "      <td>...</td>\n",
       "      <td>NaN</td>\n",
       "      <td>None</td>\n",
       "      <td>1.595158e+18</td>\n",
       "      <td>{'_type': 'snscrape.modules.twitter.User', 'us...</td>\n",
       "      <td>[{'_type': 'snscrape.modules.twitter.User', 'u...</td>\n",
       "      <td>None</td>\n",
       "      <td>None</td>\n",
       "      <td>[audienciapublica, TSE, STF, brazilwasstollen,...</td>\n",
       "      <td>None</td>\n",
       "      <td>Queremos respostas, queremos  transparências d...</td>\n",
       "    </tr>\n",
       "    <tr>\n",
       "      <th>...</th>\n",
       "      <td>...</td>\n",
       "      <td>...</td>\n",
       "      <td>...</td>\n",
       "      <td>...</td>\n",
       "      <td>...</td>\n",
       "      <td>...</td>\n",
       "      <td>...</td>\n",
       "      <td>...</td>\n",
       "      <td>...</td>\n",
       "      <td>...</td>\n",
       "      <td>...</td>\n",
       "      <td>...</td>\n",
       "      <td>...</td>\n",
       "      <td>...</td>\n",
       "      <td>...</td>\n",
       "      <td>...</td>\n",
       "      <td>...</td>\n",
       "      <td>...</td>\n",
       "      <td>...</td>\n",
       "      <td>...</td>\n",
       "      <td>...</td>\n",
       "    </tr>\n",
       "    <tr>\n",
       "      <th>2078</th>\n",
       "      <td>snscrape.modules.twitter.Tweet</td>\n",
       "      <td>https://twitter.com/Norma25714352/status/14151...</td>\n",
       "      <td>2021-07-14 01:15:12+00:00</td>\n",
       "      <td>@DeputadoFederal Uhuu tomara que seja o pontap...</td>\n",
       "      <td>@DeputadoFederal Uhuu tomara que seja o pontap...</td>\n",
       "      <td>1415117643695235073</td>\n",
       "      <td>{'_type': 'snscrape.modules.twitter.User', 'us...</td>\n",
       "      <td>0</td>\n",
       "      <td>0</td>\n",
       "      <td>0</td>\n",
       "      <td>...</td>\n",
       "      <td>NaN</td>\n",
       "      <td>None</td>\n",
       "      <td>1.414985e+18</td>\n",
       "      <td>{'_type': 'snscrape.modules.twitter.User', 'us...</td>\n",
       "      <td>[{'_type': 'snscrape.modules.twitter.User', 'u...</td>\n",
       "      <td>None</td>\n",
       "      <td>None</td>\n",
       "      <td>[SomosTodosBragaNeto, DanielSilveiraPresoPolit...</td>\n",
       "      <td>None</td>\n",
       "      <td>Uhuu tomara que seja o pontapé  que vai fazer ...</td>\n",
       "    </tr>\n",
       "    <tr>\n",
       "      <th>2079</th>\n",
       "      <td>snscrape.modules.twitter.Tweet</td>\n",
       "      <td>https://twitter.com/Norma25714352/status/14151...</td>\n",
       "      <td>2021-07-14 01:04:03+00:00</td>\n",
       "      <td>@ClaraFernanndez #DanielSilveiraPresoPolitico ...</td>\n",
       "      <td>@ClaraFernanndez #DanielSilveiraPresoPolitico ...</td>\n",
       "      <td>1415114836061691906</td>\n",
       "      <td>{'_type': 'snscrape.modules.twitter.User', 'us...</td>\n",
       "      <td>0</td>\n",
       "      <td>0</td>\n",
       "      <td>0</td>\n",
       "      <td>...</td>\n",
       "      <td>NaN</td>\n",
       "      <td>None</td>\n",
       "      <td>1.415005e+18</td>\n",
       "      <td>{'_type': 'snscrape.modules.twitter.User', 'us...</td>\n",
       "      <td>[{'_type': 'snscrape.modules.twitter.User', 'u...</td>\n",
       "      <td>None</td>\n",
       "      <td>None</td>\n",
       "      <td>[DanielSilveiraPresoPolitico, LiberdadeParaDan...</td>\n",
       "      <td>None</td>\n",
       "      <td>#DanielSilveiraPresoPolitico #LiberdadeParaDan...</td>\n",
       "    </tr>\n",
       "    <tr>\n",
       "      <th>2080</th>\n",
       "      <td>snscrape.modules.twitter.Tweet</td>\n",
       "      <td>https://twitter.com/Norma25714352/status/14151...</td>\n",
       "      <td>2021-07-14 00:39:28+00:00</td>\n",
       "      <td>@flferronato Uma vergonha #DanielSilveiraPreso...</td>\n",
       "      <td>@flferronato Uma vergonha\\n#DanielSilveiraPres...</td>\n",
       "      <td>1415108651971383298</td>\n",
       "      <td>{'_type': 'snscrape.modules.twitter.User', 'us...</td>\n",
       "      <td>0</td>\n",
       "      <td>0</td>\n",
       "      <td>0</td>\n",
       "      <td>...</td>\n",
       "      <td>NaN</td>\n",
       "      <td>None</td>\n",
       "      <td>1.414960e+18</td>\n",
       "      <td>{'_type': 'snscrape.modules.twitter.User', 'us...</td>\n",
       "      <td>[{'_type': 'snscrape.modules.twitter.User', 'u...</td>\n",
       "      <td>None</td>\n",
       "      <td>None</td>\n",
       "      <td>[DanielSilveiraPresoPolitico, LiberdadeParaDan...</td>\n",
       "      <td>None</td>\n",
       "      <td>Uma vergonha #DanielSilveiraPresoPolitico #Lib...</td>\n",
       "    </tr>\n",
       "    <tr>\n",
       "      <th>2081</th>\n",
       "      <td>snscrape.modules.twitter.Tweet</td>\n",
       "      <td>https://twitter.com/Norma25714352/status/14150...</td>\n",
       "      <td>2021-07-13 23:58:05+00:00</td>\n",
       "      <td>@OmarAzizSenador #DanielSilveiraPresoPolitico ...</td>\n",
       "      <td>@OmarAzizSenador #DanielSilveiraPresoPolitico ...</td>\n",
       "      <td>1415098237338411010</td>\n",
       "      <td>{'_type': 'snscrape.modules.twitter.User', 'us...</td>\n",
       "      <td>0</td>\n",
       "      <td>0</td>\n",
       "      <td>0</td>\n",
       "      <td>...</td>\n",
       "      <td>NaN</td>\n",
       "      <td>None</td>\n",
       "      <td>1.414940e+18</td>\n",
       "      <td>{'_type': 'snscrape.modules.twitter.User', 'us...</td>\n",
       "      <td>[{'_type': 'snscrape.modules.twitter.User', 'u...</td>\n",
       "      <td>None</td>\n",
       "      <td>None</td>\n",
       "      <td>[DanielSilveiraPresoPolitico, LiberdadeParaDan...</td>\n",
       "      <td>None</td>\n",
       "      <td>#DanielSilveiraPresoPolitico #LiberdadeParaDan...</td>\n",
       "    </tr>\n",
       "    <tr>\n",
       "      <th>2082</th>\n",
       "      <td>snscrape.modules.twitter.Tweet</td>\n",
       "      <td>https://twitter.com/Norma25714352/status/14150...</td>\n",
       "      <td>2021-07-13 22:37:08+00:00</td>\n",
       "      <td>@IaraCruzBrasil @IzabelleFores #DanielSilveira...</td>\n",
       "      <td>@IaraCruzBrasil @IzabelleFores #DanielSilveira...</td>\n",
       "      <td>1415077862772719628</td>\n",
       "      <td>{'_type': 'snscrape.modules.twitter.User', 'us...</td>\n",
       "      <td>0</td>\n",
       "      <td>0</td>\n",
       "      <td>0</td>\n",
       "      <td>...</td>\n",
       "      <td>NaN</td>\n",
       "      <td>None</td>\n",
       "      <td>NaN</td>\n",
       "      <td>None</td>\n",
       "      <td>[{'_type': 'snscrape.modules.twitter.User', 'u...</td>\n",
       "      <td>None</td>\n",
       "      <td>None</td>\n",
       "      <td>[DanielSilveiraPresoPolitico, LiberdadeParaDan...</td>\n",
       "      <td>None</td>\n",
       "      <td>#DanielSilveiraPresoPolitico #LiberdadeParaDan...</td>\n",
       "    </tr>\n",
       "  </tbody>\n",
       "</table>\n",
       "<p>2083 rows × 29 columns</p>\n",
       "</div>"
      ],
      "text/plain": [
       "                               _type  \\\n",
       "0     snscrape.modules.twitter.Tweet   \n",
       "1     snscrape.modules.twitter.Tweet   \n",
       "2     snscrape.modules.twitter.Tweet   \n",
       "3     snscrape.modules.twitter.Tweet   \n",
       "4     snscrape.modules.twitter.Tweet   \n",
       "...                              ...   \n",
       "2078  snscrape.modules.twitter.Tweet   \n",
       "2079  snscrape.modules.twitter.Tweet   \n",
       "2080  snscrape.modules.twitter.Tweet   \n",
       "2081  snscrape.modules.twitter.Tweet   \n",
       "2082  snscrape.modules.twitter.Tweet   \n",
       "\n",
       "                                                    url  \\\n",
       "0     https://twitter.com/Luciane32890118/status/159...   \n",
       "1     https://twitter.com/deqqlugar/status/159617873...   \n",
       "2     https://twitter.com/Erikalrb86/status/15955925...   \n",
       "3     https://twitter.com/RaphaelRossiter/status/159...   \n",
       "4     https://twitter.com/RaphaelRossiter/status/159...   \n",
       "...                                                 ...   \n",
       "2078  https://twitter.com/Norma25714352/status/14151...   \n",
       "2079  https://twitter.com/Norma25714352/status/14151...   \n",
       "2080  https://twitter.com/Norma25714352/status/14151...   \n",
       "2081  https://twitter.com/Norma25714352/status/14150...   \n",
       "2082  https://twitter.com/Norma25714352/status/14150...   \n",
       "\n",
       "                          date  \\\n",
       "0    2022-11-25 20:53:11+00:00   \n",
       "1    2022-11-25 16:27:19+00:00   \n",
       "2    2022-11-24 01:38:07+00:00   \n",
       "3    2022-11-23 01:42:46+00:00   \n",
       "4    2022-11-23 01:37:28+00:00   \n",
       "...                        ...   \n",
       "2078 2021-07-14 01:15:12+00:00   \n",
       "2079 2021-07-14 01:04:03+00:00   \n",
       "2080 2021-07-14 00:39:28+00:00   \n",
       "2081 2021-07-13 23:58:05+00:00   \n",
       "2082 2021-07-13 22:37:08+00:00   \n",
       "\n",
       "                                                content  \\\n",
       "0     @leandroruschel Não, pois nossos direitos fora...   \n",
       "1     Retroceder, jamais! #Eleicoes2022 #BrazilWasSt...   \n",
       "2     A dit^dura da toga continua...  #cpiabusodeaut...   \n",
       "3     Queremos respostas, queremos  transparências d...   \n",
       "4     @estadaoverifica @TSEjusbr Queremos respostas,...   \n",
       "...                                                 ...   \n",
       "2078  @DeputadoFederal Uhuu tomara que seja o pontap...   \n",
       "2079  @ClaraFernanndez #DanielSilveiraPresoPolitico ...   \n",
       "2080  @flferronato Uma vergonha #DanielSilveiraPreso...   \n",
       "2081  @OmarAzizSenador #DanielSilveiraPresoPolitico ...   \n",
       "2082  @IaraCruzBrasil @IzabelleFores #DanielSilveira...   \n",
       "\n",
       "                                        renderedContent                   id  \\\n",
       "0     @leandroruschel Não, pois nossos direitos fora...  1596245639452823552   \n",
       "1     Retroceder, jamais! #Eleicoes2022 #BrazilWasSt...  1596178731516600326   \n",
       "2     A dit^dura da toga continua...\\n\\n#cpiabusodea...  1595592569072877568   \n",
       "3     Queremos respostas, queremos  transparências d...  1595231350885388288   \n",
       "4     @estadaoverifica @TSEjusbr Queremos respostas,...  1595230016480186368   \n",
       "...                                                 ...                  ...   \n",
       "2078  @DeputadoFederal Uhuu tomara que seja o pontap...  1415117643695235073   \n",
       "2079  @ClaraFernanndez #DanielSilveiraPresoPolitico ...  1415114836061691906   \n",
       "2080  @flferronato Uma vergonha\\n#DanielSilveiraPres...  1415108651971383298   \n",
       "2081  @OmarAzizSenador #DanielSilveiraPresoPolitico ...  1415098237338411010   \n",
       "2082  @IaraCruzBrasil @IzabelleFores #DanielSilveira...  1415077862772719628   \n",
       "\n",
       "                                                   user  replyCount  \\\n",
       "0     {'_type': 'snscrape.modules.twitter.User', 'us...           0   \n",
       "1     {'_type': 'snscrape.modules.twitter.User', 'us...           1   \n",
       "2     {'_type': 'snscrape.modules.twitter.User', 'us...           0   \n",
       "3     {'_type': 'snscrape.modules.twitter.User', 'us...           0   \n",
       "4     {'_type': 'snscrape.modules.twitter.User', 'us...           1   \n",
       "...                                                 ...         ...   \n",
       "2078  {'_type': 'snscrape.modules.twitter.User', 'us...           0   \n",
       "2079  {'_type': 'snscrape.modules.twitter.User', 'us...           0   \n",
       "2080  {'_type': 'snscrape.modules.twitter.User', 'us...           0   \n",
       "2081  {'_type': 'snscrape.modules.twitter.User', 'us...           0   \n",
       "2082  {'_type': 'snscrape.modules.twitter.User', 'us...           0   \n",
       "\n",
       "      retweetCount  likeCount  ...  retweetedTweet  \\\n",
       "0                0          0  ...             NaN   \n",
       "1                1          2  ...             NaN   \n",
       "2                0          1  ...             NaN   \n",
       "3                0          1  ...             NaN   \n",
       "4                0          5  ...             NaN   \n",
       "...            ...        ...  ...             ...   \n",
       "2078             0          0  ...             NaN   \n",
       "2079             0          0  ...             NaN   \n",
       "2080             0          0  ...             NaN   \n",
       "2081             0          0  ...             NaN   \n",
       "2082             0          0  ...             NaN   \n",
       "\n",
       "                                            quotedTweet inReplyToTweetId  \\\n",
       "0                                                  None     1.596123e+18   \n",
       "1                                                  None              NaN   \n",
       "2                                                  None              NaN   \n",
       "3     {'_type': 'snscrape.modules.twitter.Tweet', 'u...              NaN   \n",
       "4                                                  None     1.595158e+18   \n",
       "...                                                 ...              ...   \n",
       "2078                                               None     1.414985e+18   \n",
       "2079                                               None     1.415005e+18   \n",
       "2080                                               None     1.414960e+18   \n",
       "2081                                               None     1.414940e+18   \n",
       "2082                                               None              NaN   \n",
       "\n",
       "                                          inReplyToUser  \\\n",
       "0     {'_type': 'snscrape.modules.twitter.User', 'us...   \n",
       "1                                                  None   \n",
       "2                                                  None   \n",
       "3                                                  None   \n",
       "4     {'_type': 'snscrape.modules.twitter.User', 'us...   \n",
       "...                                                 ...   \n",
       "2078  {'_type': 'snscrape.modules.twitter.User', 'us...   \n",
       "2079  {'_type': 'snscrape.modules.twitter.User', 'us...   \n",
       "2080  {'_type': 'snscrape.modules.twitter.User', 'us...   \n",
       "2081  {'_type': 'snscrape.modules.twitter.User', 'us...   \n",
       "2082                                               None   \n",
       "\n",
       "                                         mentionedUsers coordinates place  \\\n",
       "0     [{'_type': 'snscrape.modules.twitter.User', 'u...        None  None   \n",
       "1                                                  None        None  None   \n",
       "2                                                  None        None  None   \n",
       "3                                                  None        None  None   \n",
       "4     [{'_type': 'snscrape.modules.twitter.User', 'u...        None  None   \n",
       "...                                                 ...         ...   ...   \n",
       "2078  [{'_type': 'snscrape.modules.twitter.User', 'u...        None  None   \n",
       "2079  [{'_type': 'snscrape.modules.twitter.User', 'u...        None  None   \n",
       "2080  [{'_type': 'snscrape.modules.twitter.User', 'u...        None  None   \n",
       "2081  [{'_type': 'snscrape.modules.twitter.User', 'u...        None  None   \n",
       "2082  [{'_type': 'snscrape.modules.twitter.User', 'u...        None  None   \n",
       "\n",
       "                                               hashtags cashtags  \\\n",
       "0     [exoneracaoeprisaoparaAlexandredemoraes, Supre...     None   \n",
       "1     [Eleicoes2022, BrazilWasStolen, foracomunistas...     None   \n",
       "2     [cpiabusodeautoridade, cpidatoga, cpilavatogaj...     None   \n",
       "3     [audienciapublica, TSE, STF, brazilwasstollen,...     None   \n",
       "4     [audienciapublica, TSE, STF, brazilwasstollen,...     None   \n",
       "...                                                 ...      ...   \n",
       "2078  [SomosTodosBragaNeto, DanielSilveiraPresoPolit...     None   \n",
       "2079  [DanielSilveiraPresoPolitico, LiberdadeParaDan...     None   \n",
       "2080  [DanielSilveiraPresoPolitico, LiberdadeParaDan...     None   \n",
       "2081  [DanielSilveiraPresoPolitico, LiberdadeParaDan...     None   \n",
       "2082  [DanielSilveiraPresoPolitico, LiberdadeParaDan...     None   \n",
       "\n",
       "                                             no_mention  \n",
       "0     Não, pois nossos direitos foram ceifadas pelo ...  \n",
       "1     Retroceder, jamais! #Eleicoes2022 #BrazilWasSt...  \n",
       "2     A dit^dura da toga continua...  #cpiabusodeaut...  \n",
       "3     Queremos respostas, queremos  transparências d...  \n",
       "4     Queremos respostas, queremos  transparências d...  \n",
       "...                                                 ...  \n",
       "2078  Uhuu tomara que seja o pontapé  que vai fazer ...  \n",
       "2079  #DanielSilveiraPresoPolitico #LiberdadeParaDan...  \n",
       "2080  Uma vergonha #DanielSilveiraPresoPolitico #Lib...  \n",
       "2081  #DanielSilveiraPresoPolitico #LiberdadeParaDan...  \n",
       "2082  #DanielSilveiraPresoPolitico #LiberdadeParaDan...  \n",
       "\n",
       "[2083 rows x 29 columns]"
      ]
     },
     "execution_count": 23,
     "metadata": {},
     "output_type": "execute_result"
    }
   ],
   "source": [
    "df_tweets_filtered"
   ]
  },
  {
   "cell_type": "markdown",
   "id": "f9bd0494-12e0-444f-ac77-a6bcc5cad7c5",
   "metadata": {},
   "source": [
    "## Inspecting and eliminating duplicates"
   ]
  },
  {
   "cell_type": "markdown",
   "id": "53cd3955-688a-444d-923e-a52f0fe4c6da",
   "metadata": {},
   "source": [
    "### Creating a DataFrame index"
   ]
  },
  {
   "cell_type": "code",
   "execution_count": 24,
   "id": "1008f565-23a6-41d5-8c31-42aa97873ab1",
   "metadata": {},
   "outputs": [],
   "source": [
    "df_tweets_filtered['df_index'] = df_tweets_filtered.index.astype(str).str.zfill(6)"
   ]
  },
  {
   "cell_type": "markdown",
   "id": "0fd4a608-0365-422f-ac7f-b764db80a724",
   "metadata": {},
   "source": [
    "### Sorting the DataFrame by the column `no_mention` to enable duplicate detection"
   ]
  },
  {
   "cell_type": "code",
   "execution_count": 25,
   "id": "8698aa58-9fe2-4681-8b1f-a712ea2edd76",
   "metadata": {},
   "outputs": [],
   "source": [
    "# Sorting the DataFrame by the 'no_mention' column in ascending order\n",
    "df_tweets_filtered = df_tweets_filtered.sort_values(by='no_mention', ascending=True)"
   ]
  },
  {
   "cell_type": "markdown",
   "id": "128b9f3a-5604-4efa-82a5-780b9b1f7837",
   "metadata": {},
   "source": [
    "### Exporting the filtered data into a file for inspection"
   ]
  },
  {
   "cell_type": "code",
   "execution_count": 26,
   "id": "c99e0e64-6977-47d0-a15a-9ea1abce8951",
   "metadata": {},
   "outputs": [],
   "source": [
    "df_tweets_filtered[['df_index', 'no_mention']].to_csv('tweets_emojified.tsv', sep='\\t', index=False, encoding='utf-8', lineterminator='\\n')"
   ]
  },
  {
   "cell_type": "markdown",
   "id": "8be4681e-92f2-4572-b779-7331edb0d058",
   "metadata": {},
   "source": [
    "### Inspecting a few tweets"
   ]
  },
  {
   "cell_type": "code",
   "execution_count": 27,
   "id": "306ecf98-3e6e-485e-93d4-57a445591ae9",
   "metadata": {},
   "outputs": [
    {
     "name": "stdout",
     "output_type": "stream",
     "text": [
      "content:Quando vc pensa que não o \"consórcio\" consegue se superar e descer mais baixo que o presal 🤦🏻‍♂️. Parabéns pra vc que não consegue ter opiniões próprias e ainda acredita nessa mídia escrota que ainda temos em nosso país.  #SUPREMOEOPOVO #STFVergonhaMundial  #FFAA #LIBERDADE 🇧🇷 url\n"
     ]
    }
   ],
   "source": [
    "inspected_row = 23\n",
    "print('content:' + df_tweets_filtered.loc[inspected_row, 'content'])"
   ]
  },
  {
   "cell_type": "markdown",
   "id": "7154eacc-ab1f-4fb5-8bf6-d624e5dc0b9c",
   "metadata": {},
   "source": [
    "### Dropping identified duplicates"
   ]
  },
  {
   "cell_type": "code",
   "execution_count": 28,
   "id": "0951020b-44c1-447f-a534-0cc8f6bd85c2",
   "metadata": {},
   "outputs": [],
   "source": [
    "# Define the list of indexes to drop\n",
    "indexes_to_drop = [\n",
    "]\n",
    "\n",
    "# Dropping the rows with the specified indexes\n",
    "df_tweets_filtered = df_tweets_filtered.drop(indexes_to_drop)"
   ]
  },
  {
   "cell_type": "markdown",
   "id": "71861080-78b2-4ae2-afdd-8640102974dd",
   "metadata": {},
   "source": [
    "### Sorting the DataFrame by the index to revert the DataFrame back to its original order"
   ]
  },
  {
   "cell_type": "code",
   "execution_count": 29,
   "id": "7a8f5dec-7bdf-4c2f-bcf7-f740201a37ac",
   "metadata": {},
   "outputs": [],
   "source": [
    "# Sorting the DataFrame back to the original order by the index\n",
    "df_tweets_filtered = df_tweets_filtered.sort_index()\n",
    "df_tweets_filtered = df_tweets_filtered.reset_index(drop=True)"
   ]
  },
  {
   "cell_type": "code",
   "execution_count": 30,
   "id": "65c4b9f8-9c6b-4326-8a61-065a04a26e59",
   "metadata": {},
   "outputs": [
    {
     "data": {
      "text/html": [
       "<div>\n",
       "<style scoped>\n",
       "    .dataframe tbody tr th:only-of-type {\n",
       "        vertical-align: middle;\n",
       "    }\n",
       "\n",
       "    .dataframe tbody tr th {\n",
       "        vertical-align: top;\n",
       "    }\n",
       "\n",
       "    .dataframe thead th {\n",
       "        text-align: right;\n",
       "    }\n",
       "</style>\n",
       "<table border=\"1\" class=\"dataframe\">\n",
       "  <thead>\n",
       "    <tr style=\"text-align: right;\">\n",
       "      <th></th>\n",
       "      <th>_type</th>\n",
       "      <th>url</th>\n",
       "      <th>date</th>\n",
       "      <th>content</th>\n",
       "      <th>renderedContent</th>\n",
       "      <th>id</th>\n",
       "      <th>user</th>\n",
       "      <th>replyCount</th>\n",
       "      <th>retweetCount</th>\n",
       "      <th>likeCount</th>\n",
       "      <th>...</th>\n",
       "      <th>quotedTweet</th>\n",
       "      <th>inReplyToTweetId</th>\n",
       "      <th>inReplyToUser</th>\n",
       "      <th>mentionedUsers</th>\n",
       "      <th>coordinates</th>\n",
       "      <th>place</th>\n",
       "      <th>hashtags</th>\n",
       "      <th>cashtags</th>\n",
       "      <th>no_mention</th>\n",
       "      <th>df_index</th>\n",
       "    </tr>\n",
       "  </thead>\n",
       "  <tbody>\n",
       "    <tr>\n",
       "      <th>0</th>\n",
       "      <td>snscrape.modules.twitter.Tweet</td>\n",
       "      <td>https://twitter.com/Luciane32890118/status/159...</td>\n",
       "      <td>2022-11-25 20:53:11+00:00</td>\n",
       "      <td>@leandroruschel Não, pois nossos direitos fora...</td>\n",
       "      <td>@leandroruschel Não, pois nossos direitos fora...</td>\n",
       "      <td>1596245639452823552</td>\n",
       "      <td>{'_type': 'snscrape.modules.twitter.User', 'us...</td>\n",
       "      <td>0</td>\n",
       "      <td>0</td>\n",
       "      <td>0</td>\n",
       "      <td>...</td>\n",
       "      <td>None</td>\n",
       "      <td>1.596123e+18</td>\n",
       "      <td>{'_type': 'snscrape.modules.twitter.User', 'us...</td>\n",
       "      <td>[{'_type': 'snscrape.modules.twitter.User', 'u...</td>\n",
       "      <td>None</td>\n",
       "      <td>None</td>\n",
       "      <td>[exoneracaoeprisaoparaAlexandredemoraes, Supre...</td>\n",
       "      <td>None</td>\n",
       "      <td>Não, pois nossos direitos foram ceifadas pelo ...</td>\n",
       "      <td>000000</td>\n",
       "    </tr>\n",
       "    <tr>\n",
       "      <th>1</th>\n",
       "      <td>snscrape.modules.twitter.Tweet</td>\n",
       "      <td>https://twitter.com/deqqlugar/status/159617873...</td>\n",
       "      <td>2022-11-25 16:27:19+00:00</td>\n",
       "      <td>Retroceder, jamais! #Eleicoes2022 #BrazilWasSt...</td>\n",
       "      <td>Retroceder, jamais! #Eleicoes2022 #BrazilWasSt...</td>\n",
       "      <td>1596178731516600326</td>\n",
       "      <td>{'_type': 'snscrape.modules.twitter.User', 'us...</td>\n",
       "      <td>1</td>\n",
       "      <td>1</td>\n",
       "      <td>2</td>\n",
       "      <td>...</td>\n",
       "      <td>None</td>\n",
       "      <td>NaN</td>\n",
       "      <td>None</td>\n",
       "      <td>None</td>\n",
       "      <td>None</td>\n",
       "      <td>None</td>\n",
       "      <td>[Eleicoes2022, BrazilWasStolen, foracomunistas...</td>\n",
       "      <td>None</td>\n",
       "      <td>Retroceder, jamais! #Eleicoes2022 #BrazilWasSt...</td>\n",
       "      <td>000001</td>\n",
       "    </tr>\n",
       "    <tr>\n",
       "      <th>2</th>\n",
       "      <td>snscrape.modules.twitter.Tweet</td>\n",
       "      <td>https://twitter.com/Erikalrb86/status/15955925...</td>\n",
       "      <td>2022-11-24 01:38:07+00:00</td>\n",
       "      <td>A dit^dura da toga continua...  #cpiabusodeaut...</td>\n",
       "      <td>A dit^dura da toga continua...\\n\\n#cpiabusodea...</td>\n",
       "      <td>1595592569072877568</td>\n",
       "      <td>{'_type': 'snscrape.modules.twitter.User', 'us...</td>\n",
       "      <td>0</td>\n",
       "      <td>0</td>\n",
       "      <td>1</td>\n",
       "      <td>...</td>\n",
       "      <td>None</td>\n",
       "      <td>NaN</td>\n",
       "      <td>None</td>\n",
       "      <td>None</td>\n",
       "      <td>None</td>\n",
       "      <td>None</td>\n",
       "      <td>[cpiabusodeautoridade, cpidatoga, cpilavatogaj...</td>\n",
       "      <td>None</td>\n",
       "      <td>A dit^dura da toga continua...  #cpiabusodeaut...</td>\n",
       "      <td>000002</td>\n",
       "    </tr>\n",
       "    <tr>\n",
       "      <th>3</th>\n",
       "      <td>snscrape.modules.twitter.Tweet</td>\n",
       "      <td>https://twitter.com/RaphaelRossiter/status/159...</td>\n",
       "      <td>2022-11-23 01:42:46+00:00</td>\n",
       "      <td>Queremos respostas, queremos  transparências d...</td>\n",
       "      <td>Queremos respostas, queremos  transparências d...</td>\n",
       "      <td>1595231350885388288</td>\n",
       "      <td>{'_type': 'snscrape.modules.twitter.User', 'us...</td>\n",
       "      <td>0</td>\n",
       "      <td>0</td>\n",
       "      <td>1</td>\n",
       "      <td>...</td>\n",
       "      <td>{'_type': 'snscrape.modules.twitter.Tweet', 'u...</td>\n",
       "      <td>NaN</td>\n",
       "      <td>None</td>\n",
       "      <td>None</td>\n",
       "      <td>None</td>\n",
       "      <td>None</td>\n",
       "      <td>[audienciapublica, TSE, STF, brazilwasstollen,...</td>\n",
       "      <td>None</td>\n",
       "      <td>Queremos respostas, queremos  transparências d...</td>\n",
       "      <td>000003</td>\n",
       "    </tr>\n",
       "    <tr>\n",
       "      <th>4</th>\n",
       "      <td>snscrape.modules.twitter.Tweet</td>\n",
       "      <td>https://twitter.com/RaphaelRossiter/status/159...</td>\n",
       "      <td>2022-11-23 01:37:28+00:00</td>\n",
       "      <td>@estadaoverifica @TSEjusbr Queremos respostas,...</td>\n",
       "      <td>@estadaoverifica @TSEjusbr Queremos respostas,...</td>\n",
       "      <td>1595230016480186368</td>\n",
       "      <td>{'_type': 'snscrape.modules.twitter.User', 'us...</td>\n",
       "      <td>1</td>\n",
       "      <td>0</td>\n",
       "      <td>5</td>\n",
       "      <td>...</td>\n",
       "      <td>None</td>\n",
       "      <td>1.595158e+18</td>\n",
       "      <td>{'_type': 'snscrape.modules.twitter.User', 'us...</td>\n",
       "      <td>[{'_type': 'snscrape.modules.twitter.User', 'u...</td>\n",
       "      <td>None</td>\n",
       "      <td>None</td>\n",
       "      <td>[audienciapublica, TSE, STF, brazilwasstollen,...</td>\n",
       "      <td>None</td>\n",
       "      <td>Queremos respostas, queremos  transparências d...</td>\n",
       "      <td>000004</td>\n",
       "    </tr>\n",
       "    <tr>\n",
       "      <th>...</th>\n",
       "      <td>...</td>\n",
       "      <td>...</td>\n",
       "      <td>...</td>\n",
       "      <td>...</td>\n",
       "      <td>...</td>\n",
       "      <td>...</td>\n",
       "      <td>...</td>\n",
       "      <td>...</td>\n",
       "      <td>...</td>\n",
       "      <td>...</td>\n",
       "      <td>...</td>\n",
       "      <td>...</td>\n",
       "      <td>...</td>\n",
       "      <td>...</td>\n",
       "      <td>...</td>\n",
       "      <td>...</td>\n",
       "      <td>...</td>\n",
       "      <td>...</td>\n",
       "      <td>...</td>\n",
       "      <td>...</td>\n",
       "      <td>...</td>\n",
       "    </tr>\n",
       "    <tr>\n",
       "      <th>2078</th>\n",
       "      <td>snscrape.modules.twitter.Tweet</td>\n",
       "      <td>https://twitter.com/Norma25714352/status/14151...</td>\n",
       "      <td>2021-07-14 01:15:12+00:00</td>\n",
       "      <td>@DeputadoFederal Uhuu tomara que seja o pontap...</td>\n",
       "      <td>@DeputadoFederal Uhuu tomara que seja o pontap...</td>\n",
       "      <td>1415117643695235073</td>\n",
       "      <td>{'_type': 'snscrape.modules.twitter.User', 'us...</td>\n",
       "      <td>0</td>\n",
       "      <td>0</td>\n",
       "      <td>0</td>\n",
       "      <td>...</td>\n",
       "      <td>None</td>\n",
       "      <td>1.414985e+18</td>\n",
       "      <td>{'_type': 'snscrape.modules.twitter.User', 'us...</td>\n",
       "      <td>[{'_type': 'snscrape.modules.twitter.User', 'u...</td>\n",
       "      <td>None</td>\n",
       "      <td>None</td>\n",
       "      <td>[SomosTodosBragaNeto, DanielSilveiraPresoPolit...</td>\n",
       "      <td>None</td>\n",
       "      <td>Uhuu tomara que seja o pontapé  que vai fazer ...</td>\n",
       "      <td>002078</td>\n",
       "    </tr>\n",
       "    <tr>\n",
       "      <th>2079</th>\n",
       "      <td>snscrape.modules.twitter.Tweet</td>\n",
       "      <td>https://twitter.com/Norma25714352/status/14151...</td>\n",
       "      <td>2021-07-14 01:04:03+00:00</td>\n",
       "      <td>@ClaraFernanndez #DanielSilveiraPresoPolitico ...</td>\n",
       "      <td>@ClaraFernanndez #DanielSilveiraPresoPolitico ...</td>\n",
       "      <td>1415114836061691906</td>\n",
       "      <td>{'_type': 'snscrape.modules.twitter.User', 'us...</td>\n",
       "      <td>0</td>\n",
       "      <td>0</td>\n",
       "      <td>0</td>\n",
       "      <td>...</td>\n",
       "      <td>None</td>\n",
       "      <td>1.415005e+18</td>\n",
       "      <td>{'_type': 'snscrape.modules.twitter.User', 'us...</td>\n",
       "      <td>[{'_type': 'snscrape.modules.twitter.User', 'u...</td>\n",
       "      <td>None</td>\n",
       "      <td>None</td>\n",
       "      <td>[DanielSilveiraPresoPolitico, LiberdadeParaDan...</td>\n",
       "      <td>None</td>\n",
       "      <td>#DanielSilveiraPresoPolitico #LiberdadeParaDan...</td>\n",
       "      <td>002079</td>\n",
       "    </tr>\n",
       "    <tr>\n",
       "      <th>2080</th>\n",
       "      <td>snscrape.modules.twitter.Tweet</td>\n",
       "      <td>https://twitter.com/Norma25714352/status/14151...</td>\n",
       "      <td>2021-07-14 00:39:28+00:00</td>\n",
       "      <td>@flferronato Uma vergonha #DanielSilveiraPreso...</td>\n",
       "      <td>@flferronato Uma vergonha\\n#DanielSilveiraPres...</td>\n",
       "      <td>1415108651971383298</td>\n",
       "      <td>{'_type': 'snscrape.modules.twitter.User', 'us...</td>\n",
       "      <td>0</td>\n",
       "      <td>0</td>\n",
       "      <td>0</td>\n",
       "      <td>...</td>\n",
       "      <td>None</td>\n",
       "      <td>1.414960e+18</td>\n",
       "      <td>{'_type': 'snscrape.modules.twitter.User', 'us...</td>\n",
       "      <td>[{'_type': 'snscrape.modules.twitter.User', 'u...</td>\n",
       "      <td>None</td>\n",
       "      <td>None</td>\n",
       "      <td>[DanielSilveiraPresoPolitico, LiberdadeParaDan...</td>\n",
       "      <td>None</td>\n",
       "      <td>Uma vergonha #DanielSilveiraPresoPolitico #Lib...</td>\n",
       "      <td>002080</td>\n",
       "    </tr>\n",
       "    <tr>\n",
       "      <th>2081</th>\n",
       "      <td>snscrape.modules.twitter.Tweet</td>\n",
       "      <td>https://twitter.com/Norma25714352/status/14150...</td>\n",
       "      <td>2021-07-13 23:58:05+00:00</td>\n",
       "      <td>@OmarAzizSenador #DanielSilveiraPresoPolitico ...</td>\n",
       "      <td>@OmarAzizSenador #DanielSilveiraPresoPolitico ...</td>\n",
       "      <td>1415098237338411010</td>\n",
       "      <td>{'_type': 'snscrape.modules.twitter.User', 'us...</td>\n",
       "      <td>0</td>\n",
       "      <td>0</td>\n",
       "      <td>0</td>\n",
       "      <td>...</td>\n",
       "      <td>None</td>\n",
       "      <td>1.414940e+18</td>\n",
       "      <td>{'_type': 'snscrape.modules.twitter.User', 'us...</td>\n",
       "      <td>[{'_type': 'snscrape.modules.twitter.User', 'u...</td>\n",
       "      <td>None</td>\n",
       "      <td>None</td>\n",
       "      <td>[DanielSilveiraPresoPolitico, LiberdadeParaDan...</td>\n",
       "      <td>None</td>\n",
       "      <td>#DanielSilveiraPresoPolitico #LiberdadeParaDan...</td>\n",
       "      <td>002081</td>\n",
       "    </tr>\n",
       "    <tr>\n",
       "      <th>2082</th>\n",
       "      <td>snscrape.modules.twitter.Tweet</td>\n",
       "      <td>https://twitter.com/Norma25714352/status/14150...</td>\n",
       "      <td>2021-07-13 22:37:08+00:00</td>\n",
       "      <td>@IaraCruzBrasil @IzabelleFores #DanielSilveira...</td>\n",
       "      <td>@IaraCruzBrasil @IzabelleFores #DanielSilveira...</td>\n",
       "      <td>1415077862772719628</td>\n",
       "      <td>{'_type': 'snscrape.modules.twitter.User', 'us...</td>\n",
       "      <td>0</td>\n",
       "      <td>0</td>\n",
       "      <td>0</td>\n",
       "      <td>...</td>\n",
       "      <td>None</td>\n",
       "      <td>NaN</td>\n",
       "      <td>None</td>\n",
       "      <td>[{'_type': 'snscrape.modules.twitter.User', 'u...</td>\n",
       "      <td>None</td>\n",
       "      <td>None</td>\n",
       "      <td>[DanielSilveiraPresoPolitico, LiberdadeParaDan...</td>\n",
       "      <td>None</td>\n",
       "      <td>#DanielSilveiraPresoPolitico #LiberdadeParaDan...</td>\n",
       "      <td>002082</td>\n",
       "    </tr>\n",
       "  </tbody>\n",
       "</table>\n",
       "<p>2083 rows × 30 columns</p>\n",
       "</div>"
      ],
      "text/plain": [
       "                               _type  \\\n",
       "0     snscrape.modules.twitter.Tweet   \n",
       "1     snscrape.modules.twitter.Tweet   \n",
       "2     snscrape.modules.twitter.Tweet   \n",
       "3     snscrape.modules.twitter.Tweet   \n",
       "4     snscrape.modules.twitter.Tweet   \n",
       "...                              ...   \n",
       "2078  snscrape.modules.twitter.Tweet   \n",
       "2079  snscrape.modules.twitter.Tweet   \n",
       "2080  snscrape.modules.twitter.Tweet   \n",
       "2081  snscrape.modules.twitter.Tweet   \n",
       "2082  snscrape.modules.twitter.Tweet   \n",
       "\n",
       "                                                    url  \\\n",
       "0     https://twitter.com/Luciane32890118/status/159...   \n",
       "1     https://twitter.com/deqqlugar/status/159617873...   \n",
       "2     https://twitter.com/Erikalrb86/status/15955925...   \n",
       "3     https://twitter.com/RaphaelRossiter/status/159...   \n",
       "4     https://twitter.com/RaphaelRossiter/status/159...   \n",
       "...                                                 ...   \n",
       "2078  https://twitter.com/Norma25714352/status/14151...   \n",
       "2079  https://twitter.com/Norma25714352/status/14151...   \n",
       "2080  https://twitter.com/Norma25714352/status/14151...   \n",
       "2081  https://twitter.com/Norma25714352/status/14150...   \n",
       "2082  https://twitter.com/Norma25714352/status/14150...   \n",
       "\n",
       "                          date  \\\n",
       "0    2022-11-25 20:53:11+00:00   \n",
       "1    2022-11-25 16:27:19+00:00   \n",
       "2    2022-11-24 01:38:07+00:00   \n",
       "3    2022-11-23 01:42:46+00:00   \n",
       "4    2022-11-23 01:37:28+00:00   \n",
       "...                        ...   \n",
       "2078 2021-07-14 01:15:12+00:00   \n",
       "2079 2021-07-14 01:04:03+00:00   \n",
       "2080 2021-07-14 00:39:28+00:00   \n",
       "2081 2021-07-13 23:58:05+00:00   \n",
       "2082 2021-07-13 22:37:08+00:00   \n",
       "\n",
       "                                                content  \\\n",
       "0     @leandroruschel Não, pois nossos direitos fora...   \n",
       "1     Retroceder, jamais! #Eleicoes2022 #BrazilWasSt...   \n",
       "2     A dit^dura da toga continua...  #cpiabusodeaut...   \n",
       "3     Queremos respostas, queremos  transparências d...   \n",
       "4     @estadaoverifica @TSEjusbr Queremos respostas,...   \n",
       "...                                                 ...   \n",
       "2078  @DeputadoFederal Uhuu tomara que seja o pontap...   \n",
       "2079  @ClaraFernanndez #DanielSilveiraPresoPolitico ...   \n",
       "2080  @flferronato Uma vergonha #DanielSilveiraPreso...   \n",
       "2081  @OmarAzizSenador #DanielSilveiraPresoPolitico ...   \n",
       "2082  @IaraCruzBrasil @IzabelleFores #DanielSilveira...   \n",
       "\n",
       "                                        renderedContent                   id  \\\n",
       "0     @leandroruschel Não, pois nossos direitos fora...  1596245639452823552   \n",
       "1     Retroceder, jamais! #Eleicoes2022 #BrazilWasSt...  1596178731516600326   \n",
       "2     A dit^dura da toga continua...\\n\\n#cpiabusodea...  1595592569072877568   \n",
       "3     Queremos respostas, queremos  transparências d...  1595231350885388288   \n",
       "4     @estadaoverifica @TSEjusbr Queremos respostas,...  1595230016480186368   \n",
       "...                                                 ...                  ...   \n",
       "2078  @DeputadoFederal Uhuu tomara que seja o pontap...  1415117643695235073   \n",
       "2079  @ClaraFernanndez #DanielSilveiraPresoPolitico ...  1415114836061691906   \n",
       "2080  @flferronato Uma vergonha\\n#DanielSilveiraPres...  1415108651971383298   \n",
       "2081  @OmarAzizSenador #DanielSilveiraPresoPolitico ...  1415098237338411010   \n",
       "2082  @IaraCruzBrasil @IzabelleFores #DanielSilveira...  1415077862772719628   \n",
       "\n",
       "                                                   user  replyCount  \\\n",
       "0     {'_type': 'snscrape.modules.twitter.User', 'us...           0   \n",
       "1     {'_type': 'snscrape.modules.twitter.User', 'us...           1   \n",
       "2     {'_type': 'snscrape.modules.twitter.User', 'us...           0   \n",
       "3     {'_type': 'snscrape.modules.twitter.User', 'us...           0   \n",
       "4     {'_type': 'snscrape.modules.twitter.User', 'us...           1   \n",
       "...                                                 ...         ...   \n",
       "2078  {'_type': 'snscrape.modules.twitter.User', 'us...           0   \n",
       "2079  {'_type': 'snscrape.modules.twitter.User', 'us...           0   \n",
       "2080  {'_type': 'snscrape.modules.twitter.User', 'us...           0   \n",
       "2081  {'_type': 'snscrape.modules.twitter.User', 'us...           0   \n",
       "2082  {'_type': 'snscrape.modules.twitter.User', 'us...           0   \n",
       "\n",
       "      retweetCount  likeCount  ...  \\\n",
       "0                0          0  ...   \n",
       "1                1          2  ...   \n",
       "2                0          1  ...   \n",
       "3                0          1  ...   \n",
       "4                0          5  ...   \n",
       "...            ...        ...  ...   \n",
       "2078             0          0  ...   \n",
       "2079             0          0  ...   \n",
       "2080             0          0  ...   \n",
       "2081             0          0  ...   \n",
       "2082             0          0  ...   \n",
       "\n",
       "                                            quotedTweet  inReplyToTweetId  \\\n",
       "0                                                  None      1.596123e+18   \n",
       "1                                                  None               NaN   \n",
       "2                                                  None               NaN   \n",
       "3     {'_type': 'snscrape.modules.twitter.Tweet', 'u...               NaN   \n",
       "4                                                  None      1.595158e+18   \n",
       "...                                                 ...               ...   \n",
       "2078                                               None      1.414985e+18   \n",
       "2079                                               None      1.415005e+18   \n",
       "2080                                               None      1.414960e+18   \n",
       "2081                                               None      1.414940e+18   \n",
       "2082                                               None               NaN   \n",
       "\n",
       "                                          inReplyToUser  \\\n",
       "0     {'_type': 'snscrape.modules.twitter.User', 'us...   \n",
       "1                                                  None   \n",
       "2                                                  None   \n",
       "3                                                  None   \n",
       "4     {'_type': 'snscrape.modules.twitter.User', 'us...   \n",
       "...                                                 ...   \n",
       "2078  {'_type': 'snscrape.modules.twitter.User', 'us...   \n",
       "2079  {'_type': 'snscrape.modules.twitter.User', 'us...   \n",
       "2080  {'_type': 'snscrape.modules.twitter.User', 'us...   \n",
       "2081  {'_type': 'snscrape.modules.twitter.User', 'us...   \n",
       "2082                                               None   \n",
       "\n",
       "                                         mentionedUsers coordinates place  \\\n",
       "0     [{'_type': 'snscrape.modules.twitter.User', 'u...        None  None   \n",
       "1                                                  None        None  None   \n",
       "2                                                  None        None  None   \n",
       "3                                                  None        None  None   \n",
       "4     [{'_type': 'snscrape.modules.twitter.User', 'u...        None  None   \n",
       "...                                                 ...         ...   ...   \n",
       "2078  [{'_type': 'snscrape.modules.twitter.User', 'u...        None  None   \n",
       "2079  [{'_type': 'snscrape.modules.twitter.User', 'u...        None  None   \n",
       "2080  [{'_type': 'snscrape.modules.twitter.User', 'u...        None  None   \n",
       "2081  [{'_type': 'snscrape.modules.twitter.User', 'u...        None  None   \n",
       "2082  [{'_type': 'snscrape.modules.twitter.User', 'u...        None  None   \n",
       "\n",
       "                                               hashtags cashtags  \\\n",
       "0     [exoneracaoeprisaoparaAlexandredemoraes, Supre...     None   \n",
       "1     [Eleicoes2022, BrazilWasStolen, foracomunistas...     None   \n",
       "2     [cpiabusodeautoridade, cpidatoga, cpilavatogaj...     None   \n",
       "3     [audienciapublica, TSE, STF, brazilwasstollen,...     None   \n",
       "4     [audienciapublica, TSE, STF, brazilwasstollen,...     None   \n",
       "...                                                 ...      ...   \n",
       "2078  [SomosTodosBragaNeto, DanielSilveiraPresoPolit...     None   \n",
       "2079  [DanielSilveiraPresoPolitico, LiberdadeParaDan...     None   \n",
       "2080  [DanielSilveiraPresoPolitico, LiberdadeParaDan...     None   \n",
       "2081  [DanielSilveiraPresoPolitico, LiberdadeParaDan...     None   \n",
       "2082  [DanielSilveiraPresoPolitico, LiberdadeParaDan...     None   \n",
       "\n",
       "                                             no_mention  df_index  \n",
       "0     Não, pois nossos direitos foram ceifadas pelo ...    000000  \n",
       "1     Retroceder, jamais! #Eleicoes2022 #BrazilWasSt...    000001  \n",
       "2     A dit^dura da toga continua...  #cpiabusodeaut...    000002  \n",
       "3     Queremos respostas, queremos  transparências d...    000003  \n",
       "4     Queremos respostas, queremos  transparências d...    000004  \n",
       "...                                                 ...       ...  \n",
       "2078  Uhuu tomara que seja o pontapé  que vai fazer ...    002078  \n",
       "2079  #DanielSilveiraPresoPolitico #LiberdadeParaDan...    002079  \n",
       "2080  Uma vergonha #DanielSilveiraPresoPolitico #Lib...    002080  \n",
       "2081  #DanielSilveiraPresoPolitico #LiberdadeParaDan...    002081  \n",
       "2082  #DanielSilveiraPresoPolitico #LiberdadeParaDan...    002082  \n",
       "\n",
       "[2083 rows x 30 columns]"
      ]
     },
     "execution_count": 30,
     "metadata": {},
     "output_type": "execute_result"
    }
   ],
   "source": [
    "df_tweets_filtered"
   ]
  },
  {
   "cell_type": "markdown",
   "id": "8a4761c1-7868-4cd9-b096-97b76efeadfb",
   "metadata": {},
   "source": [
    "## Extracting the column `created_at`"
   ]
  },
  {
   "cell_type": "code",
   "execution_count": 31,
   "id": "6657c10f-e698-4e5b-8bc5-70c1aa48aa44",
   "metadata": {},
   "outputs": [],
   "source": [
    "df_tweets_filtered['created_at'] = df_tweets_filtered['date']"
   ]
  },
  {
   "cell_type": "markdown",
   "id": "4b00f297-fc50-4544-ba57-b885fe62c016",
   "metadata": {},
   "source": [
    "## Extracting the column `author_id`"
   ]
  },
  {
   "cell_type": "code",
   "execution_count": 32,
   "id": "9419b959-aa69-4a57-825f-d7a229ed133b",
   "metadata": {},
   "outputs": [],
   "source": [
    "# Flatten the nested JSON 'user' attribute\n",
    "df_tweets_filtered_flattened_user = pd.json_normalize(df_tweets_filtered['user'])\n",
    "\n",
    "# Extract the 'id' attribute\n",
    "author_id = df_tweets_filtered_flattened_user['id']\n",
    "\n",
    "# Create a new column 'author_id'\n",
    "df_tweets_filtered['author_id'] = author_id"
   ]
  },
  {
   "cell_type": "markdown",
   "id": "68f568d6-8f6a-44fb-84e0-9ca6b43fc3f7",
   "metadata": {},
   "source": [
    "## Extracting the column `username`"
   ]
  },
  {
   "cell_type": "code",
   "execution_count": 33,
   "id": "2dddaebb-ec38-4c1f-83c3-cb4a7a699ecb",
   "metadata": {},
   "outputs": [],
   "source": [
    "# Extract the 'username' attribute\n",
    "username = df_tweets_filtered_flattened_user['username']\n",
    "\n",
    "# Create a new column 'username'\n",
    "df_tweets_filtered['username'] = username"
   ]
  },
  {
   "cell_type": "markdown",
   "id": "4fe15b1f-df25-4507-9c5b-be40fa5f17ea",
   "metadata": {},
   "source": [
    "## Extracting the column `tweet_url`"
   ]
  },
  {
   "cell_type": "code",
   "execution_count": 34,
   "id": "0158b45f-d864-4a92-bf13-673f6bb68272",
   "metadata": {},
   "outputs": [],
   "source": [
    "df_tweets_filtered['tweet_url'] = df_tweets_filtered['url']"
   ]
  },
  {
   "cell_type": "markdown",
   "id": "4d6d167e-7cd7-4971-92d5-c97aed95f9f2",
   "metadata": {},
   "source": [
    "## Extracting the column `text`"
   ]
  },
  {
   "cell_type": "code",
   "execution_count": 35,
   "id": "3726caf2-82c9-4100-be3b-e91e923f743f",
   "metadata": {},
   "outputs": [],
   "source": [
    "df_tweets_filtered['text'] = df_tweets_filtered['content']"
   ]
  },
  {
   "cell_type": "markdown",
   "id": "88deb2e9-5a63-4787-b38b-6ebe205a678d",
   "metadata": {},
   "source": [
    "## Exporting to a file"
   ]
  },
  {
   "cell_type": "markdown",
   "id": "0ae2797e-95a2-406a-b2bb-1ed78fcd940c",
   "metadata": {},
   "source": [
    "### JSONL format"
   ]
  },
  {
   "cell_type": "code",
   "execution_count": 36,
   "id": "8d3724c9-f953-4e60-8977-b19d7b564e6c",
   "metadata": {},
   "outputs": [],
   "source": [
    "df_tweets_filtered[['created_at', 'author_id', 'username', 'tweet_url', 'text']].to_json('tweets_filtered.jsonl', orient='records', lines=True)"
   ]
  },
  {
   "cell_type": "markdown",
   "id": "63fc0b3b-69c6-448e-a95d-ebab06b72184",
   "metadata": {},
   "source": [
    "### TSV format"
   ]
  },
  {
   "cell_type": "code",
   "execution_count": 37,
   "id": "2307eda9-8493-4089-9133-a2bc8afdf473",
   "metadata": {},
   "outputs": [],
   "source": [
    "df_tweets_filtered[['created_at', 'author_id', 'username', 'tweet_url', 'text']].to_csv('tweets_filtered.tsv', sep='\\t', index=False, encoding='utf-8', lineterminator='\\n')"
   ]
  },
  {
   "cell_type": "markdown",
   "id": "1b81f047-6491-42c2-bd0c-bd00df802906",
   "metadata": {},
   "source": [
    "## Importing the Target Corpus into a DataFrame"
   ]
  },
  {
   "cell_type": "code",
   "execution_count": 38,
   "id": "52b1f421-01cd-450c-aa80-51fc6c2a3dab",
   "metadata": {},
   "outputs": [],
   "source": [
    "df_tweets_filtered = pd.read_json('tweets_filtered.jsonl', lines=True)"
   ]
  },
  {
   "cell_type": "code",
   "execution_count": 39,
   "id": "7c7d2247-0890-4fb2-8c6a-1b33c4c889d0",
   "metadata": {},
   "outputs": [
    {
     "data": {
      "text/html": [
       "<div>\n",
       "<style scoped>\n",
       "    .dataframe tbody tr th:only-of-type {\n",
       "        vertical-align: middle;\n",
       "    }\n",
       "\n",
       "    .dataframe tbody tr th {\n",
       "        vertical-align: top;\n",
       "    }\n",
       "\n",
       "    .dataframe thead th {\n",
       "        text-align: right;\n",
       "    }\n",
       "</style>\n",
       "<table border=\"1\" class=\"dataframe\">\n",
       "  <thead>\n",
       "    <tr style=\"text-align: right;\">\n",
       "      <th></th>\n",
       "      <th>created_at</th>\n",
       "      <th>author_id</th>\n",
       "      <th>username</th>\n",
       "      <th>tweet_url</th>\n",
       "      <th>text</th>\n",
       "    </tr>\n",
       "  </thead>\n",
       "  <tbody>\n",
       "    <tr>\n",
       "      <th>0</th>\n",
       "      <td>2022-11-25 20:53:11</td>\n",
       "      <td>1587172706306473989</td>\n",
       "      <td>Luciane32890118</td>\n",
       "      <td>https://twitter.com/Luciane32890118/status/159...</td>\n",
       "      <td>@leandroruschel Não, pois nossos direitos fora...</td>\n",
       "    </tr>\n",
       "    <tr>\n",
       "      <th>1</th>\n",
       "      <td>2022-11-25 16:27:19</td>\n",
       "      <td>820617853</td>\n",
       "      <td>deqqlugar</td>\n",
       "      <td>https://twitter.com/deqqlugar/status/159617873...</td>\n",
       "      <td>Retroceder, jamais! #Eleicoes2022 #BrazilWasSt...</td>\n",
       "    </tr>\n",
       "    <tr>\n",
       "      <th>2</th>\n",
       "      <td>2022-11-24 01:38:07</td>\n",
       "      <td>1151289025694699521</td>\n",
       "      <td>Erikalrb86</td>\n",
       "      <td>https://twitter.com/Erikalrb86/status/15955925...</td>\n",
       "      <td>A dit^dura da toga continua...  #cpiabusodeaut...</td>\n",
       "    </tr>\n",
       "    <tr>\n",
       "      <th>3</th>\n",
       "      <td>2022-11-23 01:42:46</td>\n",
       "      <td>4128607853</td>\n",
       "      <td>RaphaelRossiter</td>\n",
       "      <td>https://twitter.com/RaphaelRossiter/status/159...</td>\n",
       "      <td>Queremos respostas, queremos  transparências d...</td>\n",
       "    </tr>\n",
       "    <tr>\n",
       "      <th>4</th>\n",
       "      <td>2022-11-23 01:37:28</td>\n",
       "      <td>4128607853</td>\n",
       "      <td>RaphaelRossiter</td>\n",
       "      <td>https://twitter.com/RaphaelRossiter/status/159...</td>\n",
       "      <td>@estadaoverifica @TSEjusbr Queremos respostas,...</td>\n",
       "    </tr>\n",
       "  </tbody>\n",
       "</table>\n",
       "</div>"
      ],
      "text/plain": [
       "           created_at            author_id         username  \\\n",
       "0 2022-11-25 20:53:11  1587172706306473989  Luciane32890118   \n",
       "1 2022-11-25 16:27:19            820617853        deqqlugar   \n",
       "2 2022-11-24 01:38:07  1151289025694699521       Erikalrb86   \n",
       "3 2022-11-23 01:42:46           4128607853  RaphaelRossiter   \n",
       "4 2022-11-23 01:37:28           4128607853  RaphaelRossiter   \n",
       "\n",
       "                                           tweet_url  \\\n",
       "0  https://twitter.com/Luciane32890118/status/159...   \n",
       "1  https://twitter.com/deqqlugar/status/159617873...   \n",
       "2  https://twitter.com/Erikalrb86/status/15955925...   \n",
       "3  https://twitter.com/RaphaelRossiter/status/159...   \n",
       "4  https://twitter.com/RaphaelRossiter/status/159...   \n",
       "\n",
       "                                                text  \n",
       "0  @leandroruschel Não, pois nossos direitos fora...  \n",
       "1  Retroceder, jamais! #Eleicoes2022 #BrazilWasSt...  \n",
       "2  A dit^dura da toga continua...  #cpiabusodeaut...  \n",
       "3  Queremos respostas, queremos  transparências d...  \n",
       "4  @estadaoverifica @TSEjusbr Queremos respostas,...  "
      ]
     },
     "execution_count": 39,
     "metadata": {},
     "output_type": "execute_result"
    }
   ],
   "source": [
    "df_tweets_filtered.head(5)"
   ]
  },
  {
   "cell_type": "code",
   "execution_count": 40,
   "id": "98e5a920-7a7a-4a95-91f6-d3e5d71f55fc",
   "metadata": {},
   "outputs": [
    {
     "data": {
      "text/plain": [
       "(2083, 5)"
      ]
     },
     "execution_count": 40,
     "metadata": {},
     "output_type": "execute_result"
    }
   ],
   "source": [
    "df_tweets_filtered.shape"
   ]
  },
  {
   "cell_type": "code",
   "execution_count": 41,
   "id": "3561bd45-62e1-41e9-bd68-03d72345e162",
   "metadata": {},
   "outputs": [
    {
     "data": {
      "text/plain": [
       "created_at    datetime64[ns]\n",
       "author_id              int64\n",
       "username              object\n",
       "tweet_url             object\n",
       "text                  object\n",
       "dtype: object"
      ]
     },
     "execution_count": 41,
     "metadata": {},
     "output_type": "execute_result"
    }
   ],
   "source": [
    "df_tweets_filtered.dtypes"
   ]
  },
  {
   "cell_type": "markdown",
   "id": "917bf454-dfe4-4a8b-b803-8edfad5a32fd",
   "metadata": {},
   "source": [
    "## Replacing hashtags"
   ]
  },
  {
   "cell_type": "code",
   "execution_count": 42,
   "id": "9e19a96f-7fab-4f6b-85f4-60dd933485b9",
   "metadata": {},
   "outputs": [],
   "source": [
    "# Defining a function to format the hashtagged string\n",
    "def format_hashtagged_string(input_line):\n",
    "    # Defining a function to format the hashtagged string using RegEx\n",
    "    def process_hashtagged_string(s):\n",
    "            # Lowercase the string\n",
    "            s = s.lower()\n",
    "            # Add the appropriate prefixes and suffixes\n",
    "            s = f'HASHTAG{s}_h'\n",
    "            return s\n",
    "\n",
    "    # Use RegEx to find and process each hashtagged string\n",
    "    processed_line = re.sub(r'(#\\w+)', lambda match: process_hashtagged_string(match.group(1)), input_line)\n",
    "    return processed_line\n",
    "\n",
    "# Formatting the hashtagged strings\n",
    "df_tweets_filtered['text'] = df_tweets_filtered['text'].apply(format_hashtagged_string)"
   ]
  },
  {
   "cell_type": "markdown",
   "id": "268d8c1a-2600-4b18-a1c7-0141fdcd40ea",
   "metadata": {},
   "source": [
    "## Replacing emojis"
   ]
  },
  {
   "cell_type": "markdown",
   "id": "3478255c-a7a8-48f0-9608-999dc92464a4",
   "metadata": {},
   "source": [
    "### Demojifying the column `text`"
   ]
  },
  {
   "cell_type": "code",
   "execution_count": 43,
   "id": "2341baec-2fa0-4ee8-82cf-1522257ab02f",
   "metadata": {},
   "outputs": [],
   "source": [
    "# Defining a function to demojify a string\n",
    "def demojify_line(input_line):\n",
    "    demojified_line = demoji.replace_with_desc(input_line, sep='<em>')\n",
    "    return demojified_line\n",
    "\n",
    "df_tweets_filtered['text'] = df_tweets_filtered['text'].apply(demojify_line)"
   ]
  },
  {
   "cell_type": "markdown",
   "id": "08405272-4072-4cbe-92c0-c221d3848181",
   "metadata": {},
   "source": [
    "#### Exporting the filtered data into a file for inspection"
   ]
  },
  {
   "cell_type": "code",
   "execution_count": 44,
   "id": "34ade362-d195-446a-ac16-cc88c5b6c7a7",
   "metadata": {},
   "outputs": [],
   "source": [
    "df_tweets_filtered[['text']].to_csv('tweets_emojified1.tsv', sep='\\t', index=False, encoding='utf-8', lineterminator='\\n')"
   ]
  },
  {
   "cell_type": "markdown",
   "id": "820ee493-3e57-4d46-817d-b7a4af0b0722",
   "metadata": {},
   "source": [
    "### Separating the demojified strings with spaces"
   ]
  },
  {
   "cell_type": "code",
   "execution_count": 45,
   "id": "9d55d111-b676-4569-89a0-a1c4ec2e57be",
   "metadata": {},
   "outputs": [],
   "source": [
    "# Defining a function to separate the demojified strings with spaces\n",
    "def preprocess_line(input_line):\n",
    "    # Add a space before the first delimiter '<em>', if it is not already preceded by one\n",
    "    preprocessed_line = re.sub(r'(?<! )<em>', ' <em>', input_line)\n",
    "    # Add a space after the first delimiter '<em>', if it is not already followed by one\n",
    "    preprocessed_line = re.sub(r'<em>(?! )', '<em> ', preprocessed_line)\n",
    "    return preprocessed_line\n",
    "\n",
    "# Separating the demojified strings with spaces\n",
    "df_tweets_filtered['text'] = df_tweets_filtered['text'].apply(preprocess_line)"
   ]
  },
  {
   "cell_type": "markdown",
   "id": "6acb282a-30a2-4401-80ac-305aa5f9d7c5",
   "metadata": {},
   "source": [
    "#### Exporting the filtered data into a file for inspection"
   ]
  },
  {
   "cell_type": "code",
   "execution_count": 46,
   "id": "fa3fce08-90f6-4e6a-97f7-ae69517a3689",
   "metadata": {},
   "outputs": [],
   "source": [
    "df_tweets_filtered[['text']].to_csv('tweets_emojified2.tsv', sep='\\t', index=False, encoding='utf-8', lineterminator='\\n')"
   ]
  },
  {
   "cell_type": "markdown",
   "id": "2b2b2004-f565-44f9-9d43-31bf393170d8",
   "metadata": {},
   "source": [
    "### Formatting the demojified strings"
   ]
  },
  {
   "cell_type": "code",
   "execution_count": 47,
   "id": "2357ac57-bf81-4377-9a21-90fb79d1fcd8",
   "metadata": {},
   "outputs": [],
   "source": [
    "# Defining a function to format the demojified string\n",
    "def format_demojified_string(input_line):\n",
    "    # Defining a function to format the demojified string using RegEx\n",
    "    def process_demojified_string(s):\n",
    "            # Lowercase the string\n",
    "            s = s.lower()\n",
    "            # Replace spaces and colons followed by a space with underscores\n",
    "            s = re.sub(r'(: )| ', '_', s)\n",
    "            # Add the appropriate prefixes and suffixes\n",
    "            s = f'EMOJI{s}e'\n",
    "            return s\n",
    "\n",
    "    # Use RegEx to find and process each demojified string\n",
    "    processed_line = re.sub(r'<em>(.*?)<em>', lambda match: process_demojified_string(match.group(1)), input_line)\n",
    "    return processed_line\n",
    "\n",
    "# Formatting the demojified strings\n",
    "df_tweets_filtered['text'] = df_tweets_filtered['text'].apply(format_demojified_string)"
   ]
  },
  {
   "cell_type": "markdown",
   "id": "e743b0db-02a0-4e0b-b0b5-d6659960bc30",
   "metadata": {},
   "source": [
    "### Replacing the `pipe` character by the `-` character in the `text` column"
   ]
  },
  {
   "cell_type": "markdown",
   "id": "bc943030-7448-4d4d-98b8-b03c40e113e2",
   "metadata": {},
   "source": [
    "Further on, a few columns of the dataframe are going to be exported into the file `tweets.txt` whose columns need to be delimited by the `pipe` character. Therefore, it is recommended that any occurrences of the `pipe` character in the `text` column are replaced by another character."
   ]
  },
  {
   "cell_type": "code",
   "execution_count": 48,
   "id": "ab1c3584-ae80-41fc-b03a-4286a564a798",
   "metadata": {},
   "outputs": [],
   "source": [
    "# Defining a function to replace the 'pipe' character by the '-' character\n",
    "def replace_pipe_with_hyphen(input_string):\n",
    "    modified_string = re.sub(r'\\|', '-', input_string)\n",
    "    return modified_string\n",
    "\n",
    "# Replacing the 'pipe' character by the '-' character\n",
    "df_tweets_filtered['text'] = df_tweets_filtered['text'].apply(replace_pipe_with_hyphen)"
   ]
  },
  {
   "cell_type": "markdown",
   "id": "5a3d28f3-7d63-4c02-ba55-0dbc957a4291",
   "metadata": {},
   "source": [
    "#### Exporting the filtered data into a file for inspection"
   ]
  },
  {
   "cell_type": "code",
   "execution_count": 49,
   "id": "aab47cc6-5888-418a-8e4f-97daaf2ac3ac",
   "metadata": {},
   "outputs": [],
   "source": [
    "df_tweets_filtered[['text']].to_csv('tweets_emojified3.tsv', sep='\\t', index=False, encoding='utf-8', lineterminator='\\n')"
   ]
  },
  {
   "cell_type": "markdown",
   "id": "776d4ca4-2999-47d3-ae97-b4f3a7599d84",
   "metadata": {},
   "source": [
    "## Tokenising"
   ]
  },
  {
   "cell_type": "markdown",
   "id": "1f950bc7-9ffa-4d96-9ce0-439643f90a55",
   "metadata": {},
   "source": [
    "Please refer to [What is tokenization in NLP?](https://www.analyticsvidhya.com/blog/2020/05/what-is-tokenization-nlp/)."
   ]
  },
  {
   "cell_type": "code",
   "execution_count": 50,
   "id": "9c1d393e-e85d-48f8-93f2-d7dfec6a2062",
   "metadata": {},
   "outputs": [],
   "source": [
    "# Defining a function to tokenise a string\n",
    "def tokenise_string(input_line):\n",
    "    # Replace URLs with placeholders\n",
    "    url_pattern = r'http[s]?://(?:[a-zA-Z]|[0-9]|[$-_@.&+]|[!*\\\\(\\\\),]|(?:%[0-9a-fA-F][0-9a-fA-F]))+\\b'\n",
    "    placeholder = '<URL>'  # Choose a unique placeholder\n",
    "    urls = re.findall(url_pattern, input_line)\n",
    "    tokenised_line = re.sub(url_pattern, placeholder, input_line)  # Replace URLs with placeholders\n",
    "    \n",
    "    # Replace curly quotes with straight ones\n",
    "    tokenised_line = tokenised_line.replace('“', '\"').replace('”', '\"').replace(\"‘\", \"'\").replace(\"’\", \"'\")\n",
    "    # Separate common punctuation marks with spaces\n",
    "    tokenised_line = re.sub(r'([.\\!?,\"\\'/()])', r' \\1 ', tokenised_line)\n",
    "    # Add a space before '#'\n",
    "    tokenised_line = re.sub(r'(?<!\\s)#', r' #', tokenised_line)  # Add a space before '#' if it is not already preceded by one\n",
    "    # Reduce extra spaces by a single space\n",
    "    tokenised_line = re.sub(r'\\s+', ' ', tokenised_line)\n",
    "    \n",
    "    # Replace the placeholders with the respective URLs\n",
    "    for url in urls:\n",
    "        tokenised_line = tokenised_line.replace(placeholder, url, 1)\n",
    "    \n",
    "    return tokenised_line\n",
    "\n",
    "# Tokenising the strings\n",
    "df_tweets_filtered['text'] = df_tweets_filtered['text'].apply(tokenise_string)"
   ]
  },
  {
   "cell_type": "markdown",
   "id": "edad8cc4-bd36-4d7a-905e-55173081cd85",
   "metadata": {},
   "source": [
    "## Creating the files `file_index.txt` and `tweets.txt`"
   ]
  },
  {
   "cell_type": "markdown",
   "id": "d9a908ea-85cd-4ded-b752-2ce8ccee6f62",
   "metadata": {},
   "source": [
    "### Creating column `text_id`"
   ]
  },
  {
   "cell_type": "code",
   "execution_count": 51,
   "id": "e69b8a02-8d66-4227-838a-020f8e458225",
   "metadata": {},
   "outputs": [],
   "source": [
    "df_tweets_filtered['text_id'] = 't' + df_tweets_filtered.index.astype(str).str.zfill(6)"
   ]
  },
  {
   "cell_type": "markdown",
   "id": "b08ecbc7-802a-4546-b770-bd94372e58f7",
   "metadata": {},
   "source": [
    "### Creating column `conversation`"
   ]
  },
  {
   "cell_type": "code",
   "execution_count": 52,
   "id": "b26c71e4-6d0a-4f1f-a343-412755ec2dda",
   "metadata": {},
   "outputs": [],
   "source": [
    "df_tweets_filtered['author_id'] = df_tweets_filtered['author_id'].astype(str)"
   ]
  },
  {
   "cell_type": "code",
   "execution_count": 53,
   "id": "2ad070c7-3caf-4eb8-8dfe-eba469fe0ed2",
   "metadata": {},
   "outputs": [],
   "source": [
    "df_tweets_filtered['conversation'] = 'v:' + df_tweets_filtered['author_id'].str.replace('id_', '')"
   ]
  },
  {
   "cell_type": "markdown",
   "id": "b85be5b3-f3ec-4061-a9c7-6d29591a8efd",
   "metadata": {},
   "source": [
    "### Creating column `date`"
   ]
  },
  {
   "cell_type": "code",
   "execution_count": 54,
   "id": "dc30acc9-8d7d-41ef-9e33-2367d4c1462e",
   "metadata": {},
   "outputs": [],
   "source": [
    "# Convert 'created_at' to datetime format\n",
    "df_tweets_filtered['created_at'] = pd.to_datetime(df_tweets_filtered['created_at'])\n",
    "\n",
    "# Extract the date part (without time) into a new column 'date'\n",
    "df_tweets_filtered['date'] = df_tweets_filtered['created_at'].dt.date\n",
    "\n",
    "# Add the prefix 'd:' to the 'date' values\n",
    "df_tweets_filtered['date'] = 'd:' + df_tweets_filtered['date'].astype(str)"
   ]
  },
  {
   "cell_type": "markdown",
   "id": "1067eec7-aedb-4bba-8241-5d5d000f6226",
   "metadata": {},
   "source": [
    "### Creating column `text_url`"
   ]
  },
  {
   "cell_type": "code",
   "execution_count": 55,
   "id": "6a5dec9e-0791-4b40-b59e-b46b62d400ec",
   "metadata": {},
   "outputs": [],
   "source": [
    "df_tweets_filtered['text_url'] = 'url:' + df_tweets_filtered['tweet_url']"
   ]
  },
  {
   "cell_type": "markdown",
   "id": "d27c35b3-69bc-4039-aa13-6b496f81c729",
   "metadata": {},
   "source": [
    "### Creating column `user`"
   ]
  },
  {
   "cell_type": "code",
   "execution_count": 56,
   "id": "5700d8af-3be8-4a60-bd3d-1ddf3df356ca",
   "metadata": {},
   "outputs": [],
   "source": [
    "df_tweets_filtered['user'] = 'u:' + df_tweets_filtered['username']"
   ]
  },
  {
   "cell_type": "markdown",
   "id": "ba1d2a83-b1a0-4db7-b9d3-e6d91202402c",
   "metadata": {},
   "source": [
    "### Creating column `content`"
   ]
  },
  {
   "cell_type": "code",
   "execution_count": 57,
   "id": "cd9313bd-6cbe-487c-a152-de678559260d",
   "metadata": {},
   "outputs": [],
   "source": [
    "df_tweets_filtered['content'] = 'c:' + df_tweets_filtered['text']"
   ]
  },
  {
   "cell_type": "markdown",
   "id": "d11872fa-2b44-4302-ab43-f98f64692eaf",
   "metadata": {},
   "source": [
    "### Reordering the created columns"
   ]
  },
  {
   "cell_type": "markdown",
   "id": "1538070e-1838-454f-a761-549e2bd5bc36",
   "metadata": {},
   "source": [
    "Please refer to:\n",
    "- [Python - List Comprehension 1](https://www.w3schools.com/python/python_lists_comprehension.asp)\n",
    "- [Python - List Comprehension 2](https://treyhunner.com/2015/12/python-list-comprehensions-now-in-color/)"
   ]
  },
  {
   "cell_type": "code",
   "execution_count": 58,
   "id": "afc325f4-43c7-4ba8-b10f-130974d8c191",
   "metadata": {},
   "outputs": [],
   "source": [
    "# Reorder the columns (we use list comprehension to create a list of all columns except 'text_id', 'variable', 'date' and 'text_url')\n",
    "df_tweets_filtered = df_tweets_filtered[['text_id', 'conversation', 'date', 'text_url', 'user', 'content'] + [col for col in df_tweets_filtered.columns if col not in ['text_id', 'conversation', 'date', 'text_url', 'user', 'content']]]"
   ]
  },
  {
   "cell_type": "code",
   "execution_count": 59,
   "id": "1217907f-187c-4d64-a97a-e7a9c607f6dc",
   "metadata": {},
   "outputs": [
    {
     "data": {
      "text/html": [
       "<div>\n",
       "<style scoped>\n",
       "    .dataframe tbody tr th:only-of-type {\n",
       "        vertical-align: middle;\n",
       "    }\n",
       "\n",
       "    .dataframe tbody tr th {\n",
       "        vertical-align: top;\n",
       "    }\n",
       "\n",
       "    .dataframe thead th {\n",
       "        text-align: right;\n",
       "    }\n",
       "</style>\n",
       "<table border=\"1\" class=\"dataframe\">\n",
       "  <thead>\n",
       "    <tr style=\"text-align: right;\">\n",
       "      <th></th>\n",
       "      <th>text_id</th>\n",
       "      <th>conversation</th>\n",
       "      <th>date</th>\n",
       "      <th>text_url</th>\n",
       "      <th>user</th>\n",
       "      <th>content</th>\n",
       "      <th>created_at</th>\n",
       "      <th>author_id</th>\n",
       "      <th>username</th>\n",
       "      <th>tweet_url</th>\n",
       "      <th>text</th>\n",
       "    </tr>\n",
       "  </thead>\n",
       "  <tbody>\n",
       "    <tr>\n",
       "      <th>0</th>\n",
       "      <td>t000000</td>\n",
       "      <td>v:1587172706306473989</td>\n",
       "      <td>d:2022-11-25</td>\n",
       "      <td>url:https://twitter.com/Luciane32890118/status...</td>\n",
       "      <td>u:Luciane32890118</td>\n",
       "      <td>c:@leandroruschel Não , pois nossos direitos f...</td>\n",
       "      <td>2022-11-25 20:53:11</td>\n",
       "      <td>1587172706306473989</td>\n",
       "      <td>Luciane32890118</td>\n",
       "      <td>https://twitter.com/Luciane32890118/status/159...</td>\n",
       "      <td>@leandroruschel Não , pois nossos direitos for...</td>\n",
       "    </tr>\n",
       "    <tr>\n",
       "      <th>1</th>\n",
       "      <td>t000001</td>\n",
       "      <td>v:820617853</td>\n",
       "      <td>d:2022-11-25</td>\n",
       "      <td>url:https://twitter.com/deqqlugar/status/15961...</td>\n",
       "      <td>u:deqqlugar</td>\n",
       "      <td>c:Retroceder , jamais ! HASHTAG #eleicoes2022_...</td>\n",
       "      <td>2022-11-25 16:27:19</td>\n",
       "      <td>820617853</td>\n",
       "      <td>deqqlugar</td>\n",
       "      <td>https://twitter.com/deqqlugar/status/159617873...</td>\n",
       "      <td>Retroceder , jamais ! HASHTAG #eleicoes2022_h ...</td>\n",
       "    </tr>\n",
       "    <tr>\n",
       "      <th>2</th>\n",
       "      <td>t000002</td>\n",
       "      <td>v:1151289025694699521</td>\n",
       "      <td>d:2022-11-24</td>\n",
       "      <td>url:https://twitter.com/Erikalrb86/status/1595...</td>\n",
       "      <td>u:Erikalrb86</td>\n",
       "      <td>c:A dit^dura da toga continua . . . HASHTAG #c...</td>\n",
       "      <td>2022-11-24 01:38:07</td>\n",
       "      <td>1151289025694699521</td>\n",
       "      <td>Erikalrb86</td>\n",
       "      <td>https://twitter.com/Erikalrb86/status/15955925...</td>\n",
       "      <td>A dit^dura da toga continua . . . HASHTAG #cpi...</td>\n",
       "    </tr>\n",
       "    <tr>\n",
       "      <th>3</th>\n",
       "      <td>t000003</td>\n",
       "      <td>v:4128607853</td>\n",
       "      <td>d:2022-11-23</td>\n",
       "      <td>url:https://twitter.com/RaphaelRossiter/status...</td>\n",
       "      <td>u:RaphaelRossiter</td>\n",
       "      <td>c:Queremos respostas , queremos transparências...</td>\n",
       "      <td>2022-11-23 01:42:46</td>\n",
       "      <td>4128607853</td>\n",
       "      <td>RaphaelRossiter</td>\n",
       "      <td>https://twitter.com/RaphaelRossiter/status/159...</td>\n",
       "      <td>Queremos respostas , queremos transparências d...</td>\n",
       "    </tr>\n",
       "    <tr>\n",
       "      <th>4</th>\n",
       "      <td>t000004</td>\n",
       "      <td>v:4128607853</td>\n",
       "      <td>d:2022-11-23</td>\n",
       "      <td>url:https://twitter.com/RaphaelRossiter/status...</td>\n",
       "      <td>u:RaphaelRossiter</td>\n",
       "      <td>c:@estadaoverifica @TSEjusbr Queremos resposta...</td>\n",
       "      <td>2022-11-23 01:37:28</td>\n",
       "      <td>4128607853</td>\n",
       "      <td>RaphaelRossiter</td>\n",
       "      <td>https://twitter.com/RaphaelRossiter/status/159...</td>\n",
       "      <td>@estadaoverifica @TSEjusbr Queremos respostas ...</td>\n",
       "    </tr>\n",
       "    <tr>\n",
       "      <th>...</th>\n",
       "      <td>...</td>\n",
       "      <td>...</td>\n",
       "      <td>...</td>\n",
       "      <td>...</td>\n",
       "      <td>...</td>\n",
       "      <td>...</td>\n",
       "      <td>...</td>\n",
       "      <td>...</td>\n",
       "      <td>...</td>\n",
       "      <td>...</td>\n",
       "      <td>...</td>\n",
       "    </tr>\n",
       "    <tr>\n",
       "      <th>2078</th>\n",
       "      <td>t002078</td>\n",
       "      <td>v:1256657036827295744</td>\n",
       "      <td>d:2021-07-14</td>\n",
       "      <td>url:https://twitter.com/Norma25714352/status/1...</td>\n",
       "      <td>u:Norma25714352</td>\n",
       "      <td>c:@DeputadoFederal Uhuu tomara que seja o pont...</td>\n",
       "      <td>2021-07-14 01:15:12</td>\n",
       "      <td>1256657036827295744</td>\n",
       "      <td>Norma25714352</td>\n",
       "      <td>https://twitter.com/Norma25714352/status/14151...</td>\n",
       "      <td>@DeputadoFederal Uhuu tomara que seja o pontap...</td>\n",
       "    </tr>\n",
       "    <tr>\n",
       "      <th>2079</th>\n",
       "      <td>t002079</td>\n",
       "      <td>v:1256657036827295744</td>\n",
       "      <td>d:2021-07-14</td>\n",
       "      <td>url:https://twitter.com/Norma25714352/status/1...</td>\n",
       "      <td>u:Norma25714352</td>\n",
       "      <td>c:@ClaraFernanndez HASHTAG #danielsilveirapres...</td>\n",
       "      <td>2021-07-14 01:04:03</td>\n",
       "      <td>1256657036827295744</td>\n",
       "      <td>Norma25714352</td>\n",
       "      <td>https://twitter.com/Norma25714352/status/14151...</td>\n",
       "      <td>@ClaraFernanndez HASHTAG #danielsilveirapresop...</td>\n",
       "    </tr>\n",
       "    <tr>\n",
       "      <th>2080</th>\n",
       "      <td>t002080</td>\n",
       "      <td>v:1256657036827295744</td>\n",
       "      <td>d:2021-07-14</td>\n",
       "      <td>url:https://twitter.com/Norma25714352/status/1...</td>\n",
       "      <td>u:Norma25714352</td>\n",
       "      <td>c:@flferronato Uma vergonha HASHTAG #danielsil...</td>\n",
       "      <td>2021-07-14 00:39:28</td>\n",
       "      <td>1256657036827295744</td>\n",
       "      <td>Norma25714352</td>\n",
       "      <td>https://twitter.com/Norma25714352/status/14151...</td>\n",
       "      <td>@flferronato Uma vergonha HASHTAG #danielsilve...</td>\n",
       "    </tr>\n",
       "    <tr>\n",
       "      <th>2081</th>\n",
       "      <td>t002081</td>\n",
       "      <td>v:1256657036827295744</td>\n",
       "      <td>d:2021-07-13</td>\n",
       "      <td>url:https://twitter.com/Norma25714352/status/1...</td>\n",
       "      <td>u:Norma25714352</td>\n",
       "      <td>c:@OmarAzizSenador HASHTAG #danielsilveirapres...</td>\n",
       "      <td>2021-07-13 23:58:05</td>\n",
       "      <td>1256657036827295744</td>\n",
       "      <td>Norma25714352</td>\n",
       "      <td>https://twitter.com/Norma25714352/status/14150...</td>\n",
       "      <td>@OmarAzizSenador HASHTAG #danielsilveirapresop...</td>\n",
       "    </tr>\n",
       "    <tr>\n",
       "      <th>2082</th>\n",
       "      <td>t002082</td>\n",
       "      <td>v:1256657036827295744</td>\n",
       "      <td>d:2021-07-13</td>\n",
       "      <td>url:https://twitter.com/Norma25714352/status/1...</td>\n",
       "      <td>u:Norma25714352</td>\n",
       "      <td>c:@IaraCruzBrasil @IzabelleFores HASHTAG #dani...</td>\n",
       "      <td>2021-07-13 22:37:08</td>\n",
       "      <td>1256657036827295744</td>\n",
       "      <td>Norma25714352</td>\n",
       "      <td>https://twitter.com/Norma25714352/status/14150...</td>\n",
       "      <td>@IaraCruzBrasil @IzabelleFores HASHTAG #daniel...</td>\n",
       "    </tr>\n",
       "  </tbody>\n",
       "</table>\n",
       "<p>2083 rows × 11 columns</p>\n",
       "</div>"
      ],
      "text/plain": [
       "      text_id           conversation          date  \\\n",
       "0     t000000  v:1587172706306473989  d:2022-11-25   \n",
       "1     t000001            v:820617853  d:2022-11-25   \n",
       "2     t000002  v:1151289025694699521  d:2022-11-24   \n",
       "3     t000003           v:4128607853  d:2022-11-23   \n",
       "4     t000004           v:4128607853  d:2022-11-23   \n",
       "...       ...                    ...           ...   \n",
       "2078  t002078  v:1256657036827295744  d:2021-07-14   \n",
       "2079  t002079  v:1256657036827295744  d:2021-07-14   \n",
       "2080  t002080  v:1256657036827295744  d:2021-07-14   \n",
       "2081  t002081  v:1256657036827295744  d:2021-07-13   \n",
       "2082  t002082  v:1256657036827295744  d:2021-07-13   \n",
       "\n",
       "                                               text_url               user  \\\n",
       "0     url:https://twitter.com/Luciane32890118/status...  u:Luciane32890118   \n",
       "1     url:https://twitter.com/deqqlugar/status/15961...        u:deqqlugar   \n",
       "2     url:https://twitter.com/Erikalrb86/status/1595...       u:Erikalrb86   \n",
       "3     url:https://twitter.com/RaphaelRossiter/status...  u:RaphaelRossiter   \n",
       "4     url:https://twitter.com/RaphaelRossiter/status...  u:RaphaelRossiter   \n",
       "...                                                 ...                ...   \n",
       "2078  url:https://twitter.com/Norma25714352/status/1...    u:Norma25714352   \n",
       "2079  url:https://twitter.com/Norma25714352/status/1...    u:Norma25714352   \n",
       "2080  url:https://twitter.com/Norma25714352/status/1...    u:Norma25714352   \n",
       "2081  url:https://twitter.com/Norma25714352/status/1...    u:Norma25714352   \n",
       "2082  url:https://twitter.com/Norma25714352/status/1...    u:Norma25714352   \n",
       "\n",
       "                                                content          created_at  \\\n",
       "0     c:@leandroruschel Não , pois nossos direitos f... 2022-11-25 20:53:11   \n",
       "1     c:Retroceder , jamais ! HASHTAG #eleicoes2022_... 2022-11-25 16:27:19   \n",
       "2     c:A dit^dura da toga continua . . . HASHTAG #c... 2022-11-24 01:38:07   \n",
       "3     c:Queremos respostas , queremos transparências... 2022-11-23 01:42:46   \n",
       "4     c:@estadaoverifica @TSEjusbr Queremos resposta... 2022-11-23 01:37:28   \n",
       "...                                                 ...                 ...   \n",
       "2078  c:@DeputadoFederal Uhuu tomara que seja o pont... 2021-07-14 01:15:12   \n",
       "2079  c:@ClaraFernanndez HASHTAG #danielsilveirapres... 2021-07-14 01:04:03   \n",
       "2080  c:@flferronato Uma vergonha HASHTAG #danielsil... 2021-07-14 00:39:28   \n",
       "2081  c:@OmarAzizSenador HASHTAG #danielsilveirapres... 2021-07-13 23:58:05   \n",
       "2082  c:@IaraCruzBrasil @IzabelleFores HASHTAG #dani... 2021-07-13 22:37:08   \n",
       "\n",
       "                author_id         username  \\\n",
       "0     1587172706306473989  Luciane32890118   \n",
       "1               820617853        deqqlugar   \n",
       "2     1151289025694699521       Erikalrb86   \n",
       "3              4128607853  RaphaelRossiter   \n",
       "4              4128607853  RaphaelRossiter   \n",
       "...                   ...              ...   \n",
       "2078  1256657036827295744    Norma25714352   \n",
       "2079  1256657036827295744    Norma25714352   \n",
       "2080  1256657036827295744    Norma25714352   \n",
       "2081  1256657036827295744    Norma25714352   \n",
       "2082  1256657036827295744    Norma25714352   \n",
       "\n",
       "                                              tweet_url  \\\n",
       "0     https://twitter.com/Luciane32890118/status/159...   \n",
       "1     https://twitter.com/deqqlugar/status/159617873...   \n",
       "2     https://twitter.com/Erikalrb86/status/15955925...   \n",
       "3     https://twitter.com/RaphaelRossiter/status/159...   \n",
       "4     https://twitter.com/RaphaelRossiter/status/159...   \n",
       "...                                                 ...   \n",
       "2078  https://twitter.com/Norma25714352/status/14151...   \n",
       "2079  https://twitter.com/Norma25714352/status/14151...   \n",
       "2080  https://twitter.com/Norma25714352/status/14151...   \n",
       "2081  https://twitter.com/Norma25714352/status/14150...   \n",
       "2082  https://twitter.com/Norma25714352/status/14150...   \n",
       "\n",
       "                                                   text  \n",
       "0     @leandroruschel Não , pois nossos direitos for...  \n",
       "1     Retroceder , jamais ! HASHTAG #eleicoes2022_h ...  \n",
       "2     A dit^dura da toga continua . . . HASHTAG #cpi...  \n",
       "3     Queremos respostas , queremos transparências d...  \n",
       "4     @estadaoverifica @TSEjusbr Queremos respostas ...  \n",
       "...                                                 ...  \n",
       "2078  @DeputadoFederal Uhuu tomara que seja o pontap...  \n",
       "2079  @ClaraFernanndez HASHTAG #danielsilveirapresop...  \n",
       "2080  @flferronato Uma vergonha HASHTAG #danielsilve...  \n",
       "2081  @OmarAzizSenador HASHTAG #danielsilveirapresop...  \n",
       "2082  @IaraCruzBrasil @IzabelleFores HASHTAG #daniel...  \n",
       "\n",
       "[2083 rows x 11 columns]"
      ]
     },
     "execution_count": 59,
     "metadata": {},
     "output_type": "execute_result"
    }
   ],
   "source": [
    "df_tweets_filtered"
   ]
  },
  {
   "cell_type": "markdown",
   "id": "921f23e3-bc12-4150-8bf1-557184b40d1b",
   "metadata": {},
   "source": [
    "### Creating the file `file_index.txt`"
   ]
  },
  {
   "cell_type": "code",
   "execution_count": 60,
   "id": "199bbbe5-a366-4fde-9314-f0de3d49c379",
   "metadata": {},
   "outputs": [],
   "source": [
    "df_tweets_filtered[['text_id', 'conversation', 'date', 'text_url']].to_csv('file_index.txt', sep=' ', index=False, header=False, encoding='utf-8', lineterminator='\\n')"
   ]
  },
  {
   "cell_type": "markdown",
   "id": "fd415c21-39dc-4083-9632-e5cd92fa6948",
   "metadata": {},
   "source": [
    "### Creating the file `tweets.txt`"
   ]
  },
  {
   "cell_type": "code",
   "execution_count": 61,
   "id": "5445fc96-0b9f-4283-80b3-09b1bddeab91",
   "metadata": {},
   "outputs": [
    {
     "name": "stdout",
     "output_type": "stream",
     "text": [
      "Folder tweets already exists\n"
     ]
    }
   ],
   "source": [
    "folder = 'tweets'\n",
    "try:\n",
    "    os.mkdir(folder)\n",
    "    print(f'Folder {folder} created!')\n",
    "except FileExistsError:\n",
    "    print(f'Folder {folder} already exists')"
   ]
  },
  {
   "cell_type": "markdown",
   "id": "8de49e26-5efe-472f-9952-cef41fcda082",
   "metadata": {},
   "source": [
    "Note: The parameters `doublequote=False` and `escapechar=' '` are required to avoid that the column content is doublequoted with '\"' in sentences that use characters that need to be escaped such as double quote '\"' itself - this causes a malformed response from TreeTagger."
   ]
  },
  {
   "cell_type": "code",
   "execution_count": 62,
   "id": "3b566e03-56e4-44a8-8558-b6e940bb6193",
   "metadata": {},
   "outputs": [],
   "source": [
    "df_tweets_filtered[['text_id', 'conversation', 'date', 'user', 'content']].to_csv(f'{folder}/tweets.txt', sep='|', index=False, header=False, encoding='utf-8', lineterminator='\\n', doublequote=False, escapechar=' ')"
   ]
  },
  {
   "cell_type": "markdown",
   "id": "2f769843-4ff9-4436-a2e0-d61e2c391e9d",
   "metadata": {},
   "source": [
    "## Tagging with TreeTagger"
   ]
  },
  {
   "cell_type": "markdown",
   "id": "f3877be9-6317-42ee-8e8d-c15c48f77996",
   "metadata": {},
   "source": [
    "- On Visual Studio Code (VS Code), open the folder where your project is located with `Open Folder...`\n",
    "- Open a WSL Ubuntu Terminal on VS Code\n",
    "- **Important**: Activate the `my_env` Python environment by executing `source \"$HOME\"/my_env/bin/activate`\n",
    "- Proceed as indicated"
   ]
  },
  {
   "cell_type": "markdown",
   "id": "720724ab-5e77-4e9e-b05a-24cf73259cd0",
   "metadata": {},
   "source": [
    "Purpose: Annotate the texts in `tweets/tweets.txt` with part-of-speech and lemma information.\n",
    "- Input\n",
    "    - `file_index.txt`\n",
    "    - `tweets/tweets.txt`\n",
    "- Output\n",
    "    - `tweets/tagged.txt`"
   ]
  },
  {
   "cell_type": "markdown",
   "id": "9005cc09-f5ef-454f-9b74-4d7ca9fe4f10",
   "metadata": {
    "vscode": {
     "languageId": "raw"
    }
   },
   "source": [
    "```\n",
    "eyamrog@Rog-ASUS:/mnt/c/Users/eyamr/Downloads$ source \"$HOME\"/my_env/bin/activate\n",
    "(my_env) eyamrog@Rog-ASUS:/mnt/c/Users/eyamr/Downloads$ bash treetagging.sh\n",
    "--- treetagging t000000 / t018205 ---\n",
    "        reading parameters ...\n",
    "        tagging ...\n",
    "         finished.\n",
    "--- treetagging t000001 / t018205 ---\n",
    "        reading parameters ...\n",
    "        tagging ...\n",
    "         finished.\n",
    "--- treetagging t000002 / t018205 ---\n",
    "        reading parameters ...\n",
    "        tagging ...\n",
    "         finished.\n",
    "--- treetagging t000003 / t018205 ---\n",
    "        reading parameters ...\n",
    "        tagging ...\n",
    "         finished.\n",
    "<omitted>\n",
    "```"
   ]
  },
  {
   "cell_type": "markdown",
   "id": "fa0060ba-d01c-4e48-a353-8c9ba0fc456e",
   "metadata": {},
   "source": [
    "## Processing `tokenstypes`"
   ]
  },
  {
   "cell_type": "markdown",
   "id": "93351bf2-3457-4b47-8a47-7ff13c4e0e1a",
   "metadata": {},
   "source": [
    "Purpose: Capture the content tokens (specific occurrences of words) and the content types (general concept of words) from `tweets/tagged.txt`.\n",
    "- Input\n",
    "    - `file_index.txt`\n",
    "    - `tweets/tagged.txt`\n",
    "- Output\n",
    "    - `tweets/tokens.txt`\n",
    "    - `tweets/types.txt`"
   ]
  },
  {
   "cell_type": "markdown",
   "id": "6cddc717-8ff2-4f38-ae10-8d6616de6a6c",
   "metadata": {
    "vscode": {
     "languageId": "raw"
    }
   },
   "source": [
    "```\n",
    "eyamrog@Rog-ASUS:/mnt/c/Users/eyamr/Downloads$ source \"$HOME\"/my_env/bin/activate\n",
    "(my_env) eyamrog@Rog-ASUS:/mnt/c/Users/eyamr/Downloads$ bash tokenstypes.sh\n",
    "--- tokenstypes t000000 / 18206 ---\n",
    "--- tokenstypes t000001 / 18206 ---\n",
    "--- tokenstypes t000002 / 18206 ---\n",
    "--- tokenstypes t000003 / 18206 ---\n",
    "--- tokenstypes t000004 / 18206 ---\n",
    "--- tokenstypes t000005 / 18206 ---\n",
    "<omitted>\n",
    "```"
   ]
  },
  {
   "cell_type": "markdown",
   "id": "ef598329-fb5a-4b07-8799-b2bbb55847f1",
   "metadata": {},
   "source": [
    "## Processing `toplemmas`"
   ]
  },
  {
   "cell_type": "markdown",
   "id": "79ce5796-0434-44d5-88e2-8f934a6cebc8",
   "metadata": {},
   "source": [
    "Purpose: Determine the 1.000 top lemmas. **Important**: This process requires manual inspection. Non-meaningful lemmas should be excluded by updating `stoplist.sed` and reiterating the processing. Proceed as indicated in this [video tutorial](https://youtu.be/4UIPpdoozP0?si=_3md9w79njZY86PE), from 20:05 to 25:16.\n",
    "- Input\n",
    "    - `tweets/types.txt`\n",
    "    - `stoplist.sed`: List of rules that allows the exclusion of a certain lemmas\n",
    "- Output\n",
    "    - `selectedwords` = `var_index.txt`"
   ]
  },
  {
   "cell_type": "markdown",
   "id": "13b0fc8e-73e2-4e2d-9e2f-73068e4132fc",
   "metadata": {
    "vscode": {
     "languageId": "raw"
    }
   },
   "source": [
    "```\n",
    "eyamrog@Rog-ASUS:/mnt/c/Users/eyamr/Downloads$ source \"$HOME\"/my_env/bin/activate\n",
    "(my_env) eyamrog@Rog-ASUS:/mnt/c/Users/eyamr/Downloads$ bash toplemmas.sh\n",
    "```"
   ]
  },
  {
   "cell_type": "markdown",
   "id": "eb0a4675-5067-4e8b-8ca8-baf9f1b915c1",
   "metadata": {},
   "source": [
    "## Processing `sas`"
   ]
  },
  {
   "cell_type": "markdown",
   "id": "b0d158b2-73d7-477e-a7a7-2b87216a19ae",
   "metadata": {},
   "source": [
    "Purpose: Prepare input data for processing in SAS.\n",
    "- Input\n",
    "    - `tweets/types.txt`\n",
    "    - `selectedwords`\n",
    "    - `file_index.txt`\n",
    "- Output\n",
    "    - `columns`\n",
    "    - `sas/data.txt`\n",
    "    - `sas/dates.txt`\n",
    "    - `sas/wcount.txt`"
   ]
  },
  {
   "cell_type": "markdown",
   "id": "0d250d29-861c-41a6-9793-e0df758100e0",
   "metadata": {
    "vscode": {
     "languageId": "raw"
    }
   },
   "source": [
    "```\n",
    "eyamrog@Rog-ASUS:/mnt/c/Users/eyamr/Downloads$ source \"$HOME\"/my_env/bin/activate\n",
    "(my_env) eyamrog@Rog-ASUS:/mnt/c/Users/eyamr/Downloads$ bash sas.sh\n",
    "--- v000001 ---\n",
    "--- v000002 ---\n",
    "--- v000003 ---\n",
    "--- v000004 ---\n",
    "--- v000005 ---\n",
    "<omitted>\n",
    "--- v001000 ---\n",
    "[nltk_data] Downloading package punkt to /home/eyamrog/nltk_data...\n",
    "[nltk_data]   Package punkt is already up-to-date!\n",
    "Word counts written to sas/wcount.txt\n",
    "```"
   ]
  },
  {
   "cell_type": "markdown",
   "id": "0e8087ea-ffd4-43b9-8eda-4444b931c319",
   "metadata": {},
   "source": [
    "## Processing `datamatrix`"
   ]
  },
  {
   "cell_type": "markdown",
   "id": "b4374f48-04b6-48af-a31d-125ef0e85972",
   "metadata": {},
   "source": [
    "Purpose: Prepares input data for calculating the correlation matrix.\n",
    "- Input\n",
    "    - `file_index.txt`\n",
    "    - `columns`\n",
    "    - `selectedwords`\n",
    "- Output\n",
    "    - `file_ids.txt`\n",
    "    - `data.csv`"
   ]
  },
  {
   "cell_type": "markdown",
   "id": "23925f09-05ef-44a5-ba48-78cac1dedc76",
   "metadata": {
    "vscode": {
     "languageId": "raw"
    }
   },
   "source": [
    "```\n",
    "eyamrog@Rog-ASUS:/mnt/c/Users/eyamr/Downloads$ source \"$HOME\"/my_env/bin/activate\n",
    "(my_env) eyamrog@Rog-ASUS:/mnt/c/Users/eyamr/Downloads$ bash datamatrix.sh\n",
    "--- v000001 ---\n",
    "--- v000002 ---\n",
    "--- v000003 ---\n",
    "--- v000004 ---\n",
    "--- v000005 ---\n",
    "<omitted>\n",
    "--- v001000 ---\n",
    "--- data.csv ...---\n",
    "```"
   ]
  },
  {
   "cell_type": "markdown",
   "id": "6130e8f0-a7e5-4f6e-b427-090f7cda4856",
   "metadata": {},
   "source": [
    "## Processing `correlationmatrix`"
   ]
  },
  {
   "cell_type": "markdown",
   "id": "8bddbb87-b4de-4c41-8177-b2f677d803b6",
   "metadata": {},
   "source": [
    "Purpose: Calculates the correlation matrix.\n",
    "- Input\n",
    "    - `data.csv`\n",
    "- Output\n",
    "    - `correlation`"
   ]
  },
  {
   "cell_type": "markdown",
   "id": "42927846-5d87-4f5f-8ce6-8beb4ef733a4",
   "metadata": {
    "vscode": {
     "languageId": "raw"
    }
   },
   "source": [
    "```\n",
    "eyamrog@Rog-ASUS:/mnt/c/Users/eyamr/Downloads$ source \"$HOME\"/my_env/bin/activate\n",
    "(my_env) eyamrog@Rog-ASUS:/mnt/c/Users/eyamr/Downloads$ bash correlationmatrix.sh\n",
    "--- python correlation ... ---\n",
    "```"
   ]
  },
  {
   "cell_type": "markdown",
   "id": "86e9203f-e9e1-4a73-8bed-7dec1ad8617e",
   "metadata": {},
   "source": [
    "## Processing `formats`"
   ]
  },
  {
   "cell_type": "markdown",
   "id": "69517100-c28d-44ba-90a7-37988e3df8ad",
   "metadata": {},
   "source": [
    "Purpose: Prepare input data for processing in SAS.\n",
    "- Input\n",
    "    - `data.csv`\n",
    "    - `selectedwords`\n",
    "- Output\n",
    "    - `sas/corr.txt`\n",
    "    - `sas/word_labels_format.sas`"
   ]
  },
  {
   "cell_type": "markdown",
   "id": "96f9b02f-fd33-4ff2-bf57-463fac9743e6",
   "metadata": {
    "vscode": {
     "languageId": "raw"
    }
   },
   "source": [
    "```\n",
    "eyamrog@Rog-ASUS:/mnt/c/Users/eyamr/Downloads$ source \"$HOME\"/my_env/bin/activate\n",
    "(my_env) eyamrog@Rog-ASUS:/mnt/c/Users/eyamr/Downloads$ bash formats.sh\n",
    "--- sas/sas/corr.txt ---\n",
    "--- sas/word_labels_format.sas ---\n",
    "```"
   ]
  },
  {
   "cell_type": "markdown",
   "id": "71cb5b2a-e203-4b3e-80a9-86b10fc0253c",
   "metadata": {},
   "source": [
    "## Processing the statistical procedures on SAS"
   ]
  },
  {
   "cell_type": "markdown",
   "id": "2ddc9cd8-cd80-41d2-8209-f0a363fd9ab2",
   "metadata": {},
   "source": [
    "- Log in to your [SAS OnDemand for Academics](https://welcome.oda.sas.com/) account\n",
    "- Proceed as indicated in this [video tutorial](https://youtu.be/I3u9zD3jyOA?si=68uIKVc2iusGG2KY)"
   ]
  },
  {
   "cell_type": "markdown",
   "id": "7ed501c0-f6b1-4050-a4eb-a486bb73c036",
   "metadata": {},
   "source": [
    "## Processing `examples`"
   ]
  },
  {
   "cell_type": "markdown",
   "id": "96cef7d2-d981-4d52-b340-3c55ffe0699a",
   "metadata": {},
   "source": [
    "Purpose: Extract examples for analysis.\n",
    "- Input\n",
    "    - `sas/output_\"$project\"/loadtable.html`\n",
    "    - `sas/output_\"$project\"/\"$project\"_scores.tsv`\n",
    "    - `sas/output_\"$project\"/\"$project\"_scores_only.tsv`\n",
    "- Output\n",
    "    - `examples/factors`\n",
    "    - `example files`"
   ]
  },
  {
   "cell_type": "markdown",
   "id": "3cbf820c-016d-4940-940c-82a587f2c22b",
   "metadata": {
    "vscode": {
     "languageId": "raw"
    }
   },
   "source": [
    "```\n",
    "(my_env) eyamrog@Rog-ASUS:/mnt/c/Users/eyamr/Downloads$ bash examples.sh\n",
    "6780\n",
    "1246\n",
    "698\n",
    "123\n",
    "--- examples f1pos ---\n",
    "--- factor 1 pos # 000001 ---\n",
    "tr: warning: an unescaped backslash at end of string is not portable\n",
    "--- factor 1 pos # 000002 ---\n",
    "tr: warning: an unescaped backslash at end of string is not portable\n",
    "--- factor 1 pos # 000003 ---\n",
    "tr: warning: an unescaped backslash at end of string is not portable\n",
    "--- factor 1 pos # 000004 ---\n",
    "tr: warning: an unescaped backslash at end of string is not portable\n",
    "--- factor 1 pos # 000005 ---\n",
    "tr: warning: an unescaped backslash at end of string is not portable\n",
    "<ommitted>\n",
    "```"
   ]
  },
  {
   "cell_type": "code",
   "execution_count": null,
   "id": "bb169464-4f29-4513-b272-46f201deff17",
   "metadata": {},
   "outputs": [],
   "source": []
  }
 ],
 "metadata": {
  "kernelspec": {
   "display_name": "Python 3 (ipykernel)",
   "language": "python",
   "name": "python3"
  },
  "language_info": {
   "codemirror_mode": {
    "name": "ipython",
    "version": 3
   },
   "file_extension": ".py",
   "mimetype": "text/x-python",
   "name": "python",
   "nbconvert_exporter": "python",
   "pygments_lexer": "ipython3",
   "version": "3.12.3"
  }
 },
 "nbformat": 4,
 "nbformat_minor": 5
}
