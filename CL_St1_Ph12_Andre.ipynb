{
 "cells": [
  {
   "cell_type": "markdown",
   "id": "810d9f10-ec19-4b09-8f90-e983e460b319",
   "metadata": {},
   "source": [
    "<center>\n",
    "<img src=\"https://laelgelcpublic.s3.sa-east-1.amazonaws.com/lael_50_years_narrow_white.png.no_years.400px_96dpi.png\" width=\"300\" alt=\"LAEL 50 years logo\">\n",
    "<h3>APPLIED LINGUISTICS GRADUATE PROGRAMME (LAEL)</h3>\n",
    "</center>\n",
    "<hr>"
   ]
  },
  {
   "cell_type": "markdown",
   "id": "888c2c96-2fc3-4a1a-995b-c388036a2a15",
   "metadata": {},
   "source": [
    "# Corpus Linguistics - Study 1 - Phase 1_2 - Andre"
   ]
  },
  {
   "cell_type": "markdown",
   "id": "efff8d8b-6456-4379-974e-d85ffe03bc6e",
   "metadata": {},
   "source": [
    "This solution calculates the figures that describe the design of the Target Corpus:\n",
    "\n",
    "- The `Year` when the tweets were posted;\n",
    "- The `Quantity of tweets per year`;\n",
    "- The `Quantity of lemmas per year`."
   ]
  },
  {
   "cell_type": "markdown",
   "id": "a221bd29-61ab-45b2-af5f-ae37f8b7bf7a",
   "metadata": {},
   "source": [
    "## Required Python packages"
   ]
  },
  {
   "cell_type": "markdown",
   "id": "90eb4c2c-012b-4ea1-9a45-2a2d717133a5",
   "metadata": {},
   "source": [
    "- pandas"
   ]
  },
  {
   "cell_type": "markdown",
   "id": "d81a22bd-0059-4578-bfc6-29ecef3d2a6d",
   "metadata": {},
   "source": [
    "## Importing the required libraries"
   ]
  },
  {
   "cell_type": "code",
   "execution_count": 1,
   "id": "80dde47b-60e9-4001-9587-cac5fac2cdfe",
   "metadata": {},
   "outputs": [],
   "source": [
    "import pandas as pd"
   ]
  },
  {
   "cell_type": "markdown",
   "id": "6ff7c5e9-a6e9-4c02-8294-1db661b05518",
   "metadata": {},
   "source": [
    "## Defining input variables"
   ]
  },
  {
   "cell_type": "code",
   "execution_count": 2,
   "id": "cd9b9ca5-0cff-4d28-b120-8105c5b5ef47",
   "metadata": {},
   "outputs": [],
   "source": [
    "input_directory = 'sas'"
   ]
  },
  {
   "cell_type": "markdown",
   "id": "b301ddf9-3758-42ba-9a6f-c1dd316ded08",
   "metadata": {},
   "source": [
    "## Importing `sas/wcount.txt` into a DataFrame"
   ]
  },
  {
   "cell_type": "code",
   "execution_count": 3,
   "id": "8fb8f459-ed95-4a13-86e3-6f933ca4f10a",
   "metadata": {},
   "outputs": [],
   "source": [
    "# Defining the column names\n",
    "column_names = ['Text ID', 'Quantity of Words']\n",
    "\n",
    "# Importing the file\n",
    "df_wcount = pd.read_csv(f\"{input_directory}/wcount.txt\", sep=' ', header=None, names=column_names)"
   ]
  },
  {
   "cell_type": "code",
   "execution_count": 4,
   "id": "27649345-825e-4012-82e6-6f845de163ef",
   "metadata": {},
   "outputs": [
    {
     "data": {
      "text/html": [
       "<div>\n",
       "<style scoped>\n",
       "    .dataframe tbody tr th:only-of-type {\n",
       "        vertical-align: middle;\n",
       "    }\n",
       "\n",
       "    .dataframe tbody tr th {\n",
       "        vertical-align: top;\n",
       "    }\n",
       "\n",
       "    .dataframe thead th {\n",
       "        text-align: right;\n",
       "    }\n",
       "</style>\n",
       "<table border=\"1\" class=\"dataframe\">\n",
       "  <thead>\n",
       "    <tr style=\"text-align: right;\">\n",
       "      <th></th>\n",
       "      <th>Text ID</th>\n",
       "      <th>Quantity of Words</th>\n",
       "    </tr>\n",
       "  </thead>\n",
       "  <tbody>\n",
       "    <tr>\n",
       "      <th>0</th>\n",
       "      <td>t000000</td>\n",
       "      <td>30</td>\n",
       "    </tr>\n",
       "    <tr>\n",
       "      <th>1</th>\n",
       "      <td>t000001</td>\n",
       "      <td>11</td>\n",
       "    </tr>\n",
       "    <tr>\n",
       "      <th>2</th>\n",
       "      <td>t000002</td>\n",
       "      <td>24</td>\n",
       "    </tr>\n",
       "    <tr>\n",
       "      <th>3</th>\n",
       "      <td>t000003</td>\n",
       "      <td>21</td>\n",
       "    </tr>\n",
       "    <tr>\n",
       "      <th>4</th>\n",
       "      <td>t000004</td>\n",
       "      <td>20</td>\n",
       "    </tr>\n",
       "    <tr>\n",
       "      <th>...</th>\n",
       "      <td>...</td>\n",
       "      <td>...</td>\n",
       "    </tr>\n",
       "    <tr>\n",
       "      <th>2078</th>\n",
       "      <td>t002078</td>\n",
       "      <td>24</td>\n",
       "    </tr>\n",
       "    <tr>\n",
       "      <th>2079</th>\n",
       "      <td>t002079</td>\n",
       "      <td>12</td>\n",
       "    </tr>\n",
       "    <tr>\n",
       "      <th>2080</th>\n",
       "      <td>t002080</td>\n",
       "      <td>14</td>\n",
       "    </tr>\n",
       "    <tr>\n",
       "      <th>2081</th>\n",
       "      <td>t002081</td>\n",
       "      <td>15</td>\n",
       "    </tr>\n",
       "    <tr>\n",
       "      <th>2082</th>\n",
       "      <td>t002082</td>\n",
       "      <td>11</td>\n",
       "    </tr>\n",
       "  </tbody>\n",
       "</table>\n",
       "<p>2083 rows × 2 columns</p>\n",
       "</div>"
      ],
      "text/plain": [
       "      Text ID  Quantity of Words\n",
       "0     t000000                 30\n",
       "1     t000001                 11\n",
       "2     t000002                 24\n",
       "3     t000003                 21\n",
       "4     t000004                 20\n",
       "...       ...                ...\n",
       "2078  t002078                 24\n",
       "2079  t002079                 12\n",
       "2080  t002080                 14\n",
       "2081  t002081                 15\n",
       "2082  t002082                 11\n",
       "\n",
       "[2083 rows x 2 columns]"
      ]
     },
     "execution_count": 4,
     "metadata": {},
     "output_type": "execute_result"
    }
   ],
   "source": [
    "df_wcount"
   ]
  },
  {
   "cell_type": "code",
   "execution_count": 5,
   "id": "e582fe15-3b12-4966-9036-86460e0df513",
   "metadata": {},
   "outputs": [
    {
     "data": {
      "text/plain": [
       "Text ID              object\n",
       "Quantity of Words     int64\n",
       "dtype: object"
      ]
     },
     "execution_count": 5,
     "metadata": {},
     "output_type": "execute_result"
    }
   ],
   "source": [
    "df_wcount.dtypes"
   ]
  },
  {
   "cell_type": "markdown",
   "id": "368d5601-503e-45b3-885d-ea85d0d08bc0",
   "metadata": {},
   "source": [
    "### Checking how many rows are equal to zero and to NaN in all of the columns"
   ]
  },
  {
   "cell_type": "code",
   "execution_count": 6,
   "id": "c923c99f-42f7-4630-a25b-8df468996ba4",
   "metadata": {},
   "outputs": [
    {
     "name": "stdout",
     "output_type": "stream",
     "text": [
      "Rows where the columns are equal to zero: \n",
      "Text ID              0\n",
      "Quantity of Words    0\n",
      "dtype: int64\n",
      "Rows where the columns are equal to NaN: \n",
      "Text ID              0\n",
      "Quantity of Words    0\n",
      "dtype: int64\n"
     ]
    }
   ],
   "source": [
    "# Counting rows where the columns are equal to zero\n",
    "zero_count = (df_wcount == 0).sum()\n",
    "\n",
    "# Counting rows where the columns are equal to NaN\n",
    "nan_count = df_wcount.isna().sum()\n",
    "\n",
    "print(f\"Rows where the columns are equal to zero: \\n{zero_count}\")\n",
    "print(f\"Rows where the columns are equal to NaN: \\n{nan_count}\")"
   ]
  },
  {
   "cell_type": "markdown",
   "id": "a3e1153a-dd24-43a2-aec5-4875cba981bd",
   "metadata": {},
   "source": [
    "## Importing `sas/dates.txt` into a DataFrame"
   ]
  },
  {
   "cell_type": "code",
   "execution_count": 7,
   "id": "dbc55cc7-6f9d-4d77-90e9-48645a58ca9f",
   "metadata": {},
   "outputs": [],
   "source": [
    "# Defining the column names\n",
    "column_names = ['Text ID', 'Year', 'Month', 'Day']\n",
    "\n",
    "# Importing the file\n",
    "df_dates = pd.read_csv(f\"{input_directory}/dates.txt\", sep=' ', header=None, names=column_names)"
   ]
  },
  {
   "cell_type": "code",
   "execution_count": 8,
   "id": "0b93334a-81eb-46f3-9b14-36ee143389b2",
   "metadata": {},
   "outputs": [
    {
     "data": {
      "text/html": [
       "<div>\n",
       "<style scoped>\n",
       "    .dataframe tbody tr th:only-of-type {\n",
       "        vertical-align: middle;\n",
       "    }\n",
       "\n",
       "    .dataframe tbody tr th {\n",
       "        vertical-align: top;\n",
       "    }\n",
       "\n",
       "    .dataframe thead th {\n",
       "        text-align: right;\n",
       "    }\n",
       "</style>\n",
       "<table border=\"1\" class=\"dataframe\">\n",
       "  <thead>\n",
       "    <tr style=\"text-align: right;\">\n",
       "      <th></th>\n",
       "      <th>Text ID</th>\n",
       "      <th>Year</th>\n",
       "      <th>Month</th>\n",
       "      <th>Day</th>\n",
       "    </tr>\n",
       "  </thead>\n",
       "  <tbody>\n",
       "    <tr>\n",
       "      <th>0</th>\n",
       "      <td>t000000</td>\n",
       "      <td>2022</td>\n",
       "      <td>11</td>\n",
       "      <td>25</td>\n",
       "    </tr>\n",
       "    <tr>\n",
       "      <th>1</th>\n",
       "      <td>t000001</td>\n",
       "      <td>2022</td>\n",
       "      <td>11</td>\n",
       "      <td>25</td>\n",
       "    </tr>\n",
       "    <tr>\n",
       "      <th>2</th>\n",
       "      <td>t000002</td>\n",
       "      <td>2022</td>\n",
       "      <td>11</td>\n",
       "      <td>24</td>\n",
       "    </tr>\n",
       "    <tr>\n",
       "      <th>3</th>\n",
       "      <td>t000003</td>\n",
       "      <td>2022</td>\n",
       "      <td>11</td>\n",
       "      <td>23</td>\n",
       "    </tr>\n",
       "    <tr>\n",
       "      <th>4</th>\n",
       "      <td>t000004</td>\n",
       "      <td>2022</td>\n",
       "      <td>11</td>\n",
       "      <td>23</td>\n",
       "    </tr>\n",
       "    <tr>\n",
       "      <th>...</th>\n",
       "      <td>...</td>\n",
       "      <td>...</td>\n",
       "      <td>...</td>\n",
       "      <td>...</td>\n",
       "    </tr>\n",
       "    <tr>\n",
       "      <th>2078</th>\n",
       "      <td>t002078</td>\n",
       "      <td>2021</td>\n",
       "      <td>7</td>\n",
       "      <td>14</td>\n",
       "    </tr>\n",
       "    <tr>\n",
       "      <th>2079</th>\n",
       "      <td>t002079</td>\n",
       "      <td>2021</td>\n",
       "      <td>7</td>\n",
       "      <td>14</td>\n",
       "    </tr>\n",
       "    <tr>\n",
       "      <th>2080</th>\n",
       "      <td>t002080</td>\n",
       "      <td>2021</td>\n",
       "      <td>7</td>\n",
       "      <td>14</td>\n",
       "    </tr>\n",
       "    <tr>\n",
       "      <th>2081</th>\n",
       "      <td>t002081</td>\n",
       "      <td>2021</td>\n",
       "      <td>7</td>\n",
       "      <td>13</td>\n",
       "    </tr>\n",
       "    <tr>\n",
       "      <th>2082</th>\n",
       "      <td>t002082</td>\n",
       "      <td>2021</td>\n",
       "      <td>7</td>\n",
       "      <td>13</td>\n",
       "    </tr>\n",
       "  </tbody>\n",
       "</table>\n",
       "<p>2083 rows × 4 columns</p>\n",
       "</div>"
      ],
      "text/plain": [
       "      Text ID  Year  Month  Day\n",
       "0     t000000  2022     11   25\n",
       "1     t000001  2022     11   25\n",
       "2     t000002  2022     11   24\n",
       "3     t000003  2022     11   23\n",
       "4     t000004  2022     11   23\n",
       "...       ...   ...    ...  ...\n",
       "2078  t002078  2021      7   14\n",
       "2079  t002079  2021      7   14\n",
       "2080  t002080  2021      7   14\n",
       "2081  t002081  2021      7   13\n",
       "2082  t002082  2021      7   13\n",
       "\n",
       "[2083 rows x 4 columns]"
      ]
     },
     "execution_count": 8,
     "metadata": {},
     "output_type": "execute_result"
    }
   ],
   "source": [
    "df_dates"
   ]
  },
  {
   "cell_type": "code",
   "execution_count": 9,
   "id": "367ae927-22c9-4f6c-a514-819782ab9cf2",
   "metadata": {},
   "outputs": [
    {
     "data": {
      "text/plain": [
       "Text ID    object\n",
       "Year        int64\n",
       "Month       int64\n",
       "Day         int64\n",
       "dtype: object"
      ]
     },
     "execution_count": 9,
     "metadata": {},
     "output_type": "execute_result"
    }
   ],
   "source": [
    "df_dates.dtypes"
   ]
  },
  {
   "cell_type": "markdown",
   "id": "12072e00-1323-4353-93e6-7c11d9531fb0",
   "metadata": {},
   "source": [
    "### Checking how many rows are equal to zero and to NaN in all of the columns"
   ]
  },
  {
   "cell_type": "code",
   "execution_count": 10,
   "id": "277f662d-da05-4eb1-89db-aee73242a3ab",
   "metadata": {},
   "outputs": [
    {
     "name": "stdout",
     "output_type": "stream",
     "text": [
      "Rows where the columns are equal to zero: \n",
      "Text ID    0\n",
      "Year       0\n",
      "Month      0\n",
      "Day        0\n",
      "dtype: int64\n",
      "Rows where the columns are equal to NaN: \n",
      "Text ID    0\n",
      "Year       0\n",
      "Month      0\n",
      "Day        0\n",
      "dtype: int64\n"
     ]
    }
   ],
   "source": [
    "# Counting rows where the columns are equal to zero\n",
    "zero_count = (df_dates == 0).sum()\n",
    "\n",
    "# Counting rows where the columns are equal to NaN\n",
    "nan_count = df_dates.isna().sum()\n",
    "\n",
    "print(f\"Rows where the columns are equal to zero: \\n{zero_count}\")\n",
    "print(f\"Rows where the columns are equal to NaN: \\n{nan_count}\")"
   ]
  },
  {
   "cell_type": "markdown",
   "id": "c51c8d68-d643-49fa-ba53-0be67e7dbd49",
   "metadata": {},
   "source": [
    "## Combining DataFrame `df_dates` and `df_wcount` into DataFrame `df_corpus_design`"
   ]
  },
  {
   "cell_type": "code",
   "execution_count": 11,
   "id": "ad1a8480-f8d4-4af8-8eae-6c7769df08b8",
   "metadata": {},
   "outputs": [],
   "source": [
    "# Merging the DataFrames on 'Text ID'\n",
    "merged_df = pd.merge(df_dates, df_wcount, on='Text ID')\n",
    "\n",
    "# Grouping by 'Year' to get 'Quantity of Texts' and 'Quantity of Words'\n",
    "df_corpus_design = merged_df.groupby('Year').agg({\n",
    "    'Text ID': 'count',\n",
    "    'Quantity of Words': 'sum'\n",
    "}).reset_index()\n",
    "\n",
    "# Renaming columns to match the requirements\n",
    "df_corpus_design.rename(columns={'Year': 'Ano'}, inplace=True)\n",
    "df_corpus_design.rename(columns={'Text ID': 'Tuítes'}, inplace=True)\n",
    "df_corpus_design.rename(columns={'Quantity of Words': 'Formas lexicais'}, inplace=True)"
   ]
  },
  {
   "cell_type": "code",
   "execution_count": 12,
   "id": "40abf672-2562-4b6b-bca6-74f1e5093f95",
   "metadata": {},
   "outputs": [
    {
     "data": {
      "text/html": [
       "<div>\n",
       "<style scoped>\n",
       "    .dataframe tbody tr th:only-of-type {\n",
       "        vertical-align: middle;\n",
       "    }\n",
       "\n",
       "    .dataframe tbody tr th {\n",
       "        vertical-align: top;\n",
       "    }\n",
       "\n",
       "    .dataframe thead th {\n",
       "        text-align: right;\n",
       "    }\n",
       "</style>\n",
       "<table border=\"1\" class=\"dataframe\">\n",
       "  <thead>\n",
       "    <tr style=\"text-align: right;\">\n",
       "      <th></th>\n",
       "      <th>Ano</th>\n",
       "      <th>Tuítes</th>\n",
       "      <th>Formas lexicais</th>\n",
       "    </tr>\n",
       "  </thead>\n",
       "  <tbody>\n",
       "    <tr>\n",
       "      <th>0</th>\n",
       "      <td>2011</td>\n",
       "      <td>1</td>\n",
       "      <td>8</td>\n",
       "    </tr>\n",
       "    <tr>\n",
       "      <th>1</th>\n",
       "      <td>2015</td>\n",
       "      <td>1</td>\n",
       "      <td>13</td>\n",
       "    </tr>\n",
       "    <tr>\n",
       "      <th>2</th>\n",
       "      <td>2018</td>\n",
       "      <td>11</td>\n",
       "      <td>319</td>\n",
       "    </tr>\n",
       "    <tr>\n",
       "      <th>3</th>\n",
       "      <td>2019</td>\n",
       "      <td>16</td>\n",
       "      <td>463</td>\n",
       "    </tr>\n",
       "    <tr>\n",
       "      <th>4</th>\n",
       "      <td>2020</td>\n",
       "      <td>141</td>\n",
       "      <td>3509</td>\n",
       "    </tr>\n",
       "    <tr>\n",
       "      <th>5</th>\n",
       "      <td>2021</td>\n",
       "      <td>951</td>\n",
       "      <td>19581</td>\n",
       "    </tr>\n",
       "    <tr>\n",
       "      <th>6</th>\n",
       "      <td>2022</td>\n",
       "      <td>962</td>\n",
       "      <td>21560</td>\n",
       "    </tr>\n",
       "  </tbody>\n",
       "</table>\n",
       "</div>"
      ],
      "text/plain": [
       "    Ano  Tuítes  Formas lexicais\n",
       "0  2011       1                8\n",
       "1  2015       1               13\n",
       "2  2018      11              319\n",
       "3  2019      16              463\n",
       "4  2020     141             3509\n",
       "5  2021     951            19581\n",
       "6  2022     962            21560"
      ]
     },
     "execution_count": 12,
     "metadata": {},
     "output_type": "execute_result"
    }
   ],
   "source": [
    "df_corpus_design"
   ]
  },
  {
   "cell_type": "code",
   "execution_count": 13,
   "id": "87bbe8a2-fa88-409f-a4e1-7d04102a6a18",
   "metadata": {},
   "outputs": [],
   "source": [
    "total_texts = df_corpus_design['Tuítes'].sum()\n",
    "total_words = df_corpus_design['Formas lexicais'].sum()"
   ]
  },
  {
   "cell_type": "code",
   "execution_count": 14,
   "id": "7aa30595-6650-49fb-a38a-df4a66d1392a",
   "metadata": {},
   "outputs": [
    {
     "name": "stdout",
     "output_type": "stream",
     "text": [
      "O total de tuítes é 2083 e o total de formas lexicais é 45453.\n"
     ]
    }
   ],
   "source": [
    "print(f\"O total de tuítes é {total_texts} e o total de formas lexicais é {total_words}.\")"
   ]
  },
  {
   "cell_type": "markdown",
   "id": "0fbd3d58-c100-44e9-947a-8c29e451d3c8",
   "metadata": {},
   "source": [
    "## Appendices"
   ]
  },
  {
   "cell_type": "markdown",
   "id": "c09ad351-361c-42f3-ae58-de1a7192607a",
   "metadata": {},
   "source": [
    "`df_tweets` ended up not needed in the solution. The process of importing it into a DataFrame is kept here for future reference."
   ]
  },
  {
   "cell_type": "markdown",
   "id": "a05a24b9-6f49-4182-a10a-59b08bad5c46",
   "metadata": {},
   "source": [
    "### Defining input variables"
   ]
  },
  {
   "cell_type": "code",
   "execution_count": 15,
   "id": "812b8d57-16cc-4aec-a469-4c9f47be1de5",
   "metadata": {},
   "outputs": [],
   "source": [
    "input_directory1 = 'tweets'"
   ]
  },
  {
   "cell_type": "markdown",
   "id": "838640f5-97b4-4fa3-aa44-9b8702d5d82a",
   "metadata": {},
   "source": [
    "### Importing `tweets/tweets.txt` into a DataFrame"
   ]
  },
  {
   "cell_type": "code",
   "execution_count": 16,
   "id": "45e991c4-dba6-4ba7-83f3-249363fb1edc",
   "metadata": {},
   "outputs": [],
   "source": [
    "# Defining the column names\n",
    "column_names = ['Text ID', 'Conversation', 'Date', 'User', 'Content']\n",
    "\n",
    "# Importing the file\n",
    "df_tweets = pd.read_csv(f\"{input_directory1}/tweets.txt\", sep='|', header=None, names=column_names)"
   ]
  },
  {
   "cell_type": "markdown",
   "id": "88c31ea9-48a9-4c73-afbe-5d2458570e49",
   "metadata": {},
   "source": [
    "### Checking how many rows are equal to zero and to NaN in all of the columns"
   ]
  },
  {
   "cell_type": "code",
   "execution_count": 17,
   "id": "5cbdf755-fbe4-41d4-81be-7bb2c5128bbd",
   "metadata": {},
   "outputs": [
    {
     "name": "stdout",
     "output_type": "stream",
     "text": [
      "Rows where the columns are equal to zero: \n",
      "Text ID         0\n",
      "Conversation    0\n",
      "Date            0\n",
      "User            0\n",
      "Content         0\n",
      "dtype: int64\n",
      "Rows where the columns are equal to NaN: \n",
      "Text ID         0\n",
      "Conversation    0\n",
      "Date            0\n",
      "User            0\n",
      "Content         0\n",
      "dtype: int64\n"
     ]
    }
   ],
   "source": [
    "# Counting rows where the columns are equal to zero\n",
    "zero_count = (df_tweets == 0).sum()\n",
    "\n",
    "# Counting rows where the columns are equal to NaN\n",
    "nan_count = df_tweets.isna().sum()\n",
    "\n",
    "print(f\"Rows where the columns are equal to zero: \\n{zero_count}\")\n",
    "print(f\"Rows where the columns are equal to NaN: \\n{nan_count}\")"
   ]
  },
  {
   "cell_type": "markdown",
   "id": "42ab1f04-083b-464e-882b-70304a85765e",
   "metadata": {},
   "source": [
    "### Extracting the `Year` column from the `Date` column"
   ]
  },
  {
   "cell_type": "code",
   "execution_count": 18,
   "id": "1b6561cb-26f5-4fd8-975c-f195ed0a4fe5",
   "metadata": {},
   "outputs": [],
   "source": [
    "# Extract year using RegEx\n",
    "df_tweets['Year'] = df_tweets['Date'].str.extract(r'^d:(\\d{4})-\\d{2}-\\d{2}')"
   ]
  },
  {
   "cell_type": "code",
   "execution_count": 19,
   "id": "9c1eb06d-0989-4482-9ce5-107a276e82a1",
   "metadata": {},
   "outputs": [
    {
     "data": {
      "text/html": [
       "<div>\n",
       "<style scoped>\n",
       "    .dataframe tbody tr th:only-of-type {\n",
       "        vertical-align: middle;\n",
       "    }\n",
       "\n",
       "    .dataframe tbody tr th {\n",
       "        vertical-align: top;\n",
       "    }\n",
       "\n",
       "    .dataframe thead th {\n",
       "        text-align: right;\n",
       "    }\n",
       "</style>\n",
       "<table border=\"1\" class=\"dataframe\">\n",
       "  <thead>\n",
       "    <tr style=\"text-align: right;\">\n",
       "      <th></th>\n",
       "      <th>Text ID</th>\n",
       "      <th>Conversation</th>\n",
       "      <th>Date</th>\n",
       "      <th>User</th>\n",
       "      <th>Content</th>\n",
       "      <th>Year</th>\n",
       "    </tr>\n",
       "  </thead>\n",
       "  <tbody>\n",
       "    <tr>\n",
       "      <th>0</th>\n",
       "      <td>t000000</td>\n",
       "      <td>v:1587172706306473989</td>\n",
       "      <td>d:2022-11-25</td>\n",
       "      <td>u:Luciane32890118</td>\n",
       "      <td>c:@leandroruschel  Não  ,  pois  nossos  direi...</td>\n",
       "      <td>2022</td>\n",
       "    </tr>\n",
       "    <tr>\n",
       "      <th>1</th>\n",
       "      <td>t000001</td>\n",
       "      <td>v:820617853</td>\n",
       "      <td>d:2022-11-25</td>\n",
       "      <td>u:deqqlugar</td>\n",
       "      <td>c:Retroceder  ,  jamais  !  HASHTAG  #eleicoes...</td>\n",
       "      <td>2022</td>\n",
       "    </tr>\n",
       "    <tr>\n",
       "      <th>2</th>\n",
       "      <td>t000002</td>\n",
       "      <td>v:1151289025694699521</td>\n",
       "      <td>d:2022-11-24</td>\n",
       "      <td>u:Erikalrb86</td>\n",
       "      <td>c:A  dit^dura  da  toga  continua  .  .  .  HA...</td>\n",
       "      <td>2022</td>\n",
       "    </tr>\n",
       "    <tr>\n",
       "      <th>3</th>\n",
       "      <td>t000003</td>\n",
       "      <td>v:4128607853</td>\n",
       "      <td>d:2022-11-23</td>\n",
       "      <td>u:RaphaelRossiter</td>\n",
       "      <td>c:Queremos  respostas  ,  queremos  transparên...</td>\n",
       "      <td>2022</td>\n",
       "    </tr>\n",
       "    <tr>\n",
       "      <th>4</th>\n",
       "      <td>t000004</td>\n",
       "      <td>v:4128607853</td>\n",
       "      <td>d:2022-11-23</td>\n",
       "      <td>u:RaphaelRossiter</td>\n",
       "      <td>c:@estadaoverifica  @TSEjusbr  Queremos  respo...</td>\n",
       "      <td>2022</td>\n",
       "    </tr>\n",
       "    <tr>\n",
       "      <th>...</th>\n",
       "      <td>...</td>\n",
       "      <td>...</td>\n",
       "      <td>...</td>\n",
       "      <td>...</td>\n",
       "      <td>...</td>\n",
       "      <td>...</td>\n",
       "    </tr>\n",
       "    <tr>\n",
       "      <th>2078</th>\n",
       "      <td>t002078</td>\n",
       "      <td>v:1256657036827295744</td>\n",
       "      <td>d:2021-07-14</td>\n",
       "      <td>u:Norma25714352</td>\n",
       "      <td>c:@DeputadoFederal  Uhuu  tomara  que  seja  o...</td>\n",
       "      <td>2021</td>\n",
       "    </tr>\n",
       "    <tr>\n",
       "      <th>2079</th>\n",
       "      <td>t002079</td>\n",
       "      <td>v:1256657036827295744</td>\n",
       "      <td>d:2021-07-14</td>\n",
       "      <td>u:Norma25714352</td>\n",
       "      <td>c:@ClaraFernanndez  HASHTAG  #danielsilveirapr...</td>\n",
       "      <td>2021</td>\n",
       "    </tr>\n",
       "    <tr>\n",
       "      <th>2080</th>\n",
       "      <td>t002080</td>\n",
       "      <td>v:1256657036827295744</td>\n",
       "      <td>d:2021-07-14</td>\n",
       "      <td>u:Norma25714352</td>\n",
       "      <td>c:@flferronato  Uma  vergonha  HASHTAG  #danie...</td>\n",
       "      <td>2021</td>\n",
       "    </tr>\n",
       "    <tr>\n",
       "      <th>2081</th>\n",
       "      <td>t002081</td>\n",
       "      <td>v:1256657036827295744</td>\n",
       "      <td>d:2021-07-13</td>\n",
       "      <td>u:Norma25714352</td>\n",
       "      <td>c:@OmarAzizSenador  HASHTAG  #danielsilveirapr...</td>\n",
       "      <td>2021</td>\n",
       "    </tr>\n",
       "    <tr>\n",
       "      <th>2082</th>\n",
       "      <td>t002082</td>\n",
       "      <td>v:1256657036827295744</td>\n",
       "      <td>d:2021-07-13</td>\n",
       "      <td>u:Norma25714352</td>\n",
       "      <td>c:@IaraCruzBrasil  @IzabelleFores  HASHTAG  #d...</td>\n",
       "      <td>2021</td>\n",
       "    </tr>\n",
       "  </tbody>\n",
       "</table>\n",
       "<p>2083 rows × 6 columns</p>\n",
       "</div>"
      ],
      "text/plain": [
       "      Text ID           Conversation          Date               User  \\\n",
       "0     t000000  v:1587172706306473989  d:2022-11-25  u:Luciane32890118   \n",
       "1     t000001            v:820617853  d:2022-11-25        u:deqqlugar   \n",
       "2     t000002  v:1151289025694699521  d:2022-11-24       u:Erikalrb86   \n",
       "3     t000003           v:4128607853  d:2022-11-23  u:RaphaelRossiter   \n",
       "4     t000004           v:4128607853  d:2022-11-23  u:RaphaelRossiter   \n",
       "...       ...                    ...           ...                ...   \n",
       "2078  t002078  v:1256657036827295744  d:2021-07-14    u:Norma25714352   \n",
       "2079  t002079  v:1256657036827295744  d:2021-07-14    u:Norma25714352   \n",
       "2080  t002080  v:1256657036827295744  d:2021-07-14    u:Norma25714352   \n",
       "2081  t002081  v:1256657036827295744  d:2021-07-13    u:Norma25714352   \n",
       "2082  t002082  v:1256657036827295744  d:2021-07-13    u:Norma25714352   \n",
       "\n",
       "                                                Content  Year  \n",
       "0     c:@leandroruschel  Não  ,  pois  nossos  direi...  2022  \n",
       "1     c:Retroceder  ,  jamais  !  HASHTAG  #eleicoes...  2022  \n",
       "2     c:A  dit^dura  da  toga  continua  .  .  .  HA...  2022  \n",
       "3     c:Queremos  respostas  ,  queremos  transparên...  2022  \n",
       "4     c:@estadaoverifica  @TSEjusbr  Queremos  respo...  2022  \n",
       "...                                                 ...   ...  \n",
       "2078  c:@DeputadoFederal  Uhuu  tomara  que  seja  o...  2021  \n",
       "2079  c:@ClaraFernanndez  HASHTAG  #danielsilveirapr...  2021  \n",
       "2080  c:@flferronato  Uma  vergonha  HASHTAG  #danie...  2021  \n",
       "2081  c:@OmarAzizSenador  HASHTAG  #danielsilveirapr...  2021  \n",
       "2082  c:@IaraCruzBrasil  @IzabelleFores  HASHTAG  #d...  2021  \n",
       "\n",
       "[2083 rows x 6 columns]"
      ]
     },
     "execution_count": 19,
     "metadata": {},
     "output_type": "execute_result"
    }
   ],
   "source": [
    "df_tweets"
   ]
  },
  {
   "cell_type": "code",
   "execution_count": 20,
   "id": "63a3887f-0e97-4f2a-8391-a8786395a9e6",
   "metadata": {},
   "outputs": [
    {
     "data": {
      "text/plain": [
       "Text ID         object\n",
       "Conversation    object\n",
       "Date            object\n",
       "User            object\n",
       "Content         object\n",
       "Year            object\n",
       "dtype: object"
      ]
     },
     "execution_count": 20,
     "metadata": {},
     "output_type": "execute_result"
    }
   ],
   "source": [
    "df_tweets.dtypes"
   ]
  },
  {
   "cell_type": "code",
   "execution_count": null,
   "id": "7ccee629-e1a7-49b6-b2e9-666d53bf4f5f",
   "metadata": {},
   "outputs": [],
   "source": []
  }
 ],
 "metadata": {
  "kernelspec": {
   "display_name": "Python 3 (ipykernel)",
   "language": "python",
   "name": "python3"
  },
  "language_info": {
   "codemirror_mode": {
    "name": "ipython",
    "version": 3
   },
   "file_extension": ".py",
   "mimetype": "text/x-python",
   "name": "python",
   "nbconvert_exporter": "python",
   "pygments_lexer": "ipython3",
   "version": "3.10.12"
  }
 },
 "nbformat": 4,
 "nbformat_minor": 5
}
